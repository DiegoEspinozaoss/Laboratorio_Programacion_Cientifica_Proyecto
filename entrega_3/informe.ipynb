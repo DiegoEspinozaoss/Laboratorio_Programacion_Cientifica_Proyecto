{
  "cells": [
    {
      "cell_type": "markdown",
      "metadata": {
        "cell_id": "516acf1d6e9d4ddb9a8acdeb6b1cca14",
        "deepnote_app_block_visible": true,
        "deepnote_cell_type": "markdown",
        "id": "-MGJGjPDimJI"
      },
      "source": [
        "![](https://www.dii.uchile.cl/wp-content/uploads/2021/06/Magi%CC%81ster-en-Ciencia-de-Datos.png)"
      ]
    },
    {
      "cell_type": "markdown",
      "metadata": {
        "cell_id": "befdb70375f04ab79952117eb63723e7",
        "deepnote_app_block_visible": true,
        "deepnote_cell_type": "markdown",
        "id": "SN4W-_BNimJJ"
      },
      "source": [
        "**MDS7202: Laboratorio de Programación Científica para Ciencia de Datos**\n",
        "\n",
        "### 👨‍🏫👩‍🏫 Cuerpo Docente:\n",
        "\n",
        "- Profesor: Sebastián Tinoco, Stefano Schiappacasse\n",
        "- Auxiliar: Melanie Peña Torres, Valentina Rojas Osorio\n",
        "- Ayudante: Valentina Zuñiga, Ángelo Muñoz\n",
        "\n",
        "### 👨‍💻👩‍💻 Estudiantes:\n",
        "- Estudiante n°1: *Juan Miño*\n",
        "- Estudiante n°2: *Diego Espinoza Núñez*\n",
        "\n",
        "_Por favor, lean detalladamente las instrucciones de la tarea antes de empezar a escribir._\n",
        "\n",
        "---"
      ]
    },
    {
      "cell_type": "markdown",
      "metadata": {
        "id": "2GjshSnpjGcr"
      },
      "source": [
        "### **Instrucciones importantes**\n",
        "\n",
        "1. **Formato del informe**:  \n",
        "   - El informe debe estar integrado dentro de un **Jupyter Notebook**. No es necesario subirlo a una plataforma externa, pero debe cumplir con los siguientes requisitos:  \n",
        "     - Estructura clara y ordenada.  \n",
        "     - Código acompañado de explicaciones detalladas.  \n",
        "     - Resultados presentados de forma visual y analítica.  \n",
        "\n",
        "2. **Descuento por informes deficientes**:  \n",
        "   - Cualquier sección del informe que no tenga una explicación adecuada o no respete el formato será penalizada con un descuento en la nota. Esto incluye código sin comentarios o análisis que no sean coherentes con los resultados presentados.\n",
        "   - **Comentarios sin formatear de ChatGPT o herramientas similares serán penalizados (e.g: \"Inserta tu modelo acá\", etc.)**\n",
        "\n",
        "<center>\n",
        "<img src=\"https://media1.giphy.com/media/ZkIUY6LZJMwrSMQMWu/giphy.gif?cid=6c09b952msc755426bpsadn4sysofcpqczczi7x1pghd41sw&ep=v1_internal_gif_by_id&rid=giphy.gif&ct=v\" width=\"400\" height=\"300\">"
      ]
    },
    {
      "cell_type": "markdown",
      "metadata": {
        "cell_id": "73dd6ad576224431b010e7650d06156e",
        "deepnote_app_block_visible": true,
        "deepnote_cell_type": "markdown",
        "id": "mMwIvE7AimJK"
      },
      "source": [
        "# 📬 Entrega Parcial 3 (30% del Proyecto)"
      ]
    },
    {
      "cell_type": "markdown",
      "metadata": {
        "id": "rbrEry-nnsfs"
      },
      "source": [
        "### 📪 Fecha de Entrega: \n",
        "\n",
        "Esta entrega cuenta con 2 partes:\n",
        "\n",
        "- **Predicciones**: 1 de Julio, 2 de Julio, 3 de Julio, 4 de Julio\n",
        "- **Informe:** 9 de Julio."
      ]
    },
    {
      "cell_type": "markdown",
      "metadata": {
        "id": "7S9iswjPnxmu"
      },
      "source": [
        "## 📖 Enunciado\n",
        "\n",
        "Después de haber superado con éxito la implementación de sus flujos de trabajo con `Airflow`, el equipo **Deep Drinkers 🤖** ha demostrado que no solo sabe construir modelos, sino también integrarlos en pipelines reales listos para producción.\n",
        "\n",
        "El equipo técnico de **SodAI Drinks 🥤** ha quedado tan satisfecho con la automatización de sus procesos que ahora les ha encomendado una nueva, y final, misión:  \n",
        "- 📊 **Evaluar la calidad real de sus modelos en un entorno más desafiante** \n",
        "- 🧠 **Comunicar los hallazgos de forma clara y profesional frente a una comisión**.\n",
        "\n",
        "<center>\n",
        "<img src=\"https://i.giphy.com/btbUGSHh3f6eBjbDfh.webp\" width=\"350\">\n"
      ]
    },
    {
      "cell_type": "markdown",
      "metadata": {},
      "source": [
        "## 📌 Predicciones\n",
        "<center>\n",
        "<img src=\"https://i.giphy.com/NTMxntb8rMzmbd1x97.webp\" width=\"500\" height=\"300\">\n",
        "</center>"
      ]
    },
    {
      "cell_type": "markdown",
      "metadata": {
        "vscode": {
          "languageId": "plaintext"
        }
      },
      "source": [
        "Su *pipeline* automatizado debe demostrar que puede manejar datos reales en producción. **SodAI Drinks** 🥤 liberará *batches* de datos en fechas diferentes para evaluar si su sistema se adapta correctamente, los cuales simularán la llegada de información nueva (cada batch es una semana).\n",
        "\n",
        "Lo que debe funcionar automáticamente:\n",
        "- **Ejecución Automatizada**: Su DAG de `Airflow` debe ser capaz de procesar cada *batch* de datos de manera automática cuando esté disponible.\n",
        "- **Monitoreo Continuo**: El *pipeline* debe evaluar la calidad de los datos entrantes y detectar posibles desviaciones respecto al conjunto original.\n",
        "- **Decisión de Reentrenamiento**: Basándose en los análisis de *data drift* y métricas de rendimiento, el sistema debe determinar automáticamente si es necesario reentrenar el modelo.\n",
        "- **Tracking Completo**: Todas las ejecuciones, métricas y decisiones deben quedar registradas en `MLFlow` para posterior análisis.\n",
        "- **Generación de Predicciones**: Para cada *batch* procesado, el sistema debe generar las predicciones correspondientes y almacenarlas de manera organizada.\n",
        "\n",
        "**IMPORTANTE: Es imperativo que guarden los resultados de su pipeline (métricas, tracking, predicciones, etc) para su análisis en la siguiente sección.**\n",
        "\n",
        "### 📌Entregable: Competencia en CodaLab\n",
        "\n",
        "<center>\n",
        "<img src=\"https://i.giphy.com/NomCzPIGoXs3EIq77v.webp\" width=\"300\" height=\"300\">\n",
        "</center>\n",
        "\n",
        "Como parte de esta entrega final, el equipo debe utilizar su pipeline entrenado para **generar predicciones en los nuevos conjuntos de datos mencionados anteriormente**.\n",
        "\n",
        "Estas predicciones deben:\n",
        "\n",
        "- Ser generadas directamente desde el *pipeline* previamente desarrollado.  \n",
        "- Guardarse en archivos `.csv` siguiendo el formato requerido.  \n",
        "- Subirse a la plataforma **CodaLab**, donde se realizará la evaluación final.\n",
        "\n",
        "En CodaLab podrán:\n",
        "\n",
        "- Ver el rendimiento de su modelo frente a los de otros equipos.  \n",
        "- Obtener una puntuación basada en la métrica definida del proyecto.  \n",
        "\n",
        "Cada set de predicciones debe ser publicado en CodaLab en las siguientes fechas:\n",
        "- **Predicciones 1 📅** : 1 de Julio (Fecha de predicción: 01/01/25 - 05/01/25)\n",
        "    - Note que para este set de predicciones, sólo tendrán acceso a los datos publicados en la Entrega 1.\n",
        "- **Predicciones 2 📅** : 2 de Julio (Fecha de predicción: 06/01/25 - 12/01/25)\n",
        "- **Predicciones 3 📅** : 3 de Julio (Fecha de predicción: 13/01/25 - 19/01/25)\n",
        "- **Predicciones 4 📅** : 4 de Julio (Fecha de predicción: 20/01/25 - 26/01/25)\n",
        "\n",
        "Para simular la llegada de nuevos datos, se publicarán los siguientes conjuntos de datos:\n",
        "- **Batch 1 📅** : 2 de Julio (Con datos realizados del período 01/01/25 - 05/01/25)\n",
        "- **Batch 2 📅** : 3 de Julio (Con datos realizados del período 06/01/25 - 12/01/25)\n",
        "- **Batch 3 📅** : 4 de Julio (Con datos realizados del período 13/01/25 - 19/01/25)\n",
        "- **Batch 4 📅** 5 de Julio (Con datos realizados del período 20/01/25 - 26/01/25)\n",
        "    - Note como este conjunto de datos se publica **después** de la competencia, por lo que sólo les servirá para la última evaluación requerida en el informe.\n",
        "\n",
        "**IMPORTANTE:** Subir los resultados a tiempo en las tres fechas es **<u>OBLIGATORIO</u>** para la evaluación del desempeño final del equipo. **Por cada fecha en la que no se suban predicciones, se aplicará un descuento de 0.75 puntos (75 décimas) sobre la nota de la Entrega 3.**\n",
        "\n",
        "### 🎁 Bonus [0.5 puntos]\n",
        "\n",
        "Como incentivo adicional, se premiará a los **3 equipos con mejor performance en la métrica F1** con **0.5 puntos de puntaje adicional** sobre la nota de la Entrega 3."
      ]
    },
    {
      "cell_type": "markdown",
      "metadata": {},
      "source": [
        "## 📌 Informe: Performance del modelo [6.0 puntos]\n",
        "\n",
        "En esta sección se espera que el equipo analice de manera retrospectiva el performance de su modelo y saque conclusiones en función de sus resultados. \n",
        "\n",
        "Para esto, tendrán que incurrir en 3 tipos de análisis:\n",
        "\n",
        "- **Individual:** Deben evaluar el performance de su modelo tomando cada semana de forma aislada.\n",
        "\n",
        "- **Comparativo:** Deben evaluar el performance de su modelo *a través* de las semanas, comparando el desempeño entre las semanas e identificando posibles tendencias.\n",
        "    - Para esta parte se espera que generen gráficos de tendencia y tablas comparativas para apoyar su análisis.\n",
        "\n",
        "- **Conclusiones y Aprendizajes:** Deben escribir sus principales conclusiones y aprendizajes de este proyecto. \n",
        "\n",
        "A lo largo de esta sección, se espera que respondan preguntas como:\n",
        "\n",
        "1. ¿Cómo variaron sus métricas a lo largo de los distintos conjuntos de datos? \n",
        "2. ¿En qué momento el modelo tuvo su peor desempeño y por qué?\n",
        "3. ¿Detectaron algún cambio significativo (drift) en la distribución de los datos? ¿Cómo lo identificaron?  \n",
        "4. ¿Tuvieron que reentrenar su modelo con los nuevos datos? ¿Porqué? ¿Ayudó esto al performance de su modelo?\n",
        "4. ¿Qué decisión técnica (modelo, métrica, imputación, etc.) tuvo más impacto en los resultados?  \n",
        "5. ¿Qué hiperparámetro fue el más importante para su modelo? \n",
        "5. ¿Qué variable fue más influyente en las predicciones? ¿Cómo lo interpretan? ¿Cómo cambió su importancia con respecto a las otras variables a lo largo de los batch de datos?\n",
        "6. ¿Qué aprendieron sobre el negocio a partir de los resultados del modelo?\n",
        "7. ¿Qué limitaciones detectaron en su modelo o en los datos?  \n",
        "\n",
        "**IMPORTANTE: Se espera que en sus respuestas hagan referencia a los artefactos (métricas, hiperparámetros, gráficos de interpretabilidad, etc) que su pipeline genera.**\n",
        "\n",
        "<center>\n",
        "<img src=\"https://media1.tenor.com/m/jyQ3SPT1htEAAAAd/i-love-this-performance-even-more-simon-cowell.gif\" width=\"300\" height=\"300\">\n",
        "</center>"
      ]
    },
    {
      "cell_type": "markdown",
      "metadata": {},
      "source": [
        "### 📌 Análisis individual [3.0 puntos]"
      ]
    },
    {
      "cell_type": "markdown",
      "metadata": {},
      "source": [
        "#### 📌 Batch 1 (01/01/25 - 05/01/25) [0.75 puntos]"
      ]
    },
    {
      "cell_type": "code",
      "execution_count": 31,
      "metadata": {},
      "outputs": [
        {
          "name": "stdout",
          "output_type": "stream",
          "text": [
            "Fecha del batch: desde 2025-01-01 hasta 2025-01-05\n",
            "Precisión: 1.000\n",
            "Recall: 0.645\n",
            "Total pares predichos: 2353\n",
            "Total pares reales: 3647\n"
          ]
        },
        {
          "name": "stderr",
          "output_type": "stream",
          "text": [
            "C:\\Users\\juans\\AppData\\Local\\Temp\\ipykernel_39660\\3446651345.py:24: PerformanceWarning: indexing past lexsort depth may impact performance.\n",
            "  universo['y_true'] = universo.apply(lambda row: 1 if ((row['customer_id'], row['product_id']) in batch_real.set_index(['customer_id', 'product_id']).index) else 0, axis=1)\n"
          ]
        },
        {
          "name": "stdout",
          "output_type": "stream",
          "text": [
            "F1 Score (Clase 1): 0.838\n",
            "              precision    recall  f1-score   support\n",
            "\n",
            "           0      0.000     0.000     0.000         0\n",
            "           1      1.000     0.721     0.838      3264\n",
            "\n",
            "    accuracy                          0.721      3264\n",
            "   macro avg      0.500     0.360     0.419      3264\n",
            "weighted avg      1.000     0.721     0.838      3264\n",
            "\n"
          ]
        },
        {
          "name": "stderr",
          "output_type": "stream",
          "text": [
            "c:\\Users\\juans\\AppData\\Local\\Programs\\Python\\Python39\\lib\\site-packages\\sklearn\\metrics\\_classification.py:1509: UndefinedMetricWarning: Recall is ill-defined and being set to 0.0 in labels with no true samples. Use `zero_division` parameter to control this behavior.\n",
            "  _warn_prf(average, modifier, f\"{metric.capitalize()} is\", len(result))\n",
            "c:\\Users\\juans\\AppData\\Local\\Programs\\Python\\Python39\\lib\\site-packages\\sklearn\\metrics\\_classification.py:1509: UndefinedMetricWarning: Recall is ill-defined and being set to 0.0 in labels with no true samples. Use `zero_division` parameter to control this behavior.\n",
            "  _warn_prf(average, modifier, f\"{metric.capitalize()} is\", len(result))\n",
            "c:\\Users\\juans\\AppData\\Local\\Programs\\Python\\Python39\\lib\\site-packages\\sklearn\\metrics\\_classification.py:1509: UndefinedMetricWarning: Recall is ill-defined and being set to 0.0 in labels with no true samples. Use `zero_division` parameter to control this behavior.\n",
            "  _warn_prf(average, modifier, f\"{metric.capitalize()} is\", len(result))\n"
          ]
        }
      ],
      "source": [
        "import pandas as pd\n",
        "from sklearn.metrics import f1_score, classification_report\n",
        "\n",
        "predicciones = pd.read_csv(\"./predictions/pares_pred_batch_t1.csv\", header=None, names=[\"customer_id\", \"product_id\"]).drop_duplicates()\n",
        "batch_real = pd.read_parquet(\"./data/batch_t1.parquet\")\n",
        "batch_real = batch_real[batch_real['items'] > 0][['customer_id', 'product_id', 'purchase_date']].drop_duplicates()\n",
        "\n",
        "batch_real['purchase_date'] = pd.to_datetime(batch_real['purchase_date'], unit='ms')\n",
        "fecha_min = batch_real['purchase_date'].min()\n",
        "fecha_max = batch_real['purchase_date'].max()\n",
        "print(f\"Fecha del batch: desde {fecha_min.date()} hasta {fecha_max.date()}\")\n",
        "\n",
        "pares_correctos = pd.merge(predicciones, batch_real[['customer_id', 'product_id']], on=[\"customer_id\", \"product_id\"]).drop_duplicates()\n",
        "\n",
        "precision = len(pares_correctos) / len(predicciones) if len(predicciones) > 0 else 0\n",
        "recall = len(pares_correctos) / len(batch_real) if len(batch_real) > 0 else 0\n",
        "\n",
        "print(f\"Precisión: {precision:.3f}\")\n",
        "print(f\"Recall: {recall:.3f}\")\n",
        "print(f\"Total pares predichos: {len(predicciones)}\")\n",
        "print(f\"Total pares reales: {len(batch_real)}\")\n",
        "\n",
        "universo = pd.concat([predicciones, batch_real[['customer_id', 'product_id']]]).drop_duplicates()\n",
        "universo['y_true'] = universo.apply(lambda row: 1 if ((row['customer_id'], row['product_id']) in batch_real.set_index(['customer_id', 'product_id']).index) else 0, axis=1)\n",
        "universo['y_pred'] = universo.apply(lambda row: 1 if ((row['customer_id'], row['product_id']) in predicciones.set_index(['customer_id', 'product_id']).index) else 0, axis=1)\n",
        "\n",
        "f1 = f1_score(universo['y_true'], universo['y_pred'], average='binary')\n",
        "print(f\"F1 Score (Clase 1): {f1:.3f}\")\n",
        "print(classification_report(universo['y_true'], universo['y_pred'], digits=3))\n"
      ]
    },
    {
      "cell_type": "markdown",
      "metadata": {},
      "source": [
        "#### 📌 Batch 2 (06/01/25 - 12/01/25) [0.75 puntos]"
      ]
    },
    {
      "cell_type": "code",
      "execution_count": 32,
      "metadata": {},
      "outputs": [
        {
          "name": "stdout",
          "output_type": "stream",
          "text": [
            "Fecha del batch: desde 2025-01-06 hasta 2025-01-12\n",
            "Precisión: 1.000\n",
            "Recall: 0.558\n",
            "Total pares predichos: 3486\n",
            "Total pares reales: 6242\n"
          ]
        },
        {
          "name": "stderr",
          "output_type": "stream",
          "text": [
            "C:\\Users\\juans\\AppData\\Local\\Temp\\ipykernel_39660\\493206833.py:24: PerformanceWarning: indexing past lexsort depth may impact performance.\n",
            "  universo['y_true'] = universo.apply(lambda row: 1 if ((row['customer_id'], row['product_id']) in batch_real.set_index(['customer_id', 'product_id']).index) else 0, axis=1)\n"
          ]
        },
        {
          "name": "stdout",
          "output_type": "stream",
          "text": [
            "F1 Score (Clase 1): 0.812\n",
            "              precision    recall  f1-score   support\n",
            "\n",
            "           0      0.000     0.000     0.000         0\n",
            "           1      1.000     0.683     0.812      5103\n",
            "\n",
            "    accuracy                          0.683      5103\n",
            "   macro avg      0.500     0.342     0.406      5103\n",
            "weighted avg      1.000     0.683     0.812      5103\n",
            "\n"
          ]
        },
        {
          "name": "stderr",
          "output_type": "stream",
          "text": [
            "c:\\Users\\juans\\AppData\\Local\\Programs\\Python\\Python39\\lib\\site-packages\\sklearn\\metrics\\_classification.py:1509: UndefinedMetricWarning: Recall is ill-defined and being set to 0.0 in labels with no true samples. Use `zero_division` parameter to control this behavior.\n",
            "  _warn_prf(average, modifier, f\"{metric.capitalize()} is\", len(result))\n",
            "c:\\Users\\juans\\AppData\\Local\\Programs\\Python\\Python39\\lib\\site-packages\\sklearn\\metrics\\_classification.py:1509: UndefinedMetricWarning: Recall is ill-defined and being set to 0.0 in labels with no true samples. Use `zero_division` parameter to control this behavior.\n",
            "  _warn_prf(average, modifier, f\"{metric.capitalize()} is\", len(result))\n",
            "c:\\Users\\juans\\AppData\\Local\\Programs\\Python\\Python39\\lib\\site-packages\\sklearn\\metrics\\_classification.py:1509: UndefinedMetricWarning: Recall is ill-defined and being set to 0.0 in labels with no true samples. Use `zero_division` parameter to control this behavior.\n",
            "  _warn_prf(average, modifier, f\"{metric.capitalize()} is\", len(result))\n"
          ]
        }
      ],
      "source": [
        "import pandas as pd\n",
        "from sklearn.metrics import f1_score, classification_report\n",
        "\n",
        "predicciones = pd.read_csv(\"./predictions/pares_pred_batch_t2.csv\", header=None, names=[\"customer_id\", \"product_id\"]).drop_duplicates()\n",
        "batch_real = pd.read_parquet(\"./data/batch_t2.parquet\")\n",
        "batch_real = batch_real[batch_real['items'] > 0][['customer_id', 'product_id', 'purchase_date']].drop_duplicates()\n",
        "\n",
        "batch_real['purchase_date'] = pd.to_datetime(batch_real['purchase_date'], unit='ms')\n",
        "fecha_min = batch_real['purchase_date'].min()\n",
        "fecha_max = batch_real['purchase_date'].max()\n",
        "print(f\"Fecha del batch: desde {fecha_min.date()} hasta {fecha_max.date()}\")\n",
        "\n",
        "pares_correctos = pd.merge(predicciones, batch_real[['customer_id', 'product_id']], on=[\"customer_id\", \"product_id\"]).drop_duplicates()\n",
        "\n",
        "precision = len(pares_correctos) / len(predicciones) if len(predicciones) > 0 else 0\n",
        "recall = len(pares_correctos) / len(batch_real) if len(batch_real) > 0 else 0\n",
        "\n",
        "print(f\"Precisión: {precision:.3f}\")\n",
        "print(f\"Recall: {recall:.3f}\")\n",
        "print(f\"Total pares predichos: {len(predicciones)}\")\n",
        "print(f\"Total pares reales: {len(batch_real)}\")\n",
        "\n",
        "universo = pd.concat([predicciones, batch_real[['customer_id', 'product_id']]]).drop_duplicates()\n",
        "universo['y_true'] = universo.apply(lambda row: 1 if ((row['customer_id'], row['product_id']) in batch_real.set_index(['customer_id', 'product_id']).index) else 0, axis=1)\n",
        "universo['y_pred'] = universo.apply(lambda row: 1 if ((row['customer_id'], row['product_id']) in predicciones.set_index(['customer_id', 'product_id']).index) else 0, axis=1)\n",
        "\n",
        "f1 = f1_score(universo['y_true'], universo['y_pred'], average='binary')\n",
        "print(f\"F1 Score (Clase 1): {f1:.3f}\")\n",
        "print(classification_report(universo['y_true'], universo['y_pred'], digits=3))\n"
      ]
    },
    {
      "cell_type": "markdown",
      "metadata": {},
      "source": [
        "#### 📌 Batch 03 (13/01/25 - 19/01/25) [0.75 puntos]"
      ]
    },
    {
      "cell_type": "code",
      "execution_count": 33,
      "metadata": {},
      "outputs": [
        {
          "name": "stdout",
          "output_type": "stream",
          "text": [
            "Fecha del batch: desde 2025-01-13 hasta 2025-01-19\n",
            "Precisión: 1.000\n",
            "Recall: 0.578\n",
            "Total pares predichos: 3447\n",
            "Total pares reales: 5959\n"
          ]
        },
        {
          "name": "stderr",
          "output_type": "stream",
          "text": [
            "C:\\Users\\juans\\AppData\\Local\\Temp\\ipykernel_39660\\246923634.py:24: PerformanceWarning: indexing past lexsort depth may impact performance.\n",
            "  universo['y_true'] = universo.apply(lambda row: 1 if ((row['customer_id'], row['product_id']) in batch_real.set_index(['customer_id', 'product_id']).index) else 0, axis=1)\n"
          ]
        },
        {
          "name": "stdout",
          "output_type": "stream",
          "text": [
            "F1 Score (Clase 1): 0.824\n",
            "              precision    recall  f1-score   support\n",
            "\n",
            "           0      0.000     0.000     0.000         0\n",
            "           1      1.000     0.700     0.824      4922\n",
            "\n",
            "    accuracy                          0.700      4922\n",
            "   macro avg      0.500     0.350     0.412      4922\n",
            "weighted avg      1.000     0.700     0.824      4922\n",
            "\n"
          ]
        },
        {
          "name": "stderr",
          "output_type": "stream",
          "text": [
            "c:\\Users\\juans\\AppData\\Local\\Programs\\Python\\Python39\\lib\\site-packages\\sklearn\\metrics\\_classification.py:1509: UndefinedMetricWarning: Recall is ill-defined and being set to 0.0 in labels with no true samples. Use `zero_division` parameter to control this behavior.\n",
            "  _warn_prf(average, modifier, f\"{metric.capitalize()} is\", len(result))\n",
            "c:\\Users\\juans\\AppData\\Local\\Programs\\Python\\Python39\\lib\\site-packages\\sklearn\\metrics\\_classification.py:1509: UndefinedMetricWarning: Recall is ill-defined and being set to 0.0 in labels with no true samples. Use `zero_division` parameter to control this behavior.\n",
            "  _warn_prf(average, modifier, f\"{metric.capitalize()} is\", len(result))\n",
            "c:\\Users\\juans\\AppData\\Local\\Programs\\Python\\Python39\\lib\\site-packages\\sklearn\\metrics\\_classification.py:1509: UndefinedMetricWarning: Recall is ill-defined and being set to 0.0 in labels with no true samples. Use `zero_division` parameter to control this behavior.\n",
            "  _warn_prf(average, modifier, f\"{metric.capitalize()} is\", len(result))\n"
          ]
        }
      ],
      "source": [
        "import pandas as pd\n",
        "from sklearn.metrics import f1_score, classification_report\n",
        "\n",
        "predicciones = pd.read_csv(\"./predictions/pares_pred_batch_t3.csv\", header=None, names=[\"customer_id\", \"product_id\"]).drop_duplicates()\n",
        "batch_real = pd.read_parquet(\"./data/batch_t3.parquet\")\n",
        "batch_real = batch_real[batch_real['items'] > 0][['customer_id', 'product_id', 'purchase_date']].drop_duplicates()\n",
        "\n",
        "batch_real['purchase_date'] = pd.to_datetime(batch_real['purchase_date'], unit='ms')\n",
        "fecha_min = batch_real['purchase_date'].min()\n",
        "fecha_max = batch_real['purchase_date'].max()\n",
        "print(f\"Fecha del batch: desde {fecha_min.date()} hasta {fecha_max.date()}\")\n",
        "\n",
        "pares_correctos = pd.merge(predicciones, batch_real[['customer_id', 'product_id']], on=[\"customer_id\", \"product_id\"]).drop_duplicates()\n",
        "\n",
        "precision = len(pares_correctos) / len(predicciones) if len(predicciones) > 0 else 0\n",
        "recall = len(pares_correctos) / len(batch_real) if len(batch_real) > 0 else 0\n",
        "\n",
        "print(f\"Precisión: {precision:.3f}\")\n",
        "print(f\"Recall: {recall:.3f}\")\n",
        "print(f\"Total pares predichos: {len(predicciones)}\")\n",
        "print(f\"Total pares reales: {len(batch_real)}\")\n",
        "\n",
        "universo = pd.concat([predicciones, batch_real[['customer_id', 'product_id']]]).drop_duplicates()\n",
        "universo['y_true'] = universo.apply(lambda row: 1 if ((row['customer_id'], row['product_id']) in batch_real.set_index(['customer_id', 'product_id']).index) else 0, axis=1)\n",
        "universo['y_pred'] = universo.apply(lambda row: 1 if ((row['customer_id'], row['product_id']) in predicciones.set_index(['customer_id', 'product_id']).index) else 0, axis=1)\n",
        "\n",
        "f1 = f1_score(universo['y_true'], universo['y_pred'], average='binary')\n",
        "print(f\"F1 Score (Clase 1): {f1:.3f}\")\n",
        "print(classification_report(universo['y_true'], universo['y_pred'], digits=3))\n"
      ]
    },
    {
      "cell_type": "markdown",
      "metadata": {},
      "source": [
        "#### 📌 Batch 04 (20/01/25 - 26/01/25) [0.75 puntos]"
      ]
    },
    {
      "cell_type": "code",
      "execution_count": 34,
      "metadata": {},
      "outputs": [
        {
          "name": "stdout",
          "output_type": "stream",
          "text": [
            "Fecha del batch: desde 2025-01-20 hasta 2025-01-26\n",
            "Precisión: 1.000\n",
            "Recall: 0.589\n",
            "Total pares predichos: 3490\n",
            "Total pares reales: 5930\n"
          ]
        },
        {
          "name": "stderr",
          "output_type": "stream",
          "text": [
            "C:\\Users\\juans\\AppData\\Local\\Temp\\ipykernel_39660\\2869495718.py:24: PerformanceWarning: indexing past lexsort depth may impact performance.\n",
            "  universo['y_true'] = universo.apply(lambda row: 1 if ((row['customer_id'], row['product_id']) in batch_real.set_index(['customer_id', 'product_id']).index) else 0, axis=1)\n"
          ]
        },
        {
          "name": "stdout",
          "output_type": "stream",
          "text": [
            "F1 Score (Clase 1): 0.835\n",
            "              precision    recall  f1-score   support\n",
            "\n",
            "           0      0.000     0.000     0.000         0\n",
            "           1      1.000     0.717     0.835      4866\n",
            "\n",
            "    accuracy                          0.717      4866\n",
            "   macro avg      0.500     0.359     0.418      4866\n",
            "weighted avg      1.000     0.717     0.835      4866\n",
            "\n"
          ]
        },
        {
          "name": "stderr",
          "output_type": "stream",
          "text": [
            "c:\\Users\\juans\\AppData\\Local\\Programs\\Python\\Python39\\lib\\site-packages\\sklearn\\metrics\\_classification.py:1509: UndefinedMetricWarning: Recall is ill-defined and being set to 0.0 in labels with no true samples. Use `zero_division` parameter to control this behavior.\n",
            "  _warn_prf(average, modifier, f\"{metric.capitalize()} is\", len(result))\n",
            "c:\\Users\\juans\\AppData\\Local\\Programs\\Python\\Python39\\lib\\site-packages\\sklearn\\metrics\\_classification.py:1509: UndefinedMetricWarning: Recall is ill-defined and being set to 0.0 in labels with no true samples. Use `zero_division` parameter to control this behavior.\n",
            "  _warn_prf(average, modifier, f\"{metric.capitalize()} is\", len(result))\n",
            "c:\\Users\\juans\\AppData\\Local\\Programs\\Python\\Python39\\lib\\site-packages\\sklearn\\metrics\\_classification.py:1509: UndefinedMetricWarning: Recall is ill-defined and being set to 0.0 in labels with no true samples. Use `zero_division` parameter to control this behavior.\n",
            "  _warn_prf(average, modifier, f\"{metric.capitalize()} is\", len(result))\n"
          ]
        }
      ],
      "source": [
        "import pandas as pd\n",
        "from sklearn.metrics import f1_score, classification_report\n",
        "\n",
        "predicciones = pd.read_csv(\"./predictions/pares_pred_batch_t4.csv\", header=None, names=[\"customer_id\", \"product_id\"]).drop_duplicates()\n",
        "batch_real = pd.read_parquet(\"./data/batch_t4.parquet\")\n",
        "batch_real = batch_real[batch_real['items'] > 0][['customer_id', 'product_id', 'purchase_date']].drop_duplicates()\n",
        "\n",
        "batch_real['purchase_date'] = pd.to_datetime(batch_real['purchase_date'], unit='ms')\n",
        "fecha_min = batch_real['purchase_date'].min()\n",
        "fecha_max = batch_real['purchase_date'].max()\n",
        "print(f\"Fecha del batch: desde {fecha_min.date()} hasta {fecha_max.date()}\")\n",
        "\n",
        "pares_correctos = pd.merge(predicciones, batch_real[['customer_id', 'product_id']], on=[\"customer_id\", \"product_id\"]).drop_duplicates()\n",
        "\n",
        "precision = len(pares_correctos) / len(predicciones) if len(predicciones) > 0 else 0\n",
        "recall = len(pares_correctos) / len(batch_real) if len(batch_real) > 0 else 0\n",
        "\n",
        "print(f\"Precisión: {precision:.3f}\")\n",
        "print(f\"Recall: {recall:.3f}\")\n",
        "print(f\"Total pares predichos: {len(predicciones)}\")\n",
        "print(f\"Total pares reales: {len(batch_real)}\")\n",
        "\n",
        "universo = pd.concat([predicciones, batch_real[['customer_id', 'product_id']]]).drop_duplicates()\n",
        "universo['y_true'] = universo.apply(lambda row: 1 if ((row['customer_id'], row['product_id']) in batch_real.set_index(['customer_id', 'product_id']).index) else 0, axis=1)\n",
        "universo['y_pred'] = universo.apply(lambda row: 1 if ((row['customer_id'], row['product_id']) in predicciones.set_index(['customer_id', 'product_id']).index) else 0, axis=1)\n",
        "\n",
        "f1 = f1_score(universo['y_true'], universo['y_pred'], average='binary')\n",
        "print(f\"F1 Score (Clase 1): {f1:.3f}\")\n",
        "print(classification_report(universo['y_true'], universo['y_pred'], digits=3))\n"
      ]
    },
    {
      "cell_type": "markdown",
      "metadata": {},
      "source": [
        "### 📌 Análisis comparativo [2.0 puntos]"
      ]
    },
    {
      "cell_type": "code",
      "execution_count": 36,
      "metadata": {},
      "outputs": [
        {
          "name": "stderr",
          "output_type": "stream",
          "text": [
            "C:\\Users\\juans\\AppData\\Local\\Temp\\ipykernel_39660\\1806282201.py:31: PerformanceWarning: indexing past lexsort depth may impact performance.\n",
            "  universo['y_true'] = universo.apply(lambda row: 1 if (row['customer_id'], row['product_id']) in batch_real.set_index(['customer_id', 'product_id']).index else 0, axis=1)\n",
            "C:\\Users\\juans\\AppData\\Local\\Temp\\ipykernel_39660\\1806282201.py:31: PerformanceWarning: indexing past lexsort depth may impact performance.\n",
            "  universo['y_true'] = universo.apply(lambda row: 1 if (row['customer_id'], row['product_id']) in batch_real.set_index(['customer_id', 'product_id']).index else 0, axis=1)\n",
            "C:\\Users\\juans\\AppData\\Local\\Temp\\ipykernel_39660\\1806282201.py:31: PerformanceWarning: indexing past lexsort depth may impact performance.\n",
            "  universo['y_true'] = universo.apply(lambda row: 1 if (row['customer_id'], row['product_id']) in batch_real.set_index(['customer_id', 'product_id']).index else 0, axis=1)\n",
            "C:\\Users\\juans\\AppData\\Local\\Temp\\ipykernel_39660\\1806282201.py:31: PerformanceWarning: indexing past lexsort depth may impact performance.\n",
            "  universo['y_true'] = universo.apply(lambda row: 1 if (row['customer_id'], row['product_id']) in batch_real.set_index(['customer_id', 'product_id']).index else 0, axis=1)\n"
          ]
        },
        {
          "name": "stdout",
          "output_type": "stream",
          "text": [
            "   batch   fecha_min   fecha_max  precision    recall  f1_score\n",
            "0      1  2025-01-01  2025-01-05        1.0  0.645188  0.837814\n",
            "1      2  2025-01-06  2025-01-12        1.0  0.558475  0.811736\n",
            "2      3  2025-01-13  2025-01-19        1.0  0.578453  0.823754\n",
            "3      4  2025-01-20  2025-01-26        1.0  0.588533  0.835328\n"
          ]
        },
        {
          "data": {
            "image/png": "[encoded data removed]",
            "text/plain": [
              "<Figure size 800x500 with 1 Axes>"
            ]
          },
          "metadata": {},
          "output_type": "display_data"
        }
      ],
      "source": [
        "import pandas as pd\n",
        "from sklearn.metrics import f1_score\n",
        "import matplotlib.pyplot as plt\n",
        "\n",
        "resultados = []\n",
        "\n",
        "# Definir batches a analizar\n",
        "batches = [1, 2, 3, 4]\n",
        "\n",
        "for batch_num in batches:\n",
        "    pred_path = f\"./predictions/pares_pred_batch_t{batch_num}.csv\"\n",
        "    batch_path = f\"./data/batch_t{batch_num}.parquet\"\n",
        "    \n",
        "    # Cargar predicciones y batch real\n",
        "    predicciones = pd.read_csv(pred_path, header=None, names=[\"customer_id\", \"product_id\"]).drop_duplicates()\n",
        "    batch_real = pd.read_parquet(batch_path)\n",
        "    batch_real = batch_real[batch_real['items'] > 0][['customer_id', 'product_id', 'purchase_date']].drop_duplicates()\n",
        "    \n",
        "    # Obtener fechas\n",
        "    batch_real['purchase_date'] = pd.to_datetime(batch_real['purchase_date'], unit='ms')\n",
        "    fecha_min = batch_real['purchase_date'].min()\n",
        "    fecha_max = batch_real['purchase_date'].max()\n",
        "    \n",
        "    # Métricas de precisión y recall\n",
        "    pares_correctos = pd.merge(predicciones, batch_real[['customer_id', 'product_id']], on=[\"customer_id\", \"product_id\"]).drop_duplicates()\n",
        "    precision = len(pares_correctos) / len(predicciones) if len(predicciones) > 0 else 0\n",
        "    recall = len(pares_correctos) / len(batch_real) if len(batch_real) > 0 else 0\n",
        "\n",
        "    # F1-score\n",
        "    universo = pd.concat([predicciones, batch_real[['customer_id', 'product_id']]]).drop_duplicates()\n",
        "    universo['y_true'] = universo.apply(lambda row: 1 if (row['customer_id'], row['product_id']) in batch_real.set_index(['customer_id', 'product_id']).index else 0, axis=1)\n",
        "    universo['y_pred'] = universo.apply(lambda row: 1 if (row['customer_id'], row['product_id']) in predicciones.set_index(['customer_id', 'product_id']).index else 0, axis=1)\n",
        "    f1 = f1_score(universo['y_true'], universo['y_pred'], average='binary')\n",
        "\n",
        "    resultados.append({\n",
        "        \"batch\": batch_num,\n",
        "        \"fecha_min\": fecha_min.date(),\n",
        "        \"fecha_max\": fecha_max.date(),\n",
        "        \"precision\": precision,\n",
        "        \"recall\": recall,\n",
        "        \"f1_score\": f1\n",
        "    })\n",
        "\n",
        "# Mostrar tabla\n",
        "df_resultados = pd.DataFrame(resultados)\n",
        "print(df_resultados)\n",
        "\n",
        "# Graficar métricas\n",
        "plt.figure(figsize=(8, 5))\n",
        "for metric in ['precision', 'recall', 'f1_score']:\n",
        "    plt.plot(df_resultados['batch'], df_resultados[metric], marker='x', label=metric.capitalize())\n",
        "\n",
        "plt.title(\"Tendencia de Métricas por Batch\")\n",
        "plt.xlabel(\"Batch (Semana)\")\n",
        "plt.ylabel(\"Métrica\")\n",
        "plt.xticks(df_resultados['batch'])\n",
        "plt.legend()\n",
        "plt.tight_layout()\n",
        "plt.show()\n"
      ]
    },
    {
      "cell_type": "markdown",
      "metadata": {},
      "source": [
        "### 📌 Conclusiones y Aprendizajes [1.0 puntos]"
      ]
    },
    {
      "cell_type": "markdown",
      "metadata": {},
      "source": [
        "### Variación de Métricas\n",
        "Nuestro modelo mantuvo una presition = 1 en todas las semanas analizadas. Esto indica que las predicciones realizadas fueron correctas, sin falsos positivos.\n",
        "\n",
        "Sin embargo, observamos una variación en el **recall**:\n",
        "- En la semana 1, el recall alcanzó su valor más alto (**0.645**).\n",
        "- En la semana 2, el recall disminuyó significativamente (**0.558**), marcando el peor desempeño.\n",
        "- En las siguientes semanas, el recall mejoró levemente (**0.578** en semana 3 y **0.589** en semana 4).\n",
        "\n",
        "Esto se reflejó también en el *F1-score*, que mostró su punto más bajo en la semana 2.\n",
        "\n",
        "---\n",
        "\n",
        "### Peor Desempeño\n",
        "La semana 2 fue la peor (batch 2), donde el modelo obtuvo:\n",
        "- Recall más bajo: **0.558**.\n",
        "- F1-score más bajo: **0.812**.\n",
        "\n",
        "El modelo no logró capturar correctamente todas las compras de forma efectiva en esa semana.\n",
        "\n",
        "---\n",
        "\n",
        "### ¿Data Drift?\n",
        "El descenso de recall en la semana 2 puede sugerir un posible cambio en la distribución de los datos.\n",
        "\n",
        "---\n",
        "\n",
        "### ¿Fue Necesario Reentrenar?\n",
        "No creemos necesario reentrenar el modelo, ya que mantiene un buen desempeño global. Pero sí se puede activar el re entrenamiento por el desbalance entre clases, que hace difícil al flujo detemrinar si es necesario re etrenar o no. Si en futuras semanas el recall sigue disminuyendo, sería necesario evaluar un reentrenamiento con batches actualizados.\n",
        "\n",
        "La decisión de utilizar un modelo de árbol de decisión con `class_weight='balanced'` ayudó a controlar esto, ya que optimizó la precisión a costa del recall. Esto explica que el modelo haya evitado falsos positivos.\n",
        "\n",
        "---\n",
        "\n",
        "### Aprendizajes sobre el Negocio\n",
        "- Los clientes presentan un comportamiento de compra predecible, pero con fluctuaciones semanales. Quedaría investigar cómo absorber dichas fluctuaciones.\n",
        "- El modelo es efectivo para identificar patrones de compra usuales.\n",
        "- Es recomendable continuar monitoreando.\n",
        "\n",
        "---\n",
        "\n",
        "### Limitaciones Detectadas\n",
        "- El modelo es muy conservador (alta precisión, bajo recall).\n",
        "- Su capacidad de generalización puede verse afectada en semanas con cambios súbitos en la demanda.\n",
        "- Puede no capturar compras esporádicas o no tan frecuentes.\n"
      ]
    },
    {
      "cell_type": "markdown",
      "metadata": {},
      "source": [
        "## 📁 Estructura de entrega\n",
        "\n",
        "Se espera que su entrega cuente con la siguiente estructura de carpetas:\n",
        "\n",
        "```bash\n",
        "entrega_3/\n",
        "│\n",
        "├── informe.ipynb # Jupyter notebook con sus resultados\n",
        "│\n",
        "├── predictions/ # Carpeta con las predicciones para cada batch de datos\n",
        "│\n",
        "└── data/ # Carpeta con los datos realizados (lo que realmente ocurrió)\n",
        "```"
      ]
    },
    {
      "cell_type": "markdown",
      "metadata": {
        "id": "AM6rrqJ85tmz"
      },
      "source": [
        "Mucho éxito!\n",
        "\n",
        "<center>\n",
        "<img src=\"https://gifdb.com/images/high/may-the-force-be-with-you-anakin-skywalker-n2g5o0pm4h6iylsx.gif\" width=\"400\" height=\"300\">\n"
      ]
    }
  ],
  "metadata": {
    "colab": {
      "provenance": []
    },
    "deepnote_app_layout": "powerful-article",
    "deepnote_app_reactivity_enabled": true,
    "deepnote_notebook_id": "2939a76dd7c14f7f948714e40aa8bd20",
    "kernelspec": {
      "display_name": "Python 3",
      "language": "python",
      "name": "python3"
    },
    "language_info": {
      "codemirror_mode": {
        "name": "ipython",
        "version": 3
      },
      "file_extension": ".py",
      "mimetype": "text/x-python",
      "name": "python",
      "nbconvert_exporter": "python",
      "pygments_lexer": "ipython3",
      "version": "3.9.0"
    }
  },
  "nbformat": 4,
  "nbformat_minor": 0
}
