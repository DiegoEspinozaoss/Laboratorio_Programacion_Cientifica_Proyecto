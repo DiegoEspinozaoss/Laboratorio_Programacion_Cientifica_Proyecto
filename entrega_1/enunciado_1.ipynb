{
  "cells": [
    {
      "cell_type": "markdown",
      "metadata": {
        "id": "w_ct_Wylw-cc"
      },
      "source": [
        "![](https://www.dii.uchile.cl/wp-content/uploads/2021/06/Magi%CC%81ster-en-Ciencia-de-Datos.png)"
      ]
    },
    {
      "cell_type": "markdown",
      "metadata": {
        "id": "8HxhnG_zw-cg"
      },
      "source": [
        "**MDS7202: Laboratorio de Programación Científica para Ciencia de Datos**\n",
        "\n",
        "### 👨‍🏫👩‍🏫 Cuerpo Docente:\n",
        "\n",
        "- Profesor: Sebastián Tinoco, Stefano Schiappacasse\n",
        "- Auxiliar: Melanie Peña Torres, Valentina Rojas Osorio\n",
        "- Ayudante: Valentina Zuñiga, Ángelo Muñoz\n",
        "\n",
        "### 👨‍💻👩‍💻 Estudiantes:\n",
        "- Estudiante n°1: *Juan Miño*\n",
        "- Estudiante n°2: *Diego Espinoza Núñez*\n",
        "\n",
        "_Por favor, lean detalladamente las instrucciones de la tarea antes de empezar a escribir._\n",
        "\n",
        "---"
      ]
    },
    {
      "cell_type": "markdown",
      "metadata": {
        "id": "mPC8QU6Qw-ci"
      },
      "source": [
        "---\n",
        "\n",
        "## 📖 Enunciado"
      ]
    },
    {
      "cell_type": "markdown",
      "metadata": {
        "id": "cs07NgKtw-ci"
      },
      "source": [
        "<div align=\"center\">\n",
        "    <img src='https://github.com/MDS7202/MDS7202/blob/main/recursos/2025-01/proyecto/proyecto.png?raw=true' style=\"border-radius: 12px\">\n",
        "</div>"
      ]
    },
    {
      "cell_type": "markdown",
      "metadata": {
        "id": "-5zQCV98w-ck"
      },
      "source": [
        "En el competitivo universo de las bebidas gaseosas, la empresa **SodAI Drinks 🥤** ha logrado destacarse por su creatividad, diversidad de productos y enfoque centrado en el cliente. Ofrece una extensa gama de bebidas carbonatadas que abarca distintos segmentos del mercado: desde productos premium en presentaciones sofisticadas, hasta gaseosas accesibles para el consumo masivo, disponibles en diversos tamaños y tipos de envases.\n",
        "\n",
        "La compañía opera en múltiples regiones y zonas, sirviendo a una variedad de puntos de venta que incluyen desde tiendas de conveniencia y minimarkets hasta el canal frío tradicional. Cada tipo de cliente tiene sus particularidades: algunos reciben entregas hasta 4 veces por semana, mientras que otros son visitados por la fuerza de ventas solo una vez semanalmente. Esta diversidad de perfiles representa tanto una oportunidad como un desafío comercial: ¿cómo saber qué productos tienen más chances de ser comprados por cada cliente en un momento dado?\n",
        "\n",
        "Con el objetivo de aumentar la facturación de forma inteligente y mejorar la eficiencia de su estrategia de ventas, **SodAI Drinks** decide crear una nueva célula interna de innovación: el equipo **Deep Drinkers 🤖**, cuyo propósito es aplicar ciencia de datos para anticiparse a las necesidades del cliente y potenciar el negocio desde una perspectiva basada en información.\n",
        "\n",
        "El corazón de esta iniciativa es el desarrollo de un sistema predictivo personalizado para cada cliente. Para ello, **Deep Drinkers** convoca a un equipo de Data Scientists y especialistas en *machine learning* con una misión clara: construir un modelo predictivo que, cada semana, pueda estimar la probabilidad de compra de cada producto del portafolio para cada cliente activo.\n",
        "\n",
        "El modelo deberá tener en cuenta múltiples factores, incluyendo:\n",
        "- **Tipo de cliente**, ej. \"TIENDA DE CONVENIENCIA\", \"MINIMARKET\".\n",
        "- **Frecuencia de entregas y visitas**, indicadores del nivel de actividad comercial.\n",
        "- **Ubicación geográfica** (por región y zona).\n",
        "- **Preferencias históricas de consumo**, inferidas por patrones de compra anteriores.\n",
        "- **Características del producto**, como marca, categoría, segmento, tipo de envase y tamaño\n",
        "\n",
        "El objetivo final es que, **cada semana**, se genere una tabla de productos priorizados: para cada cliente, un listado de productos ordenado por su probabilidad estimada de compra. Esta información será enviada al equipo comercial, que podrá usarla en call center, para incrementar las chances de concretar ventas al ofrecer justo lo que el cliente probablemente quiere comprar.\n",
        "\n",
        "Este proyecto representa un cambio de paradigma en la forma en que **SodAI Drinks** gestiona su fuerza de ventas: de un enfoque reactivo y generalista, a uno proactivo, basado en datos y profundamente personalizado. Así, la empresa no solo espera aumentar su rentabilidad, sino también construir relaciones más sólidas con sus clientes, ofreciéndoles recomendaciones más relevantes y oportunas.\n",
        "\n",
        "Para lograr lo anterior, el equipo **Deep Drinkers** contará con los siguientes conjuntos de datos, junto a sus respectivos atributos:\n",
        "\n",
        "- **Datos transaccionales** (`transacciones.parquet`): contiene el historial de compras realizadas por los clientes.\n",
        "\t- `customer_id`: identificador único del cliente que realizó la compra.\n",
        "\t- `product_id`: identificador único del producto comprado.\n",
        "\t- `purchase_date`: fecha en que se realizó la transacción.\n",
        "\t- `order_id`: identificar de la orden de su pedido.\n",
        "\t- `payment`\tmonto total pagado por la transacción.\n",
        "\n",
        "- **Datos de clientes** (`clientes.parquet`): incluye las características de cada cliente.\n",
        "\t- `customer_id`: identificador único del cliente.\n",
        "\t- `region_id`: identificador de la región geográfica donde se encuentra el cliente.\n",
        "\t- `customer_type`: tipo de cliente según el canal comercial, por ejemplo, “TIENDA DE CONVENIENCIA”.\n",
        "\t- `Y`: coordenada geográfica de latitud.\n",
        "\t- `X`: coordenada geográfica de longitud.\n",
        "\t- `num_deliver_per_week`: cantidad de entregas semanales que recibe el cliente.\n",
        "\t- `num_visit_per_week`: frecuencia de visitas de la fuerza de ventas por semana.\n",
        "\n",
        "- **Datos de productos** (`productos.parquet`): describe las características de los productos del portafolio.\n",
        "\t- `product_id`: identificador único del producto.\n",
        "\t- `brand`: marca comercial del producto.\n",
        "\t- `category`: categoría general del producto, como “BEBIDAS CARBONATADAS”.\n",
        "\t- `sub_category`: subcategoría dentro de la categoría principal, por ejemplo, “GASEOSAS”.\n",
        "\t- `segment`: segmento de mercado al que pertenece el producto, como “PREMIUM”.\n",
        "\t- `package`: tipo de envase del producto.\n",
        "\t- `size`: tamaño del producto en litros."
      ]
    },
    {
      "cell_type": "markdown",
      "metadata": {
        "id": "J7jevCF_w-cm"
      },
      "source": [
        "## 📚 Reglas"
      ]
    },
    {
      "cell_type": "markdown",
      "metadata": {
        "id": "oWuEw6AUw-cn"
      },
      "source": [
        "<center>\n",
        "<img src=\"https://media1.tenor.com/m/0Qtv_cQ4ITsAAAAd/necohaus-grey-name.gif\" width=\"450\">"
      ]
    },
    {
      "cell_type": "markdown",
      "metadata": {
        "id": "YJFNQ202w-co"
      },
      "source": [
        "\n",
        "\n",
        "El proyecto consta de **dos entregas parciales** y una **entrega final** en donde la primera entrega la idea es poder reflejar lo aprendido durante la primera mitad del curso, que será sobre los contenidos relacionados a *machine learning*, la segunda será sobre los contenidos de la segunda mitad del curso relacionados a *MLOps* y por último la entrega final constará de dos partes, donde la primera será relacionada con experimentación sobre nuevos datasets que serán disponibilizados durante las últimas semanas del curso de manera incremental y una segunda parte que será el informe final escrito que deberá explicar el desarrollo del proyecto completo, como tambien los resultados y análisis de los experimentos realizados sobre los datasets incrementales. La idea es que todo el código esté desarrollado durante las primeras dos entregas y luego en la entrega final sólo se ejecute el código sobre nuevos conjuntos de datos.\n",
        "\n",
        "La idea de generar el proyecto por etapas es poder aliviar la carga de trabajo en las últimas semanas del semestre donde sabemos que están muy cargado con entregas, pruebas y exámenes de otros ramos, y así garantizamos que habiendo la desarrollado las dos primeras entregas parciales, tendrán el grueso del proyecto listo para luego experimentar y documentar.\n",
        "\n",
        "---\n",
        "### **Fechas de entrega**\n",
        "- **Entrega parcial 1**: 14 de Mayo\n",
        "- **Entrega parcial 2**: Por definir\n",
        "- **Entrega final**: Por definir\n",
        "\n",
        "---\n",
        "\n",
        "### **Requisitos del proyecto**\n",
        "- **Grupos**: Formar equipos de **2 personas**. No se aceptarán trabajos individuales o grupos con más integrantes.\n",
        "- **Consultas**: Cualquier duda fuera del horario de clases debe ser planteada en el foro correspondiente. Los mensajes enviados al equipo docente serán respondidos únicamente por este medio. Por favor, revisen las respuestas anteriores en el foro antes de realizar nuevas consultas.\n",
        "- **Plagio**: La copia o reutilización no autorizada de trabajos de otros grupos está **estrictamente prohibida**. El incumplimiento de esta norma implicará la anulación inmediata del proyecto y una posible sanción académica.\n",
        "- **Material permitido**: Pueden usar cualquier material del curso, ya sea notas, lecturas, códigos, o referencias proporcionadas por los docentes, que consideren útil para el desarrollo del proyecto.\n",
        "\n",
        "---\n",
        "\n",
        "### **Entregables y etapas**\n",
        "\n",
        "#### **1. Entrega Parcial 1**  \n",
        "- Dispondrán de los archivos de datos **productos.parquet**, **clientes.parquet** y **transacciones.parquet** para el modelamiento inicial.  \n",
        "- Utilizarán estos archivos para desarrollar lo solicitado para la entrega 1.\n",
        "- En esta etapa, se espera que apliquen todos los conocimientos aprendidos durante la primera parte del curso relacionados con *machine learning*.\n",
        "- **Informe**: No se exige un avance del informe en esta etapa, sólo un notebook con su desarrollo actual, pero se **recomienda comenzar** a redactar el informe final en paralelo para disminuir la carga académica en las etapas posteriores.  \n",
        "\n",
        "#### **2. Entrega Parcial 2**  \n",
        "- En esta entrega, deberán aplicar los conocimientos aprendidos durante la segunda mitad del curso sobre *MLOps*  \n",
        "- Se espera que implementen estos conocimientos para desplegar su modelo elegido en la primera entrega y crear *pipelines* automatizados que simulen un entorno productivo.\n",
        "- **Informe**: similar a la primera etapa, no se exige un avance del informe, pero se **recomienda avanzar con su redacción** para evitar una acumulación de trabajo en la etapa final.  \n",
        "\n",
        "#### **3. Entrega Final**  \n",
        "- En la entrega final, deberán realizar dos etapas:\n",
        "\t- La primera etapa es sobre experimentación utilizando datasets incrementales que se irán disponibilizando de manera parcial, para que vayan generando predicciones con su modelo ya desplegado. El objetivo de esta etapa es poder testear su solución *end-to-end* y que vayan analizando los resultados obtenidos a medida que se van agregando más datos.\n",
        "\t- La segunda etapa consiste en redactar un informe final que deberá explicar el desarrollo completo de tu proyecto y un análisis profundo de sus resultados de experimentación. Este informe debera incluir a lo menos las siguientes secciones:\n",
        "\t\t- Análisis exploratorio de datos  \n",
        "\t\t- Metodología aplicada  \n",
        "\t\t- Selección y entrenamiento de modelos  \n",
        "\t\t- Evaluación de resultados  \n",
        "\t\t- Optimización de modelos\n",
        "\t\t- Interpretabilidad\n",
        "\t\t- Re-entrenamiento\n",
        "\t\t- Tracking con MLFlow\n",
        "\t\t- Creación de la aplicación web con Gradio y FastAPI\n",
        "\n",
        "Es **altamente recomendable** ir redactando el informe en paralelo al desarrollo de los modelos para garantizar que toda la información relevante quede documentada adecuadamente.  \n",
        "\n",
        "### Nota Final\n",
        "\n",
        "La calificación final de su proyecto se calculará utilizando la siguiente ponderación:\n",
        "\n",
        "$$Nota Final = 0.30 * EntregaParcial1 + 0.40 * EntregaParcial2 + 0.30 * EntregaFinal$$\n",
        "\n",
        "---\n",
        "\n",
        "### **Instrucciones importantes**\n",
        "\n",
        "1. **Formato del informe**:  \n",
        "   - El informe debe estar integrado dentro de un **Jupyter Notebook**. No es necesario subirlo a una plataforma externa, pero debe cumplir con los siguientes requisitos:  \n",
        "     - Estructura clara y ordenada.  \n",
        "     - Código acompañado de explicaciones detalladas.  \n",
        "     - Resultados presentados de forma visual y analítica.  \n",
        "\n",
        "2. **Descuento por informes deficientes**:  \n",
        "   - Cualquier sección del informe que no tenga una explicación adecuada o no respete el formato será penalizada con un descuento en la nota. Esto incluye código sin comentarios o análisis que no sean coherentes con los resultados presentados.\n",
        "   - Comentarios sin formatear de ChatGPT o herramientas similares serán penalizados (e.g: \"Inserta tu modelo acá\", etc.)"
      ]
    },
    {
      "cell_type": "markdown",
      "metadata": {
        "id": "UvtD4Q2ew-cp"
      },
      "source": [
        "# 📬 Entrega Parcial 1 (30% del Proyecto)"
      ]
    },
    {
      "cell_type": "markdown",
      "metadata": {
        "id": "9KXrQZ1Hw-cq"
      },
      "source": [
        "### 📪 Fecha de Entrega: 14 de Mayo"
      ]
    },
    {
      "cell_type": "markdown",
      "metadata": {
        "id": "Iv0QTnrnw-cr"
      },
      "source": [
        "## 📌 Abstract [0.25 puntos]\n",
        "\n",
        "<center>\n",
        "<img src=\"https://i.redd.it/h5ptnsyabqvd1.gif\" width=\"400\" height=\"300\">"
      ]
    },
    {
      "cell_type": "markdown",
      "metadata": {
        "id": "ZkgwuOl9w-cs"
      },
      "source": [
        "En esta sección, deben redactar un Abstract claro y conciso para su proyecto. El Abstract debe responder a las siguientes preguntas clave:\n",
        "\n",
        "- **Descripción del problema**: ¿Cuál es el objetivo del proyecto? ¿Qué se intenta predecir o analizar?\n",
        "- **Datos de entrada**: ¿Qué datos tienen disponibles? ¿Cuáles son sus principales características?\n",
        "- **Métrica de evaluación**: ¿Cómo medirán el desempeño de sus modelos? Expliquen por qué eligieron esta métrica basándose en el análisis exploratorio de los datos.\n",
        "- **Modelos y transformaciones**: ¿Qué modelos utilizarán y por qué? ¿Qué transformaciones o preprocesamientos aplicaron a los datos?\n",
        "- **Resultados generales**: ¿El modelo final cumplió con los objetivos del proyecto? ¿Cuáles fueron las conclusiones más importantes?\n",
        "\n",
        "**Importante**: Escriban esto despues de haber resuelto el resto de la tarea."
      ]
    },
    {
      "cell_type": "markdown",
      "metadata": {
        "id": "tereTKiGw-cs"
      },
      "source": [
        "> [Escriba aquí su Abstract]\n",
        "\n",
        "El objetivo del proyecto es entrenar uno o más modelos (uno superior al anterior), intentando predecir si una persona comprará uno o más productos, y para todos los productos, y estos modelos son específicamene clasificadores de esas dos instancias.\n",
        "\n",
        "Los datos disponibles o de los que disponemos son aquellos que consisten en tres bases de datos: en primer lugar las personas con sus transacciones y los productos que cada una de ellas compró.\n",
        "\n",
        "La métrica que elejimos para medir el desempeño de nuestros modelos será el F1-score weighted debido a que como veremos adelante, nuestras clases 0 y 1 (no compradores y compradores) están desbalanceadas, por lo que el f1-score viene bien al ser un balance adecuado del recall y la precisión.\n",
        "\n",
        "Los modelos que utilizaremos será un Baseline (que es un Dummy Classifier que asigna aleatoria y uniformemente la clase), una Regresión Logística, un XGBoost y un Árbol de Decisión. Elejimos un baseline como el modelo más empobrecido para tener una idea de comparación, y elejimos una regresión Logística por su simplicidad, así como el XGBoost y el Decision Tree por la capacidad de generalizar bien. A estos tres modelos le aplicamos lo siguiente. A sus variables numéricas le aplicamos un imputador con la mediana y standardscaler, mientras que para las columnas categóricas le aplicamos el SimpleImputer cuya estrategia fue most_frequent, y también le aplicamos OneHotEncoder, y a la variable date_purchase que es la fecha de compra, la convertimos en tres nuevas columnas que son los dias, meses o años. También, a dicha fecha debimos convertirla a un formato adecuado de fechas.\n",
        "\n",
        "El modelo que después optimizamos fue el de Decision Tree con al menos 12 hiperparámetros utilizando Optuna. En general, podemos decir que el modelo cumplió con los objetivos del proyecto. Las conclusiones: es importante evitar los sesgos, analizar cuál atributo es más importante en cuanto a la interpretabilidad, como también conocer el hiperparámetro más importante en la optimización. En cuanto a las probabilidades, podemos decir que el Modelo Decision Tree de clasificación es muy bueno y robusto, al utilizar un atributo de balanceo de clases. Además, es importante tener en cuenta librerías como SHAP para analizar sesgos e interpretabilidad (local vs global)."
      ]
    },
    {
      "cell_type": "markdown",
      "metadata": {
        "id": "mhSU1cBfw-ct"
      },
      "source": [
        "## 📌 Pre-procesamiento [0.5 puntos]\n",
        "\n",
        "<center>\n",
        "<img src=\"https://media0.giphy.com/media/10zsjaH4g0GgmY/giphy.gif?cid=6c09b9523xtlunksc9amikw09zk1bmiqwjqnt70ae82rk877&ep=v1_gifs_search&rid=giphy.gif&ct=g\" width=\"400\" height=\"300\">"
      ]
    },
    {
      "cell_type": "markdown",
      "metadata": {
        "id": "eyCm6AFNw-cv"
      },
      "source": [
        "Tal como en muchos otros problemas de negocio, los datos probablemente deben ser pre procesados antes de aplicar cualquier técnica de analítica. Bajo esa premisa, en esta sección deben desarrollar código que les permita **preparar los datos** de tal forma que les permita resolver el problema planteado. Para esto, pueden aplicar procesamientos como:\n",
        "\n",
        "- Transformaciones de tipo de dato (str, int, etc)\n",
        "- Cruce de información\n",
        "- Eliminación de duplicados\n",
        "- Filtros de fila y/o columnas\n",
        "\n",
        "*Hint: ¿Qué forma debería tener la data para resolver un problema de aprendizaje supervisado?*\n",
        "\n",
        "Todo proceso llevado a cabo debe estar bien documentado y justificado en el informe, explicando el por qué se decidió realizar en funcion de los datos presentados y los objetivos planteados del proyecto."
      ]
    },
    {
      "cell_type": "code",
      "execution_count": 40,
      "metadata": {
        "colab": {
          "base_uri": "https://localhost:8080/"
        },
        "id": "SalTr5c3w-cv",
        "outputId": "5585dee8-ad3e-45e3-ba67-dbd54ea5a7c1"
      },
      "outputs": [
        {
          "output_type": "stream",
          "name": "stdout",
          "text": [
            "Requirement already satisfied: pyarrow in /usr/local/lib/python3.11/dist-packages (18.1.0)\n"
          ]
        }
      ],
      "source": [
        "!pip install pyarrow"
      ]
    },
    {
      "cell_type": "code",
      "source": [
        "# Si usted está utilizando Colabolatory le puede ser útil este código para cargar los archivos.\n",
        "try:\n",
        "    from google.colab import drive\n",
        "    drive.mount(\"/content/drive\")\n",
        "    path = '/content/drive/My Drive/'\n",
        "except:\n",
        "    print('Ignorando conexión drive-colab')"
      ],
      "metadata": {
        "colab": {
          "base_uri": "https://localhost:8080/"
        },
        "id": "755R-NSMyrIj",
        "outputId": "00f39454-c77c-4fd8-c66a-f1c90eca6df2"
      },
      "execution_count": 41,
      "outputs": [
        {
          "output_type": "stream",
          "name": "stdout",
          "text": [
            "Drive already mounted at /content/drive; to attempt to forcibly remount, call drive.mount(\"/content/drive\", force_remount=True).\n"
          ]
        }
      ]
    },
    {
      "cell_type": "code",
      "execution_count": 42,
      "metadata": {
        "id": "j_9dhnJjw-cx"
      },
      "outputs": [],
      "source": [
        "import pandas as pd\n",
        "\n",
        "clientes = pd.read_parquet(path + 'clientes.parquet')\n",
        "productos = pd.read_parquet(path + 'productos.parquet')\n",
        "transacciones = pd.read_parquet(path + 'transacciones.parquet')\n",
        "\n",
        "transacciones['purchase_date'] = pd.to_datetime(transacciones['purchase_date'])\n",
        "transacciones = transacciones[transacciones['items'] >= 0]  # solo compras válidas"
      ]
    },
    {
      "cell_type": "code",
      "execution_count": 43,
      "metadata": {
        "id": "EzDtb4bVw-cx"
      },
      "outputs": [],
      "source": [
        "def identificar_columnas(df):\n",
        "    numericas = df.select_dtypes(include=['number']).columns.tolist()\n",
        "    categoricas = df.select_dtypes(include=['object', 'category']).columns.tolist()\n",
        "    todas = set(df.columns)\n",
        "    otras = list(todas - set(numericas) - set(categoricas))\n",
        "    return numericas, categoricas, otras"
      ]
    },
    {
      "cell_type": "code",
      "execution_count": 44,
      "metadata": {
        "colab": {
          "base_uri": "https://localhost:8080/"
        },
        "id": "mHPw-VAqw-cz",
        "outputId": "0d5f7611-53a8-4892-f34d-5cc6e340c01f"
      },
      "outputs": [
        {
          "output_type": "stream",
          "name": "stdout",
          "text": [
            " - Folder Dataset: clientes\n",
            " - Filas        : 1,569\n",
            " - Numéricas    : ['customer_id', 'region_id', 'zone_id', 'Y', 'X', 'num_deliver_per_week', 'num_visit_per_week']\n",
            " - Categóricas  : ['customer_type']\n",
            " - Otras        : []\n",
            " - Folder Dataset: productos\n",
            " - Filas        : 971\n",
            " - Numéricas    : ['product_id', 'size']\n",
            " - Categóricas  : ['brand', 'category', 'sub_category', 'segment', 'package']\n",
            " - Otras        : []\n",
            " - Folder Dataset: transacciones\n",
            " - Filas        : 246,552\n",
            " - Numéricas    : ['customer_id', 'product_id', 'order_id', 'items']\n",
            " - Categóricas  : []\n",
            " - Otras        : ['purchase_date']\n"
          ]
        }
      ],
      "source": [
        "archivos = [clientes, productos, transacciones]\n",
        "nombres = ['clientes', 'productos', 'transacciones']\n",
        "\n",
        "for nombre, df in zip(nombres, archivos):\n",
        "    numericas, categoricas, otras = identificar_columnas(df)\n",
        "    print(f\" - Folder Dataset: {nombre}\")\n",
        "    print(f\" - Filas        : {len(df):,}\")\n",
        "    print(f\" - Numéricas    : {numericas}\")\n",
        "    print(f\" - Categóricas  : {categoricas}\")\n",
        "    print(f\" - Otras        : {otras}\")\n"
      ]
    },
    {
      "cell_type": "code",
      "execution_count": 45,
      "metadata": {
        "colab": {
          "base_uri": "https://localhost:8080/",
          "height": 206
        },
        "id": "1LfO5M3Pw-c0",
        "outputId": "f98f7553-0096-4482-d7d4-fc4d3b3e18db"
      },
      "outputs": [
        {
          "output_type": "execute_result",
          "data": {
            "text/plain": [
              "       customer_id  region_id  zone_id customer_type          Y           X  \\\n",
              "10705       256017         80     5148     ABARROTES -46.474800 -108.045140   \n",
              "10706       255780         80     5148     ABARROTES -46.520282 -107.961052   \n",
              "10707       254655         80     5148     ABARROTES -46.537640 -107.909280   \n",
              "10708       254445         80     5148     ABARROTES -46.543526 -107.917954   \n",
              "10709       254403         80     5148     ABARROTES -46.540856 -107.905792   \n",
              "\n",
              "       num_deliver_per_week  num_visit_per_week  \n",
              "10705                     1                   1  \n",
              "10706                     1                   1  \n",
              "10707                     1                   1  \n",
              "10708                     2                   1  \n",
              "10709                     3                   1  "
            ],
            "text/html": [
              "\n",
              "  <div id=\"df-2737c376-4380-4ef8-b209-93779ae1ae66\" class=\"colab-df-container\">\n",
              "    <div>\n",
              "<style scoped>\n",
              "    .dataframe tbody tr th:only-of-type {\n",
              "        vertical-align: middle;\n",
              "    }\n",
              "\n",
              "    .dataframe tbody tr th {\n",
              "        vertical-align: top;\n",
              "    }\n",
              "\n",
              "    .dataframe thead th {\n",
              "        text-align: right;\n",
              "    }\n",
              "</style>\n",
              "<table border=\"1\" class=\"dataframe\">\n",
              "  <thead>\n",
              "    <tr style=\"text-align: right;\">\n",
              "      <th></th>\n",
              "      <th>customer_id</th>\n",
              "      <th>region_id</th>\n",
              "      <th>zone_id</th>\n",
              "      <th>customer_type</th>\n",
              "      <th>Y</th>\n",
              "      <th>X</th>\n",
              "      <th>num_deliver_per_week</th>\n",
              "      <th>num_visit_per_week</th>\n",
              "    </tr>\n",
              "  </thead>\n",
              "  <tbody>\n",
              "    <tr>\n",
              "      <th>10705</th>\n",
              "      <td>256017</td>\n",
              "      <td>80</td>\n",
              "      <td>5148</td>\n",
              "      <td>ABARROTES</td>\n",
              "      <td>-46.474800</td>\n",
              "      <td>-108.045140</td>\n",
              "      <td>1</td>\n",
              "      <td>1</td>\n",
              "    </tr>\n",
              "    <tr>\n",
              "      <th>10706</th>\n",
              "      <td>255780</td>\n",
              "      <td>80</td>\n",
              "      <td>5148</td>\n",
              "      <td>ABARROTES</td>\n",
              "      <td>-46.520282</td>\n",
              "      <td>-107.961052</td>\n",
              "      <td>1</td>\n",
              "      <td>1</td>\n",
              "    </tr>\n",
              "    <tr>\n",
              "      <th>10707</th>\n",
              "      <td>254655</td>\n",
              "      <td>80</td>\n",
              "      <td>5148</td>\n",
              "      <td>ABARROTES</td>\n",
              "      <td>-46.537640</td>\n",
              "      <td>-107.909280</td>\n",
              "      <td>1</td>\n",
              "      <td>1</td>\n",
              "    </tr>\n",
              "    <tr>\n",
              "      <th>10708</th>\n",
              "      <td>254445</td>\n",
              "      <td>80</td>\n",
              "      <td>5148</td>\n",
              "      <td>ABARROTES</td>\n",
              "      <td>-46.543526</td>\n",
              "      <td>-107.917954</td>\n",
              "      <td>2</td>\n",
              "      <td>1</td>\n",
              "    </tr>\n",
              "    <tr>\n",
              "      <th>10709</th>\n",
              "      <td>254403</td>\n",
              "      <td>80</td>\n",
              "      <td>5148</td>\n",
              "      <td>ABARROTES</td>\n",
              "      <td>-46.540856</td>\n",
              "      <td>-107.905792</td>\n",
              "      <td>3</td>\n",
              "      <td>1</td>\n",
              "    </tr>\n",
              "  </tbody>\n",
              "</table>\n",
              "</div>\n",
              "    <div class=\"colab-df-buttons\">\n",
              "\n",
              "  <div class=\"colab-df-container\">\n",
              "    <button class=\"colab-df-convert\" onclick=\"convertToInteractive('df-2737c376-4380-4ef8-b209-93779ae1ae66')\"\n",
              "            title=\"Convert this dataframe to an interactive table.\"\n",
              "            style=\"display:none;\">\n",
              "\n",
              "  <svg xmlns=\"http://www.w3.org/2000/svg\" height=\"24px\" viewBox=\"0 -960 960 960\">\n",
              "    <path d=\"M120-120v-720h720v720H120Zm60-500h600v-160H180v160Zm220 220h160v-160H400v160Zm0 220h160v-160H400v160ZM180-400h160v-160H180v160Zm440 0h160v-160H620v160ZM180-180h160v-160H180v160Zm440 0h160v-160H620v160Z\"/>\n",
              "  </svg>\n",
              "    </button>\n",
              "\n",
              "  <style>\n",
              "    .colab-df-container {\n",
              "      display:flex;\n",
              "      gap: 12px;\n",
              "    }\n",
              "\n",
              "    .colab-df-convert {\n",
              "      background-color: #E8F0FE;\n",
              "      border: none;\n",
              "      border-radius: 50%;\n",
              "      cursor: pointer;\n",
              "      display: none;\n",
              "      fill: #1967D2;\n",
              "      height: 32px;\n",
              "      padding: 0 0 0 0;\n",
              "      width: 32px;\n",
              "    }\n",
              "\n",
              "    .colab-df-convert:hover {\n",
              "      background-color: #E2EBFA;\n",
              "      box-shadow: 0px 1px 2px rgba(60, 64, 67, 0.3), 0px 1px 3px 1px rgba(60, 64, 67, 0.15);\n",
              "      fill: #174EA6;\n",
              "    }\n",
              "\n",
              "    .colab-df-buttons div {\n",
              "      margin-bottom: 4px;\n",
              "    }\n",
              "\n",
              "    [theme=dark] .colab-df-convert {\n",
              "      background-color: #3B4455;\n",
              "      fill: #D2E3FC;\n",
              "    }\n",
              "\n",
              "    [theme=dark] .colab-df-convert:hover {\n",
              "      background-color: #434B5C;\n",
              "      box-shadow: 0px 1px 3px 1px rgba(0, 0, 0, 0.15);\n",
              "      filter: drop-shadow(0px 1px 2px rgba(0, 0, 0, 0.3));\n",
              "      fill: #FFFFFF;\n",
              "    }\n",
              "  </style>\n",
              "\n",
              "    <script>\n",
              "      const buttonEl =\n",
              "        document.querySelector('#df-2737c376-4380-4ef8-b209-93779ae1ae66 button.colab-df-convert');\n",
              "      buttonEl.style.display =\n",
              "        google.colab.kernel.accessAllowed ? 'block' : 'none';\n",
              "\n",
              "      async function convertToInteractive(key) {\n",
              "        const element = document.querySelector('#df-2737c376-4380-4ef8-b209-93779ae1ae66');\n",
              "        const dataTable =\n",
              "          await google.colab.kernel.invokeFunction('convertToInteractive',\n",
              "                                                    [key], {});\n",
              "        if (!dataTable) return;\n",
              "\n",
              "        const docLinkHtml = 'Like what you see? Visit the ' +\n",
              "          '<a target=\"_blank\" href=https://colab.research.google.com/notebooks/data_table.ipynb>data table notebook</a>'\n",
              "          + ' to learn more about interactive tables.';\n",
              "        element.innerHTML = '';\n",
              "        dataTable['output_type'] = 'display_data';\n",
              "        await google.colab.output.renderOutput(dataTable, element);\n",
              "        const docLink = document.createElement('div');\n",
              "        docLink.innerHTML = docLinkHtml;\n",
              "        element.appendChild(docLink);\n",
              "      }\n",
              "    </script>\n",
              "  </div>\n",
              "\n",
              "\n",
              "    <div id=\"df-d778de37-967f-441f-aa55-31d9c3aa4183\">\n",
              "      <button class=\"colab-df-quickchart\" onclick=\"quickchart('df-d778de37-967f-441f-aa55-31d9c3aa4183')\"\n",
              "                title=\"Suggest charts\"\n",
              "                style=\"display:none;\">\n",
              "\n",
              "<svg xmlns=\"http://www.w3.org/2000/svg\" height=\"24px\"viewBox=\"0 0 24 24\"\n",
              "     width=\"24px\">\n",
              "    <g>\n",
              "        <path d=\"M19 3H5c-1.1 0-2 .9-2 2v14c0 1.1.9 2 2 2h14c1.1 0 2-.9 2-2V5c0-1.1-.9-2-2-2zM9 17H7v-7h2v7zm4 0h-2V7h2v10zm4 0h-2v-4h2v4z\"/>\n",
              "    </g>\n",
              "</svg>\n",
              "      </button>\n",
              "\n",
              "<style>\n",
              "  .colab-df-quickchart {\n",
              "      --bg-color: #E8F0FE;\n",
              "      --fill-color: #1967D2;\n",
              "      --hover-bg-color: #E2EBFA;\n",
              "      --hover-fill-color: #174EA6;\n",
              "      --disabled-fill-color: #AAA;\n",
              "      --disabled-bg-color: #DDD;\n",
              "  }\n",
              "\n",
              "  [theme=dark] .colab-df-quickchart {\n",
              "      --bg-color: #3B4455;\n",
              "      --fill-color: #D2E3FC;\n",
              "      --hover-bg-color: #434B5C;\n",
              "      --hover-fill-color: #FFFFFF;\n",
              "      --disabled-bg-color: #3B4455;\n",
              "      --disabled-fill-color: #666;\n",
              "  }\n",
              "\n",
              "  .colab-df-quickchart {\n",
              "    background-color: var(--bg-color);\n",
              "    border: none;\n",
              "    border-radius: 50%;\n",
              "    cursor: pointer;\n",
              "    display: none;\n",
              "    fill: var(--fill-color);\n",
              "    height: 32px;\n",
              "    padding: 0;\n",
              "    width: 32px;\n",
              "  }\n",
              "\n",
              "  .colab-df-quickchart:hover {\n",
              "    background-color: var(--hover-bg-color);\n",
              "    box-shadow: 0 1px 2px rgba(60, 64, 67, 0.3), 0 1px 3px 1px rgba(60, 64, 67, 0.15);\n",
              "    fill: var(--button-hover-fill-color);\n",
              "  }\n",
              "\n",
              "  .colab-df-quickchart-complete:disabled,\n",
              "  .colab-df-quickchart-complete:disabled:hover {\n",
              "    background-color: var(--disabled-bg-color);\n",
              "    fill: var(--disabled-fill-color);\n",
              "    box-shadow: none;\n",
              "  }\n",
              "\n",
              "  .colab-df-spinner {\n",
              "    border: 2px solid var(--fill-color);\n",
              "    border-color: transparent;\n",
              "    border-bottom-color: var(--fill-color);\n",
              "    animation:\n",
              "      spin 1s steps(1) infinite;\n",
              "  }\n",
              "\n",
              "  @keyframes spin {\n",
              "    0% {\n",
              "      border-color: transparent;\n",
              "      border-bottom-color: var(--fill-color);\n",
              "      border-left-color: var(--fill-color);\n",
              "    }\n",
              "    20% {\n",
              "      border-color: transparent;\n",
              "      border-left-color: var(--fill-color);\n",
              "      border-top-color: var(--fill-color);\n",
              "    }\n",
              "    30% {\n",
              "      border-color: transparent;\n",
              "      border-left-color: var(--fill-color);\n",
              "      border-top-color: var(--fill-color);\n",
              "      border-right-color: var(--fill-color);\n",
              "    }\n",
              "    40% {\n",
              "      border-color: transparent;\n",
              "      border-right-color: var(--fill-color);\n",
              "      border-top-color: var(--fill-color);\n",
              "    }\n",
              "    60% {\n",
              "      border-color: transparent;\n",
              "      border-right-color: var(--fill-color);\n",
              "    }\n",
              "    80% {\n",
              "      border-color: transparent;\n",
              "      border-right-color: var(--fill-color);\n",
              "      border-bottom-color: var(--fill-color);\n",
              "    }\n",
              "    90% {\n",
              "      border-color: transparent;\n",
              "      border-bottom-color: var(--fill-color);\n",
              "    }\n",
              "  }\n",
              "</style>\n",
              "\n",
              "      <script>\n",
              "        async function quickchart(key) {\n",
              "          const quickchartButtonEl =\n",
              "            document.querySelector('#' + key + ' button');\n",
              "          quickchartButtonEl.disabled = true;  // To prevent multiple clicks.\n",
              "          quickchartButtonEl.classList.add('colab-df-spinner');\n",
              "          try {\n",
              "            const charts = await google.colab.kernel.invokeFunction(\n",
              "                'suggestCharts', [key], {});\n",
              "          } catch (error) {\n",
              "            console.error('Error during call to suggestCharts:', error);\n",
              "          }\n",
              "          quickchartButtonEl.classList.remove('colab-df-spinner');\n",
              "          quickchartButtonEl.classList.add('colab-df-quickchart-complete');\n",
              "        }\n",
              "        (() => {\n",
              "          let quickchartButtonEl =\n",
              "            document.querySelector('#df-d778de37-967f-441f-aa55-31d9c3aa4183 button');\n",
              "          quickchartButtonEl.style.display =\n",
              "            google.colab.kernel.accessAllowed ? 'block' : 'none';\n",
              "        })();\n",
              "      </script>\n",
              "    </div>\n",
              "\n",
              "    </div>\n",
              "  </div>\n"
            ],
            "application/vnd.google.colaboratory.intrinsic+json": {
              "type": "dataframe",
              "variable_name": "clientes",
              "summary": "{\n  \"name\": \"clientes\",\n  \"rows\": 1569,\n  \"fields\": [\n    {\n      \"column\": \"customer_id\",\n      \"properties\": {\n        \"dtype\": \"number\",\n        \"std\": 66482,\n        \"min\": 25734,\n        \"max\": 2061063,\n        \"num_unique_values\": 1569,\n        \"samples\": [\n          204411,\n          154698,\n          207216\n        ],\n        \"semantic_type\": \"\",\n        \"description\": \"\"\n      }\n    },\n    {\n      \"column\": \"region_id\",\n      \"properties\": {\n        \"dtype\": \"number\",\n        \"std\": 0,\n        \"min\": 80,\n        \"max\": 80,\n        \"num_unique_values\": 1,\n        \"samples\": [\n          80\n        ],\n        \"semantic_type\": \"\",\n        \"description\": \"\"\n      }\n    },\n    {\n      \"column\": \"zone_id\",\n      \"properties\": {\n        \"dtype\": \"number\",\n        \"std\": 0,\n        \"min\": 5148,\n        \"max\": 5148,\n        \"num_unique_values\": 1,\n        \"samples\": [\n          5148\n        ],\n        \"semantic_type\": \"\",\n        \"description\": \"\"\n      }\n    },\n    {\n      \"column\": \"customer_type\",\n      \"properties\": {\n        \"dtype\": \"category\",\n        \"num_unique_values\": 7,\n        \"samples\": [\n          \"ABARROTES\"\n        ],\n        \"semantic_type\": \"\",\n        \"description\": \"\"\n      }\n    },\n    {\n      \"column\": \"Y\",\n      \"properties\": {\n        \"dtype\": \"number\",\n        \"std\": 2.700405934798909,\n        \"min\": -109.0025078,\n        \"max\": -46.16195,\n        \"num_unique_values\": 1548,\n        \"samples\": [\n          -46.529788\n        ],\n        \"semantic_type\": \"\",\n        \"description\": \"\"\n      }\n    },\n    {\n      \"column\": \"X\",\n      \"properties\": {\n        \"dtype\": \"number\",\n        \"std\": 2.6931118327665553,\n        \"min\": -108.62092,\n        \"max\": -46.4427848,\n        \"num_unique_values\": 1552,\n        \"samples\": [\n          -107.882632\n        ],\n        \"semantic_type\": \"\",\n        \"description\": \"\"\n      }\n    },\n    {\n      \"column\": \"num_deliver_per_week\",\n      \"properties\": {\n        \"dtype\": \"number\",\n        \"std\": 0,\n        \"min\": 1,\n        \"max\": 6,\n        \"num_unique_values\": 6,\n        \"samples\": [\n          1\n        ],\n        \"semantic_type\": \"\",\n        \"description\": \"\"\n      }\n    },\n    {\n      \"column\": \"num_visit_per_week\",\n      \"properties\": {\n        \"dtype\": \"number\",\n        \"std\": 0,\n        \"min\": 1,\n        \"max\": 1,\n        \"num_unique_values\": 1,\n        \"samples\": [\n          1\n        ],\n        \"semantic_type\": \"\",\n        \"description\": \"\"\n      }\n    }\n  ]\n}"
            }
          },
          "metadata": {},
          "execution_count": 45
        }
      ],
      "source": [
        "clientes.head()"
      ]
    },
    {
      "cell_type": "code",
      "execution_count": 46,
      "metadata": {
        "colab": {
          "base_uri": "https://localhost:8080/",
          "height": 206
        },
        "id": "tyit9evnw-c1",
        "outputId": "38e0aed8-2cc4-4bc8-aad5-b0ed472544e2"
      },
      "outputs": [
        {
          "output_type": "execute_result",
          "data": {
            "text/plain": [
              "   product_id     brand              category sub_category  segment  package  \\\n",
              "0       34092  Brand 31  BEBIDAS CARBONATADAS     GASEOSAS  PREMIUM  BOTELLA   \n",
              "1       57290  Brand 31  BEBIDAS CARBONATADAS     GASEOSAS  PREMIUM  BOTELLA   \n",
              "2       56714  Brand 31  BEBIDAS CARBONATADAS     GASEOSAS  PREMIUM  BOTELLA   \n",
              "3      296616  Brand 31  BEBIDAS CARBONATADAS     GASEOSAS  PREMIUM  BOTELLA   \n",
              "4       60854  Brand 31  BEBIDAS CARBONATADAS     GASEOSAS  PREMIUM  BOTELLA   \n",
              "\n",
              "   size  \n",
              "0  0.66  \n",
              "1  0.66  \n",
              "2  0.66  \n",
              "3  0.66  \n",
              "4  0.25  "
            ],
            "text/html": [
              "\n",
              "  <div id=\"df-7c4f4b4e-61df-4540-9869-cc62962d1d0f\" class=\"colab-df-container\">\n",
              "    <div>\n",
              "<style scoped>\n",
              "    .dataframe tbody tr th:only-of-type {\n",
              "        vertical-align: middle;\n",
              "    }\n",
              "\n",
              "    .dataframe tbody tr th {\n",
              "        vertical-align: top;\n",
              "    }\n",
              "\n",
              "    .dataframe thead th {\n",
              "        text-align: right;\n",
              "    }\n",
              "</style>\n",
              "<table border=\"1\" class=\"dataframe\">\n",
              "  <thead>\n",
              "    <tr style=\"text-align: right;\">\n",
              "      <th></th>\n",
              "      <th>product_id</th>\n",
              "      <th>brand</th>\n",
              "      <th>category</th>\n",
              "      <th>sub_category</th>\n",
              "      <th>segment</th>\n",
              "      <th>package</th>\n",
              "      <th>size</th>\n",
              "    </tr>\n",
              "  </thead>\n",
              "  <tbody>\n",
              "    <tr>\n",
              "      <th>0</th>\n",
              "      <td>34092</td>\n",
              "      <td>Brand 31</td>\n",
              "      <td>BEBIDAS CARBONATADAS</td>\n",
              "      <td>GASEOSAS</td>\n",
              "      <td>PREMIUM</td>\n",
              "      <td>BOTELLA</td>\n",
              "      <td>0.66</td>\n",
              "    </tr>\n",
              "    <tr>\n",
              "      <th>1</th>\n",
              "      <td>57290</td>\n",
              "      <td>Brand 31</td>\n",
              "      <td>BEBIDAS CARBONATADAS</td>\n",
              "      <td>GASEOSAS</td>\n",
              "      <td>PREMIUM</td>\n",
              "      <td>BOTELLA</td>\n",
              "      <td>0.66</td>\n",
              "    </tr>\n",
              "    <tr>\n",
              "      <th>2</th>\n",
              "      <td>56714</td>\n",
              "      <td>Brand 31</td>\n",
              "      <td>BEBIDAS CARBONATADAS</td>\n",
              "      <td>GASEOSAS</td>\n",
              "      <td>PREMIUM</td>\n",
              "      <td>BOTELLA</td>\n",
              "      <td>0.66</td>\n",
              "    </tr>\n",
              "    <tr>\n",
              "      <th>3</th>\n",
              "      <td>296616</td>\n",
              "      <td>Brand 31</td>\n",
              "      <td>BEBIDAS CARBONATADAS</td>\n",
              "      <td>GASEOSAS</td>\n",
              "      <td>PREMIUM</td>\n",
              "      <td>BOTELLA</td>\n",
              "      <td>0.66</td>\n",
              "    </tr>\n",
              "    <tr>\n",
              "      <th>4</th>\n",
              "      <td>60854</td>\n",
              "      <td>Brand 31</td>\n",
              "      <td>BEBIDAS CARBONATADAS</td>\n",
              "      <td>GASEOSAS</td>\n",
              "      <td>PREMIUM</td>\n",
              "      <td>BOTELLA</td>\n",
              "      <td>0.25</td>\n",
              "    </tr>\n",
              "  </tbody>\n",
              "</table>\n",
              "</div>\n",
              "    <div class=\"colab-df-buttons\">\n",
              "\n",
              "  <div class=\"colab-df-container\">\n",
              "    <button class=\"colab-df-convert\" onclick=\"convertToInteractive('df-7c4f4b4e-61df-4540-9869-cc62962d1d0f')\"\n",
              "            title=\"Convert this dataframe to an interactive table.\"\n",
              "            style=\"display:none;\">\n",
              "\n",
              "  <svg xmlns=\"http://www.w3.org/2000/svg\" height=\"24px\" viewBox=\"0 -960 960 960\">\n",
              "    <path d=\"M120-120v-720h720v720H120Zm60-500h600v-160H180v160Zm220 220h160v-160H400v160Zm0 220h160v-160H400v160ZM180-400h160v-160H180v160Zm440 0h160v-160H620v160ZM180-180h160v-160H180v160Zm440 0h160v-160H620v160Z\"/>\n",
              "  </svg>\n",
              "    </button>\n",
              "\n",
              "  <style>\n",
              "    .colab-df-container {\n",
              "      display:flex;\n",
              "      gap: 12px;\n",
              "    }\n",
              "\n",
              "    .colab-df-convert {\n",
              "      background-color: #E8F0FE;\n",
              "      border: none;\n",
              "      border-radius: 50%;\n",
              "      cursor: pointer;\n",
              "      display: none;\n",
              "      fill: #1967D2;\n",
              "      height: 32px;\n",
              "      padding: 0 0 0 0;\n",
              "      width: 32px;\n",
              "    }\n",
              "\n",
              "    .colab-df-convert:hover {\n",
              "      background-color: #E2EBFA;\n",
              "      box-shadow: 0px 1px 2px rgba(60, 64, 67, 0.3), 0px 1px 3px 1px rgba(60, 64, 67, 0.15);\n",
              "      fill: #174EA6;\n",
              "    }\n",
              "\n",
              "    .colab-df-buttons div {\n",
              "      margin-bottom: 4px;\n",
              "    }\n",
              "\n",
              "    [theme=dark] .colab-df-convert {\n",
              "      background-color: #3B4455;\n",
              "      fill: #D2E3FC;\n",
              "    }\n",
              "\n",
              "    [theme=dark] .colab-df-convert:hover {\n",
              "      background-color: #434B5C;\n",
              "      box-shadow: 0px 1px 3px 1px rgba(0, 0, 0, 0.15);\n",
              "      filter: drop-shadow(0px 1px 2px rgba(0, 0, 0, 0.3));\n",
              "      fill: #FFFFFF;\n",
              "    }\n",
              "  </style>\n",
              "\n",
              "    <script>\n",
              "      const buttonEl =\n",
              "        document.querySelector('#df-7c4f4b4e-61df-4540-9869-cc62962d1d0f button.colab-df-convert');\n",
              "      buttonEl.style.display =\n",
              "        google.colab.kernel.accessAllowed ? 'block' : 'none';\n",
              "\n",
              "      async function convertToInteractive(key) {\n",
              "        const element = document.querySelector('#df-7c4f4b4e-61df-4540-9869-cc62962d1d0f');\n",
              "        const dataTable =\n",
              "          await google.colab.kernel.invokeFunction('convertToInteractive',\n",
              "                                                    [key], {});\n",
              "        if (!dataTable) return;\n",
              "\n",
              "        const docLinkHtml = 'Like what you see? Visit the ' +\n",
              "          '<a target=\"_blank\" href=https://colab.research.google.com/notebooks/data_table.ipynb>data table notebook</a>'\n",
              "          + ' to learn more about interactive tables.';\n",
              "        element.innerHTML = '';\n",
              "        dataTable['output_type'] = 'display_data';\n",
              "        await google.colab.output.renderOutput(dataTable, element);\n",
              "        const docLink = document.createElement('div');\n",
              "        docLink.innerHTML = docLinkHtml;\n",
              "        element.appendChild(docLink);\n",
              "      }\n",
              "    </script>\n",
              "  </div>\n",
              "\n",
              "\n",
              "    <div id=\"df-856ba63d-8f63-48e4-9d51-4e3f892d3729\">\n",
              "      <button class=\"colab-df-quickchart\" onclick=\"quickchart('df-856ba63d-8f63-48e4-9d51-4e3f892d3729')\"\n",
              "                title=\"Suggest charts\"\n",
              "                style=\"display:none;\">\n",
              "\n",
              "<svg xmlns=\"http://www.w3.org/2000/svg\" height=\"24px\"viewBox=\"0 0 24 24\"\n",
              "     width=\"24px\">\n",
              "    <g>\n",
              "        <path d=\"M19 3H5c-1.1 0-2 .9-2 2v14c0 1.1.9 2 2 2h14c1.1 0 2-.9 2-2V5c0-1.1-.9-2-2-2zM9 17H7v-7h2v7zm4 0h-2V7h2v10zm4 0h-2v-4h2v4z\"/>\n",
              "    </g>\n",
              "</svg>\n",
              "      </button>\n",
              "\n",
              "<style>\n",
              "  .colab-df-quickchart {\n",
              "      --bg-color: #E8F0FE;\n",
              "      --fill-color: #1967D2;\n",
              "      --hover-bg-color: #E2EBFA;\n",
              "      --hover-fill-color: #174EA6;\n",
              "      --disabled-fill-color: #AAA;\n",
              "      --disabled-bg-color: #DDD;\n",
              "  }\n",
              "\n",
              "  [theme=dark] .colab-df-quickchart {\n",
              "      --bg-color: #3B4455;\n",
              "      --fill-color: #D2E3FC;\n",
              "      --hover-bg-color: #434B5C;\n",
              "      --hover-fill-color: #FFFFFF;\n",
              "      --disabled-bg-color: #3B4455;\n",
              "      --disabled-fill-color: #666;\n",
              "  }\n",
              "\n",
              "  .colab-df-quickchart {\n",
              "    background-color: var(--bg-color);\n",
              "    border: none;\n",
              "    border-radius: 50%;\n",
              "    cursor: pointer;\n",
              "    display: none;\n",
              "    fill: var(--fill-color);\n",
              "    height: 32px;\n",
              "    padding: 0;\n",
              "    width: 32px;\n",
              "  }\n",
              "\n",
              "  .colab-df-quickchart:hover {\n",
              "    background-color: var(--hover-bg-color);\n",
              "    box-shadow: 0 1px 2px rgba(60, 64, 67, 0.3), 0 1px 3px 1px rgba(60, 64, 67, 0.15);\n",
              "    fill: var(--button-hover-fill-color);\n",
              "  }\n",
              "\n",
              "  .colab-df-quickchart-complete:disabled,\n",
              "  .colab-df-quickchart-complete:disabled:hover {\n",
              "    background-color: var(--disabled-bg-color);\n",
              "    fill: var(--disabled-fill-color);\n",
              "    box-shadow: none;\n",
              "  }\n",
              "\n",
              "  .colab-df-spinner {\n",
              "    border: 2px solid var(--fill-color);\n",
              "    border-color: transparent;\n",
              "    border-bottom-color: var(--fill-color);\n",
              "    animation:\n",
              "      spin 1s steps(1) infinite;\n",
              "  }\n",
              "\n",
              "  @keyframes spin {\n",
              "    0% {\n",
              "      border-color: transparent;\n",
              "      border-bottom-color: var(--fill-color);\n",
              "      border-left-color: var(--fill-color);\n",
              "    }\n",
              "    20% {\n",
              "      border-color: transparent;\n",
              "      border-left-color: var(--fill-color);\n",
              "      border-top-color: var(--fill-color);\n",
              "    }\n",
              "    30% {\n",
              "      border-color: transparent;\n",
              "      border-left-color: var(--fill-color);\n",
              "      border-top-color: var(--fill-color);\n",
              "      border-right-color: var(--fill-color);\n",
              "    }\n",
              "    40% {\n",
              "      border-color: transparent;\n",
              "      border-right-color: var(--fill-color);\n",
              "      border-top-color: var(--fill-color);\n",
              "    }\n",
              "    60% {\n",
              "      border-color: transparent;\n",
              "      border-right-color: var(--fill-color);\n",
              "    }\n",
              "    80% {\n",
              "      border-color: transparent;\n",
              "      border-right-color: var(--fill-color);\n",
              "      border-bottom-color: var(--fill-color);\n",
              "    }\n",
              "    90% {\n",
              "      border-color: transparent;\n",
              "      border-bottom-color: var(--fill-color);\n",
              "    }\n",
              "  }\n",
              "</style>\n",
              "\n",
              "      <script>\n",
              "        async function quickchart(key) {\n",
              "          const quickchartButtonEl =\n",
              "            document.querySelector('#' + key + ' button');\n",
              "          quickchartButtonEl.disabled = true;  // To prevent multiple clicks.\n",
              "          quickchartButtonEl.classList.add('colab-df-spinner');\n",
              "          try {\n",
              "            const charts = await google.colab.kernel.invokeFunction(\n",
              "                'suggestCharts', [key], {});\n",
              "          } catch (error) {\n",
              "            console.error('Error during call to suggestCharts:', error);\n",
              "          }\n",
              "          quickchartButtonEl.classList.remove('colab-df-spinner');\n",
              "          quickchartButtonEl.classList.add('colab-df-quickchart-complete');\n",
              "        }\n",
              "        (() => {\n",
              "          let quickchartButtonEl =\n",
              "            document.querySelector('#df-856ba63d-8f63-48e4-9d51-4e3f892d3729 button');\n",
              "          quickchartButtonEl.style.display =\n",
              "            google.colab.kernel.accessAllowed ? 'block' : 'none';\n",
              "        })();\n",
              "      </script>\n",
              "    </div>\n",
              "\n",
              "    </div>\n",
              "  </div>\n"
            ],
            "application/vnd.google.colaboratory.intrinsic+json": {
              "type": "dataframe",
              "variable_name": "productos",
              "summary": "{\n  \"name\": \"productos\",\n  \"rows\": 971,\n  \"fields\": [\n    {\n      \"column\": \"product_id\",\n      \"properties\": {\n        \"dtype\": \"number\",\n        \"std\": 97083,\n        \"min\": 8,\n        \"max\": 297994,\n        \"num_unique_values\": 971,\n        \"samples\": [\n          60522,\n          297244,\n          53256\n        ],\n        \"semantic_type\": \"\",\n        \"description\": \"\"\n      }\n    },\n    {\n      \"column\": \"brand\",\n      \"properties\": {\n        \"dtype\": \"category\",\n        \"num_unique_values\": 61,\n        \"samples\": [\n          \"Brand 31\",\n          \"Brand 18\",\n          \"Brand 10\"\n        ],\n        \"semantic_type\": \"\",\n        \"description\": \"\"\n      }\n    },\n    {\n      \"column\": \"category\",\n      \"properties\": {\n        \"dtype\": \"category\",\n        \"num_unique_values\": 2,\n        \"samples\": [\n          \"BEBIDAS NO CARBONATADAS\",\n          \"BEBIDAS CARBONATADAS\"\n        ],\n        \"semantic_type\": \"\",\n        \"description\": \"\"\n      }\n    },\n    {\n      \"column\": \"sub_category\",\n      \"properties\": {\n        \"dtype\": \"category\",\n        \"num_unique_values\": 3,\n        \"samples\": [\n          \"GASEOSAS\",\n          \"AGUAS SABORIZADAS\"\n        ],\n        \"semantic_type\": \"\",\n        \"description\": \"\"\n      }\n    },\n    {\n      \"column\": \"segment\",\n      \"properties\": {\n        \"dtype\": \"category\",\n        \"num_unique_values\": 4,\n        \"samples\": [\n          \"HIGH\",\n          \"LOW\"\n        ],\n        \"semantic_type\": \"\",\n        \"description\": \"\"\n      }\n    },\n    {\n      \"column\": \"package\",\n      \"properties\": {\n        \"dtype\": \"category\",\n        \"num_unique_values\": 4,\n        \"samples\": [\n          \"LATA\",\n          \"KEG\"\n        ],\n        \"semantic_type\": \"\",\n        \"description\": \"\"\n      }\n    },\n    {\n      \"column\": \"size\",\n      \"properties\": {\n        \"dtype\": \"number\",\n        \"std\": 3.897778164641287,\n        \"min\": 0.125,\n        \"max\": 20.0,\n        \"num_unique_values\": 13,\n        \"samples\": [\n          0.125,\n          20.0\n        ],\n        \"semantic_type\": \"\",\n        \"description\": \"\"\n      }\n    }\n  ]\n}"
            }
          },
          "metadata": {},
          "execution_count": 46
        }
      ],
      "source": [
        "productos.head()"
      ]
    },
    {
      "cell_type": "code",
      "execution_count": 47,
      "metadata": {
        "colab": {
          "base_uri": "https://localhost:8080/",
          "height": 206
        },
        "id": "FZwROZERw-c2",
        "outputId": "44bb4cad-5fc9-4e2c-d236-03bd53eae887"
      },
      "outputs": [
        {
          "output_type": "execute_result",
          "data": {
            "text/plain": [
              "     customer_id  product_id  order_id purchase_date      items\n",
              "127        61899        1370    411156    2024-04-27   3.666667\n",
              "344       154077       30500    417911    2024-04-29   2.333333\n",
              "354       172056       61672    407162    2024-04-26   1.000000\n",
              "372       187101       61542    411911    2024-04-27  17.000000\n",
              "373       187806       50270    407286    2024-04-26   3.666667"
            ],
            "text/html": [
              "\n",
              "  <div id=\"df-24990b84-0541-4a27-b07d-8281800d3450\" class=\"colab-df-container\">\n",
              "    <div>\n",
              "<style scoped>\n",
              "    .dataframe tbody tr th:only-of-type {\n",
              "        vertical-align: middle;\n",
              "    }\n",
              "\n",
              "    .dataframe tbody tr th {\n",
              "        vertical-align: top;\n",
              "    }\n",
              "\n",
              "    .dataframe thead th {\n",
              "        text-align: right;\n",
              "    }\n",
              "</style>\n",
              "<table border=\"1\" class=\"dataframe\">\n",
              "  <thead>\n",
              "    <tr style=\"text-align: right;\">\n",
              "      <th></th>\n",
              "      <th>customer_id</th>\n",
              "      <th>product_id</th>\n",
              "      <th>order_id</th>\n",
              "      <th>purchase_date</th>\n",
              "      <th>items</th>\n",
              "    </tr>\n",
              "  </thead>\n",
              "  <tbody>\n",
              "    <tr>\n",
              "      <th>127</th>\n",
              "      <td>61899</td>\n",
              "      <td>1370</td>\n",
              "      <td>411156</td>\n",
              "      <td>2024-04-27</td>\n",
              "      <td>3.666667</td>\n",
              "    </tr>\n",
              "    <tr>\n",
              "      <th>344</th>\n",
              "      <td>154077</td>\n",
              "      <td>30500</td>\n",
              "      <td>417911</td>\n",
              "      <td>2024-04-29</td>\n",
              "      <td>2.333333</td>\n",
              "    </tr>\n",
              "    <tr>\n",
              "      <th>354</th>\n",
              "      <td>172056</td>\n",
              "      <td>61672</td>\n",
              "      <td>407162</td>\n",
              "      <td>2024-04-26</td>\n",
              "      <td>1.000000</td>\n",
              "    </tr>\n",
              "    <tr>\n",
              "      <th>372</th>\n",
              "      <td>187101</td>\n",
              "      <td>61542</td>\n",
              "      <td>411911</td>\n",
              "      <td>2024-04-27</td>\n",
              "      <td>17.000000</td>\n",
              "    </tr>\n",
              "    <tr>\n",
              "      <th>373</th>\n",
              "      <td>187806</td>\n",
              "      <td>50270</td>\n",
              "      <td>407286</td>\n",
              "      <td>2024-04-26</td>\n",
              "      <td>3.666667</td>\n",
              "    </tr>\n",
              "  </tbody>\n",
              "</table>\n",
              "</div>\n",
              "    <div class=\"colab-df-buttons\">\n",
              "\n",
              "  <div class=\"colab-df-container\">\n",
              "    <button class=\"colab-df-convert\" onclick=\"convertToInteractive('df-24990b84-0541-4a27-b07d-8281800d3450')\"\n",
              "            title=\"Convert this dataframe to an interactive table.\"\n",
              "            style=\"display:none;\">\n",
              "\n",
              "  <svg xmlns=\"http://www.w3.org/2000/svg\" height=\"24px\" viewBox=\"0 -960 960 960\">\n",
              "    <path d=\"M120-120v-720h720v720H120Zm60-500h600v-160H180v160Zm220 220h160v-160H400v160Zm0 220h160v-160H400v160ZM180-400h160v-160H180v160Zm440 0h160v-160H620v160ZM180-180h160v-160H180v160Zm440 0h160v-160H620v160Z\"/>\n",
              "  </svg>\n",
              "    </button>\n",
              "\n",
              "  <style>\n",
              "    .colab-df-container {\n",
              "      display:flex;\n",
              "      gap: 12px;\n",
              "    }\n",
              "\n",
              "    .colab-df-convert {\n",
              "      background-color: #E8F0FE;\n",
              "      border: none;\n",
              "      border-radius: 50%;\n",
              "      cursor: pointer;\n",
              "      display: none;\n",
              "      fill: #1967D2;\n",
              "      height: 32px;\n",
              "      padding: 0 0 0 0;\n",
              "      width: 32px;\n",
              "    }\n",
              "\n",
              "    .colab-df-convert:hover {\n",
              "      background-color: #E2EBFA;\n",
              "      box-shadow: 0px 1px 2px rgba(60, 64, 67, 0.3), 0px 1px 3px 1px rgba(60, 64, 67, 0.15);\n",
              "      fill: #174EA6;\n",
              "    }\n",
              "\n",
              "    .colab-df-buttons div {\n",
              "      margin-bottom: 4px;\n",
              "    }\n",
              "\n",
              "    [theme=dark] .colab-df-convert {\n",
              "      background-color: #3B4455;\n",
              "      fill: #D2E3FC;\n",
              "    }\n",
              "\n",
              "    [theme=dark] .colab-df-convert:hover {\n",
              "      background-color: #434B5C;\n",
              "      box-shadow: 0px 1px 3px 1px rgba(0, 0, 0, 0.15);\n",
              "      filter: drop-shadow(0px 1px 2px rgba(0, 0, 0, 0.3));\n",
              "      fill: #FFFFFF;\n",
              "    }\n",
              "  </style>\n",
              "\n",
              "    <script>\n",
              "      const buttonEl =\n",
              "        document.querySelector('#df-24990b84-0541-4a27-b07d-8281800d3450 button.colab-df-convert');\n",
              "      buttonEl.style.display =\n",
              "        google.colab.kernel.accessAllowed ? 'block' : 'none';\n",
              "\n",
              "      async function convertToInteractive(key) {\n",
              "        const element = document.querySelector('#df-24990b84-0541-4a27-b07d-8281800d3450');\n",
              "        const dataTable =\n",
              "          await google.colab.kernel.invokeFunction('convertToInteractive',\n",
              "                                                    [key], {});\n",
              "        if (!dataTable) return;\n",
              "\n",
              "        const docLinkHtml = 'Like what you see? Visit the ' +\n",
              "          '<a target=\"_blank\" href=https://colab.research.google.com/notebooks/data_table.ipynb>data table notebook</a>'\n",
              "          + ' to learn more about interactive tables.';\n",
              "        element.innerHTML = '';\n",
              "        dataTable['output_type'] = 'display_data';\n",
              "        await google.colab.output.renderOutput(dataTable, element);\n",
              "        const docLink = document.createElement('div');\n",
              "        docLink.innerHTML = docLinkHtml;\n",
              "        element.appendChild(docLink);\n",
              "      }\n",
              "    </script>\n",
              "  </div>\n",
              "\n",
              "\n",
              "    <div id=\"df-3c92649c-95e7-4f1c-b298-8adca2352caa\">\n",
              "      <button class=\"colab-df-quickchart\" onclick=\"quickchart('df-3c92649c-95e7-4f1c-b298-8adca2352caa')\"\n",
              "                title=\"Suggest charts\"\n",
              "                style=\"display:none;\">\n",
              "\n",
              "<svg xmlns=\"http://www.w3.org/2000/svg\" height=\"24px\"viewBox=\"0 0 24 24\"\n",
              "     width=\"24px\">\n",
              "    <g>\n",
              "        <path d=\"M19 3H5c-1.1 0-2 .9-2 2v14c0 1.1.9 2 2 2h14c1.1 0 2-.9 2-2V5c0-1.1-.9-2-2-2zM9 17H7v-7h2v7zm4 0h-2V7h2v10zm4 0h-2v-4h2v4z\"/>\n",
              "    </g>\n",
              "</svg>\n",
              "      </button>\n",
              "\n",
              "<style>\n",
              "  .colab-df-quickchart {\n",
              "      --bg-color: #E8F0FE;\n",
              "      --fill-color: #1967D2;\n",
              "      --hover-bg-color: #E2EBFA;\n",
              "      --hover-fill-color: #174EA6;\n",
              "      --disabled-fill-color: #AAA;\n",
              "      --disabled-bg-color: #DDD;\n",
              "  }\n",
              "\n",
              "  [theme=dark] .colab-df-quickchart {\n",
              "      --bg-color: #3B4455;\n",
              "      --fill-color: #D2E3FC;\n",
              "      --hover-bg-color: #434B5C;\n",
              "      --hover-fill-color: #FFFFFF;\n",
              "      --disabled-bg-color: #3B4455;\n",
              "      --disabled-fill-color: #666;\n",
              "  }\n",
              "\n",
              "  .colab-df-quickchart {\n",
              "    background-color: var(--bg-color);\n",
              "    border: none;\n",
              "    border-radius: 50%;\n",
              "    cursor: pointer;\n",
              "    display: none;\n",
              "    fill: var(--fill-color);\n",
              "    height: 32px;\n",
              "    padding: 0;\n",
              "    width: 32px;\n",
              "  }\n",
              "\n",
              "  .colab-df-quickchart:hover {\n",
              "    background-color: var(--hover-bg-color);\n",
              "    box-shadow: 0 1px 2px rgba(60, 64, 67, 0.3), 0 1px 3px 1px rgba(60, 64, 67, 0.15);\n",
              "    fill: var(--button-hover-fill-color);\n",
              "  }\n",
              "\n",
              "  .colab-df-quickchart-complete:disabled,\n",
              "  .colab-df-quickchart-complete:disabled:hover {\n",
              "    background-color: var(--disabled-bg-color);\n",
              "    fill: var(--disabled-fill-color);\n",
              "    box-shadow: none;\n",
              "  }\n",
              "\n",
              "  .colab-df-spinner {\n",
              "    border: 2px solid var(--fill-color);\n",
              "    border-color: transparent;\n",
              "    border-bottom-color: var(--fill-color);\n",
              "    animation:\n",
              "      spin 1s steps(1) infinite;\n",
              "  }\n",
              "\n",
              "  @keyframes spin {\n",
              "    0% {\n",
              "      border-color: transparent;\n",
              "      border-bottom-color: var(--fill-color);\n",
              "      border-left-color: var(--fill-color);\n",
              "    }\n",
              "    20% {\n",
              "      border-color: transparent;\n",
              "      border-left-color: var(--fill-color);\n",
              "      border-top-color: var(--fill-color);\n",
              "    }\n",
              "    30% {\n",
              "      border-color: transparent;\n",
              "      border-left-color: var(--fill-color);\n",
              "      border-top-color: var(--fill-color);\n",
              "      border-right-color: var(--fill-color);\n",
              "    }\n",
              "    40% {\n",
              "      border-color: transparent;\n",
              "      border-right-color: var(--fill-color);\n",
              "      border-top-color: var(--fill-color);\n",
              "    }\n",
              "    60% {\n",
              "      border-color: transparent;\n",
              "      border-right-color: var(--fill-color);\n",
              "    }\n",
              "    80% {\n",
              "      border-color: transparent;\n",
              "      border-right-color: var(--fill-color);\n",
              "      border-bottom-color: var(--fill-color);\n",
              "    }\n",
              "    90% {\n",
              "      border-color: transparent;\n",
              "      border-bottom-color: var(--fill-color);\n",
              "    }\n",
              "  }\n",
              "</style>\n",
              "\n",
              "      <script>\n",
              "        async function quickchart(key) {\n",
              "          const quickchartButtonEl =\n",
              "            document.querySelector('#' + key + ' button');\n",
              "          quickchartButtonEl.disabled = true;  // To prevent multiple clicks.\n",
              "          quickchartButtonEl.classList.add('colab-df-spinner');\n",
              "          try {\n",
              "            const charts = await google.colab.kernel.invokeFunction(\n",
              "                'suggestCharts', [key], {});\n",
              "          } catch (error) {\n",
              "            console.error('Error during call to suggestCharts:', error);\n",
              "          }\n",
              "          quickchartButtonEl.classList.remove('colab-df-spinner');\n",
              "          quickchartButtonEl.classList.add('colab-df-quickchart-complete');\n",
              "        }\n",
              "        (() => {\n",
              "          let quickchartButtonEl =\n",
              "            document.querySelector('#df-3c92649c-95e7-4f1c-b298-8adca2352caa button');\n",
              "          quickchartButtonEl.style.display =\n",
              "            google.colab.kernel.accessAllowed ? 'block' : 'none';\n",
              "        })();\n",
              "      </script>\n",
              "    </div>\n",
              "\n",
              "    </div>\n",
              "  </div>\n"
            ],
            "application/vnd.google.colaboratory.intrinsic+json": {
              "type": "dataframe",
              "variable_name": "transacciones"
            }
          },
          "metadata": {},
          "execution_count": 47
        }
      ],
      "source": [
        "transacciones.head()"
      ]
    },
    {
      "cell_type": "code",
      "execution_count": 48,
      "metadata": {
        "id": "VEpqq6VJw-c3"
      },
      "outputs": [],
      "source": [
        "# Crear columnas de año y semana\n",
        "transacciones['year'] = transacciones['purchase_date'].dt.isocalendar().year\n",
        "transacciones['week'] = transacciones['purchase_date'].dt.isocalendar().week\n"
      ]
    },
    {
      "cell_type": "code",
      "execution_count": 49,
      "metadata": {
        "id": "0O_r0Jufw-c3"
      },
      "outputs": [],
      "source": [
        "compras = (\n",
        "    transacciones\n",
        "    .groupby(['customer_id', 'product_id', 'year', 'week'])['items']\n",
        "    .sum()\n",
        "    .reset_index()\n",
        ")\n",
        "compras['target'] = (compras['items'] > 0).astype(int)"
      ]
    },
    {
      "cell_type": "code",
      "execution_count": 50,
      "metadata": {
        "colab": {
          "base_uri": "https://localhost:8080/"
        },
        "id": "xJR-vF1dw-c4",
        "outputId": "53cf953f-4fcc-4388-d333-2e349c0a1efc"
      },
      "outputs": [
        {
          "output_type": "stream",
          "name": "stdout",
          "text": [
            "Dataframe final: (45082559, 19)\n",
            "Ejemplo:\n",
            "          customer_id  year  week  product_id  target  region_id  zone_id  \\\n",
            "44918920       188853  2024    15       44718       0         80     5148   \n",
            "720312         128604  2024    13       50968       0         80     5148   \n",
            "676647         154797  2024    13      297816       0         80     5148   \n",
            "1391934         64365  2024    20        1372       0         80     5148   \n",
            "16129161       191553  2024    44       10512       0         80     5148   \n",
            "\n",
            "         customer_type          Y           X  num_deliver_per_week  \\\n",
            "44918920     ABARROTES -46.556924 -107.858364                     3   \n",
            "720312       ABARROTES -46.560672 -107.877410                     3   \n",
            "676647       ABARROTES -46.554642 -107.903938                     3   \n",
            "1391934      ABARROTES -46.556780 -107.859268                     3   \n",
            "16129161     ABARROTES -46.554400 -107.919600                     4   \n",
            "\n",
            "          num_visit_per_week     brand              category  \\\n",
            "44918920                   1  Brand 35  BEBIDAS CARBONATADAS   \n",
            "720312                     1  Brand 21  BEBIDAS CARBONATADAS   \n",
            "676647                     1  Brand 34  BEBIDAS CARBONATADAS   \n",
            "1391934                    1  Brand 35  BEBIDAS CARBONATADAS   \n",
            "16129161                   1   Brand 7  BEBIDAS CARBONATADAS   \n",
            "\n",
            "               sub_category  segment  package  size purchase_date  \n",
            "44918920           GASEOSAS   MEDIUM     LATA  0.25    2024-04-08  \n",
            "720312    AGUAS SABORIZADAS   MEDIUM  BOTELLA  0.66    2024-03-25  \n",
            "676647             GASEOSAS   MEDIUM  BOTELLA  1.00    2024-03-25  \n",
            "1391934            GASEOSAS   MEDIUM  BOTELLA  1.00    2024-05-13  \n",
            "16129161           GASEOSAS  PREMIUM  BOTELLA  0.66    2024-10-28  \n"
          ]
        }
      ],
      "source": [
        "# 5. Crear combinaciones cliente-producto-semana posibles\n",
        "clientes_semanales = transacciones[['customer_id', 'year', 'week']].drop_duplicates()\n",
        "productos_unicos = productos[['product_id']].drop_duplicates()\n",
        "combinaciones = clientes_semanales.merge(productos_unicos, how='cross')\n",
        "\n",
        "# 6. Unir con compras para marcar target=0 donde no compró\n",
        "df = combinaciones.merge(\n",
        "    compras[['customer_id', 'product_id', 'year', 'week', 'target']],\n",
        "    on=['customer_id', 'product_id', 'year', 'week'],\n",
        "    how='left'\n",
        ")\n",
        "df['target'] = df['target'].fillna(0).astype(int)\n",
        "\n",
        "# 7. Agregar info de clientes y productos\n",
        "df = df.merge(clientes, on='customer_id', how='left')\n",
        "df = df.merge(productos, on='product_id', how='left')\n",
        "\n",
        "# 8. Crear fec ha ficticia de la semana para orden temporal\n",
        "df['purchase_date'] = pd.to_datetime(df['year'].astype(str) + '-W' + df['week'].astype(str) + '-1', format='%G-W%V-%u')\n",
        "\n",
        "# (Opcional: verificar dimensiones)\n",
        "print(\"Dataframe final:\", df.shape)\n",
        "print(\"Ejemplo:\")\n",
        "print(df.sample(5))"
      ]
    },
    {
      "cell_type": "code",
      "execution_count": 51,
      "metadata": {
        "colab": {
          "base_uri": "https://localhost:8080/"
        },
        "id": "CrTVaEYbw-c5",
        "outputId": "ac45d183-4925-4a68-ca41-e9724d4d067a"
      },
      "outputs": [
        {
          "output_type": "execute_result",
          "data": {
            "text/plain": [
              "Index(['customer_id', 'year', 'week', 'product_id', 'target', 'region_id',\n",
              "       'zone_id', 'customer_type', 'Y', 'X', 'num_deliver_per_week',\n",
              "       'num_visit_per_week', 'brand', 'category', 'sub_category', 'segment',\n",
              "       'package', 'size', 'purchase_date'],\n",
              "      dtype='object')"
            ]
          },
          "metadata": {},
          "execution_count": 51
        }
      ],
      "source": [
        "df.columns"
      ]
    },
    {
      "cell_type": "markdown",
      "metadata": {
        "id": "TSNtYX8Fw-c6"
      },
      "source": [
        "*Esto agrega a cada transacción los datos del cliente: región, zona, tipo de cliente, coordenadas y frecuencia de entrega/visita.*\n",
        "\n",
        "*Y luego también la info del producto: marca, categoría, tamaño, etc.*\n",
        "\n",
        "*La cantidad de filas de **df** es la misma que la cantidad de transacciones en la tabla transacciones.*"
      ]
    },
    {
      "cell_type": "markdown",
      "metadata": {
        "id": "fDyUErtNw-c6"
      },
      "source": [
        "## 📌 EDA [0.5 puntos]\n",
        "\n",
        "<center>\n",
        "<img src=\"https://media3.giphy.com/media/v1.Y2lkPTc5MGI3NjExbHZ6aGdkd21tYTI3cW8zYWhyYW5wdGlyb2s3MmRzeTV0dzQ1NWlueiZlcD12MV9pbnRlcm5hbF9naWZfYnlfaWQmY3Q9Zw/3k1hJubTtOAKPKx4k3/giphy.gif\" width=\"400\" height=\"200\">"
      ]
    },
    {
      "cell_type": "markdown",
      "metadata": {
        "id": "m50fKYxIw-c7"
      },
      "source": [
        "En esta sección, se debe realizar un análisis exploratorio de los datos para comprender su estructura, detectar posibles problemas y obtener información relevante para el entrenamiento de los modelos. La idea es que puedan detectar **patrones en los datos** que les permitan resolver el problema con mayor facilidad.\n",
        "\n",
        "Se deben responder preguntas a partir de lo que puedan visualizar/obtener, por ejemplo:\n",
        "\n",
        "- Clientes y productos\n",
        "\n",
        "    - ¿Cuántos clientes únicos hay en el dataset?\n",
        "\n",
        "    - ¿Cuántos productos únicos se encuentran en los datos?\n",
        "\n",
        "- Periodo y frecuencia\n",
        "\n",
        "    - ¿De qué periodo es la información disponible?\n",
        "\n",
        "    - ¿Cuál es la frecuencia de los registros (diaria, semanal, mensual, etc.)?\n",
        "\n",
        "- Calidad de los datos\n",
        "\n",
        "    - ¿Existen valores nulos en el dataset? ¿Cuántos? ¿Cómo se pueden tratar?\n",
        "\n",
        "    - ¿Hay datos raros, como cantidades negativas o inconsistencias? Genere tests de validación para identificar estos problemas.\n",
        "\n",
        "- Patrones de compra\n",
        "\n",
        "    - ¿Cuántos productos compra en promedio cada cliente semana a semana?\n",
        "\n",
        "    - ¿Cuántas transacciones ha realizado cada cliente?\n",
        "\n",
        "    - ¿Cuál es el periodo de recompra promedio de cada SKU?"
      ]
    },
    {
      "cell_type": "markdown",
      "metadata": {
        "id": "CZKdiqWRw-c7"
      },
      "source": [
        "**Clientes y productos**"
      ]
    },
    {
      "cell_type": "code",
      "execution_count": 52,
      "metadata": {
        "colab": {
          "base_uri": "https://localhost:8080/"
        },
        "id": "XD1Mci11w-c8",
        "outputId": "7919553c-d221-4eb1-fa6f-7f2313ae572b"
      },
      "outputs": [
        {
          "output_type": "stream",
          "name": "stdout",
          "text": [
            " Número de clientes únicos: 1569\n",
            " Número de clientes únicos en merged table: 1490\n"
          ]
        }
      ],
      "source": [
        "print(f\" Número de clientes únicos: {clientes['customer_id'].nunique()}\")\n",
        "print(f\" Número de clientes únicos en merged table: {df['customer_id'].nunique()}\")"
      ]
    },
    {
      "cell_type": "code",
      "execution_count": 53,
      "metadata": {
        "colab": {
          "base_uri": "https://localhost:8080/"
        },
        "id": "uTDtHpknw-c8",
        "outputId": "0d89d380-53bb-4e06-a688-e442de030e99"
      },
      "outputs": [
        {
          "output_type": "stream",
          "name": "stdout",
          "text": [
            " Número de productos únicos: 971\n",
            " Número de productos únicos en merged table: 971\n"
          ]
        }
      ],
      "source": [
        "print(f\" Número de productos únicos: {productos['product_id'].nunique()}\")\n",
        "print(f\" Número de productos únicos en merged table: {df['product_id'].nunique()}\")"
      ]
    },
    {
      "cell_type": "markdown",
      "metadata": {
        "id": "WHe0jKqIw-c9"
      },
      "source": [
        "- Clientes y productos\n",
        "\n",
        "    - ¿Cuántos clientes únicos hay en el dataset? Hay 1569 clientes únicos en el dataset clientes, mientras que en la tabla que es el merge entre las tres, solo hay 1490, lo que indica que solo 1490 de 1569 personas han comprado alguna vez o realizado una transacción.\n",
        "\n",
        "    - ¿Cuántos productos únicos se encuentran en los datos? Hay 971 productos, de los cuales solo se han involucrado en una transacción 114, lo que indica que la cantidad de productos es casi del 10% (la mayoría de los productos no se compran nunca!)."
      ]
    },
    {
      "cell_type": "markdown",
      "metadata": {
        "id": "7rwmbTwHw-c9"
      },
      "source": [
        "**Periodo y frecuencia**"
      ]
    },
    {
      "cell_type": "code",
      "execution_count": 54,
      "metadata": {
        "colab": {
          "base_uri": "https://localhost:8080/"
        },
        "id": "DefgWF5vw-c-",
        "outputId": "79ee180f-b9a2-420a-ac53-69bb6985ba19"
      },
      "outputs": [
        {
          "output_type": "stream",
          "name": "stdout",
          "text": [
            " Nombre de la columa fecha: Index(['purchase_date'], dtype='object')\n"
          ]
        }
      ],
      "source": [
        "print(f\" Nombre de la columa fecha: {df.select_dtypes(include=['datetime']).columns}\")"
      ]
    },
    {
      "cell_type": "code",
      "execution_count": 55,
      "metadata": {
        "colab": {
          "base_uri": "https://localhost:8080/",
          "height": 560
        },
        "id": "lqu6QCh9w-c_",
        "outputId": "3f903d62-8d2d-4edb-8530-dbc55ccb8837"
      },
      "outputs": [
        {
          "output_type": "display_data",
          "data": {
            "text/html": [
              "<html>\n",
              "<head><meta charset=\"utf-8\" /></head>\n",
              "<body>\n",
              "    <div>            <script src=\"https://cdnjs.cloudflare.com/ajax/libs/mathjax/2.7.5/MathJax.js?config=TeX-AMS-MML_SVG\"></script><script type=\"text/javascript\">if (window.MathJax && window.MathJax.Hub && window.MathJax.Hub.Config) {window.MathJax.Hub.Config({SVG: {font: \"STIX-Web\"}});}</script>                <script type=\"text/javascript\">window.PlotlyConfig = {MathJaxConfig: 'local'};</script>\n",
              "        <script charset=\"utf-8\" src=\"https://cdn.plot.ly/plotly-2.35.2.min.js\"></script>                <div id=\"80bb5fde-e652-431e-b71d-b26b38d8de98\" class=\"plotly-graph-div\" style=\"height:525px; width:100%;\"></div>            <script type=\"text/javascript\">                                    window.PLOTLYENV=window.PLOTLYENV || {};                                    if (document.getElementById(\"80bb5fde-e652-431e-b71d-b26b38d8de98\")) {                    Plotly.newPlot(                        \"80bb5fde-e652-431e-b71d-b26b38d8de98\",                        [{\"hovertemplate\":\"Semana=%{x}\\u003cbr\\u003eCantidad de compras=%{y}\\u003cextra\\u003e\\u003c\\u002fextra\\u003e\",\"legendgroup\":\"\",\"line\":{\"color\":\"#636efa\",\"dash\":\"solid\"},\"marker\":{\"symbol\":\"circle\"},\"mode\":\"lines+markers\",\"name\":\"\",\"orientation\":\"v\",\"showlegend\":false,\"x\":[\"2024-01-01T00:00:00\",\"2024-01-08T00:00:00\",\"2024-01-15T00:00:00\",\"2024-01-22T00:00:00\",\"2024-01-29T00:00:00\",\"2024-02-05T00:00:00\",\"2024-02-12T00:00:00\",\"2024-02-19T00:00:00\",\"2024-02-26T00:00:00\",\"2024-03-04T00:00:00\",\"2024-03-11T00:00:00\",\"2024-03-18T00:00:00\",\"2024-03-25T00:00:00\",\"2024-04-01T00:00:00\",\"2024-04-08T00:00:00\",\"2024-04-15T00:00:00\",\"2024-04-22T00:00:00\",\"2024-04-29T00:00:00\",\"2024-05-06T00:00:00\",\"2024-05-13T00:00:00\",\"2024-05-20T00:00:00\",\"2024-05-27T00:00:00\",\"2024-06-03T00:00:00\",\"2024-06-10T00:00:00\",\"2024-06-17T00:00:00\",\"2024-06-24T00:00:00\",\"2024-07-01T00:00:00\",\"2024-07-08T00:00:00\",\"2024-07-15T00:00:00\",\"2024-07-22T00:00:00\",\"2024-07-29T00:00:00\",\"2024-08-05T00:00:00\",\"2024-08-12T00:00:00\",\"2024-08-19T00:00:00\",\"2024-08-26T00:00:00\",\"2024-09-02T00:00:00\",\"2024-09-09T00:00:00\",\"2024-09-16T00:00:00\",\"2024-09-23T00:00:00\",\"2024-09-30T00:00:00\",\"2024-10-07T00:00:00\",\"2024-10-14T00:00:00\",\"2024-10-21T00:00:00\",\"2024-10-28T00:00:00\",\"2024-11-04T00:00:00\",\"2024-11-11T00:00:00\",\"2024-11-18T00:00:00\",\"2024-11-25T00:00:00\",\"2024-12-02T00:00:00\",\"2024-12-09T00:00:00\",\"2024-12-16T00:00:00\",\"2024-12-23T00:00:00\",\"2024-12-30T00:00:00\"],\"xaxis\":\"x\",\"y\":[3719,4119,4310,4140,4126,4302,3825,4073,3971,3743,4394,4533,3844,3907,3385,2848,3857,3668,3932,1769,2018,1781,3580,4353,3659,2967,2545,1525,3052,4361,3666,3452,3611,3786,3732,3829,4238,4167,5345,4253,3788,4112,4799,4403,4353,4540,5467,4969,4947,4563,6960,5798,1376],\"yaxis\":\"y\",\"type\":\"scatter\"}],                        {\"template\":{\"data\":{\"barpolar\":[{\"marker\":{\"line\":{\"color\":\"white\",\"width\":0.5},\"pattern\":{\"fillmode\":\"overlay\",\"size\":10,\"solidity\":0.2}},\"type\":\"barpolar\"}],\"bar\":[{\"error_x\":{\"color\":\"#2a3f5f\"},\"error_y\":{\"color\":\"#2a3f5f\"},\"marker\":{\"line\":{\"color\":\"white\",\"width\":0.5},\"pattern\":{\"fillmode\":\"overlay\",\"size\":10,\"solidity\":0.2}},\"type\":\"bar\"}],\"carpet\":[{\"aaxis\":{\"endlinecolor\":\"#2a3f5f\",\"gridcolor\":\"#C8D4E3\",\"linecolor\":\"#C8D4E3\",\"minorgridcolor\":\"#C8D4E3\",\"startlinecolor\":\"#2a3f5f\"},\"baxis\":{\"endlinecolor\":\"#2a3f5f\",\"gridcolor\":\"#C8D4E3\",\"linecolor\":\"#C8D4E3\",\"minorgridcolor\":\"#C8D4E3\",\"startlinecolor\":\"#2a3f5f\"},\"type\":\"carpet\"}],\"choropleth\":[{\"colorbar\":{\"outlinewidth\":0,\"ticks\":\"\"},\"type\":\"choropleth\"}],\"contourcarpet\":[{\"colorbar\":{\"outlinewidth\":0,\"ticks\":\"\"},\"type\":\"contourcarpet\"}],\"contour\":[{\"colorbar\":{\"outlinewidth\":0,\"ticks\":\"\"},\"colorscale\":[[0.0,\"#0d0887\"],[0.1111111111111111,\"#46039f\"],[0.2222222222222222,\"#7201a8\"],[0.3333333333333333,\"#9c179e\"],[0.4444444444444444,\"#bd3786\"],[0.5555555555555556,\"#d8576b\"],[0.6666666666666666,\"#ed7953\"],[0.7777777777777778,\"#fb9f3a\"],[0.8888888888888888,\"#fdca26\"],[1.0,\"#f0f921\"]],\"type\":\"contour\"}],\"heatmapgl\":[{\"colorbar\":{\"outlinewidth\":0,\"ticks\":\"\"},\"colorscale\":[[0.0,\"#0d0887\"],[0.1111111111111111,\"#46039f\"],[0.2222222222222222,\"#7201a8\"],[0.3333333333333333,\"#9c179e\"],[0.4444444444444444,\"#bd3786\"],[0.5555555555555556,\"#d8576b\"],[0.6666666666666666,\"#ed7953\"],[0.7777777777777778,\"#fb9f3a\"],[0.8888888888888888,\"#fdca26\"],[1.0,\"#f0f921\"]],\"type\":\"heatmapgl\"}],\"heatmap\":[{\"colorbar\":{\"outlinewidth\":0,\"ticks\":\"\"},\"colorscale\":[[0.0,\"#0d0887\"],[0.1111111111111111,\"#46039f\"],[0.2222222222222222,\"#7201a8\"],[0.3333333333333333,\"#9c179e\"],[0.4444444444444444,\"#bd3786\"],[0.5555555555555556,\"#d8576b\"],[0.6666666666666666,\"#ed7953\"],[0.7777777777777778,\"#fb9f3a\"],[0.8888888888888888,\"#fdca26\"],[1.0,\"#f0f921\"]],\"type\":\"heatmap\"}],\"histogram2dcontour\":[{\"colorbar\":{\"outlinewidth\":0,\"ticks\":\"\"},\"colorscale\":[[0.0,\"#0d0887\"],[0.1111111111111111,\"#46039f\"],[0.2222222222222222,\"#7201a8\"],[0.3333333333333333,\"#9c179e\"],[0.4444444444444444,\"#bd3786\"],[0.5555555555555556,\"#d8576b\"],[0.6666666666666666,\"#ed7953\"],[0.7777777777777778,\"#fb9f3a\"],[0.8888888888888888,\"#fdca26\"],[1.0,\"#f0f921\"]],\"type\":\"histogram2dcontour\"}],\"histogram2d\":[{\"colorbar\":{\"outlinewidth\":0,\"ticks\":\"\"},\"colorscale\":[[0.0,\"#0d0887\"],[0.1111111111111111,\"#46039f\"],[0.2222222222222222,\"#7201a8\"],[0.3333333333333333,\"#9c179e\"],[0.4444444444444444,\"#bd3786\"],[0.5555555555555556,\"#d8576b\"],[0.6666666666666666,\"#ed7953\"],[0.7777777777777778,\"#fb9f3a\"],[0.8888888888888888,\"#fdca26\"],[1.0,\"#f0f921\"]],\"type\":\"histogram2d\"}],\"histogram\":[{\"marker\":{\"pattern\":{\"fillmode\":\"overlay\",\"size\":10,\"solidity\":0.2}},\"type\":\"histogram\"}],\"mesh3d\":[{\"colorbar\":{\"outlinewidth\":0,\"ticks\":\"\"},\"type\":\"mesh3d\"}],\"parcoords\":[{\"line\":{\"colorbar\":{\"outlinewidth\":0,\"ticks\":\"\"}},\"type\":\"parcoords\"}],\"pie\":[{\"automargin\":true,\"type\":\"pie\"}],\"scatter3d\":[{\"line\":{\"colorbar\":{\"outlinewidth\":0,\"ticks\":\"\"}},\"marker\":{\"colorbar\":{\"outlinewidth\":0,\"ticks\":\"\"}},\"type\":\"scatter3d\"}],\"scattercarpet\":[{\"marker\":{\"colorbar\":{\"outlinewidth\":0,\"ticks\":\"\"}},\"type\":\"scattercarpet\"}],\"scattergeo\":[{\"marker\":{\"colorbar\":{\"outlinewidth\":0,\"ticks\":\"\"}},\"type\":\"scattergeo\"}],\"scattergl\":[{\"marker\":{\"colorbar\":{\"outlinewidth\":0,\"ticks\":\"\"}},\"type\":\"scattergl\"}],\"scattermapbox\":[{\"marker\":{\"colorbar\":{\"outlinewidth\":0,\"ticks\":\"\"}},\"type\":\"scattermapbox\"}],\"scatterpolargl\":[{\"marker\":{\"colorbar\":{\"outlinewidth\":0,\"ticks\":\"\"}},\"type\":\"scatterpolargl\"}],\"scatterpolar\":[{\"marker\":{\"colorbar\":{\"outlinewidth\":0,\"ticks\":\"\"}},\"type\":\"scatterpolar\"}],\"scatter\":[{\"fillpattern\":{\"fillmode\":\"overlay\",\"size\":10,\"solidity\":0.2},\"type\":\"scatter\"}],\"scatterternary\":[{\"marker\":{\"colorbar\":{\"outlinewidth\":0,\"ticks\":\"\"}},\"type\":\"scatterternary\"}],\"surface\":[{\"colorbar\":{\"outlinewidth\":0,\"ticks\":\"\"},\"colorscale\":[[0.0,\"#0d0887\"],[0.1111111111111111,\"#46039f\"],[0.2222222222222222,\"#7201a8\"],[0.3333333333333333,\"#9c179e\"],[0.4444444444444444,\"#bd3786\"],[0.5555555555555556,\"#d8576b\"],[0.6666666666666666,\"#ed7953\"],[0.7777777777777778,\"#fb9f3a\"],[0.8888888888888888,\"#fdca26\"],[1.0,\"#f0f921\"]],\"type\":\"surface\"}],\"table\":[{\"cells\":{\"fill\":{\"color\":\"#EBF0F8\"},\"line\":{\"color\":\"white\"}},\"header\":{\"fill\":{\"color\":\"#C8D4E3\"},\"line\":{\"color\":\"white\"}},\"type\":\"table\"}]},\"layout\":{\"annotationdefaults\":{\"arrowcolor\":\"#2a3f5f\",\"arrowhead\":0,\"arrowwidth\":1},\"autotypenumbers\":\"strict\",\"coloraxis\":{\"colorbar\":{\"outlinewidth\":0,\"ticks\":\"\"}},\"colorscale\":{\"diverging\":[[0,\"#8e0152\"],[0.1,\"#c51b7d\"],[0.2,\"#de77ae\"],[0.3,\"#f1b6da\"],[0.4,\"#fde0ef\"],[0.5,\"#f7f7f7\"],[0.6,\"#e6f5d0\"],[0.7,\"#b8e186\"],[0.8,\"#7fbc41\"],[0.9,\"#4d9221\"],[1,\"#276419\"]],\"sequential\":[[0.0,\"#0d0887\"],[0.1111111111111111,\"#46039f\"],[0.2222222222222222,\"#7201a8\"],[0.3333333333333333,\"#9c179e\"],[0.4444444444444444,\"#bd3786\"],[0.5555555555555556,\"#d8576b\"],[0.6666666666666666,\"#ed7953\"],[0.7777777777777778,\"#fb9f3a\"],[0.8888888888888888,\"#fdca26\"],[1.0,\"#f0f921\"]],\"sequentialminus\":[[0.0,\"#0d0887\"],[0.1111111111111111,\"#46039f\"],[0.2222222222222222,\"#7201a8\"],[0.3333333333333333,\"#9c179e\"],[0.4444444444444444,\"#bd3786\"],[0.5555555555555556,\"#d8576b\"],[0.6666666666666666,\"#ed7953\"],[0.7777777777777778,\"#fb9f3a\"],[0.8888888888888888,\"#fdca26\"],[1.0,\"#f0f921\"]]},\"colorway\":[\"#636efa\",\"#EF553B\",\"#00cc96\",\"#ab63fa\",\"#FFA15A\",\"#19d3f3\",\"#FF6692\",\"#B6E880\",\"#FF97FF\",\"#FECB52\"],\"font\":{\"color\":\"#2a3f5f\"},\"geo\":{\"bgcolor\":\"white\",\"lakecolor\":\"white\",\"landcolor\":\"white\",\"showlakes\":true,\"showland\":true,\"subunitcolor\":\"#C8D4E3\"},\"hoverlabel\":{\"align\":\"left\"},\"hovermode\":\"closest\",\"mapbox\":{\"style\":\"light\"},\"paper_bgcolor\":\"white\",\"plot_bgcolor\":\"white\",\"polar\":{\"angularaxis\":{\"gridcolor\":\"#EBF0F8\",\"linecolor\":\"#EBF0F8\",\"ticks\":\"\"},\"bgcolor\":\"white\",\"radialaxis\":{\"gridcolor\":\"#EBF0F8\",\"linecolor\":\"#EBF0F8\",\"ticks\":\"\"}},\"scene\":{\"xaxis\":{\"backgroundcolor\":\"white\",\"gridcolor\":\"#DFE8F3\",\"gridwidth\":2,\"linecolor\":\"#EBF0F8\",\"showbackground\":true,\"ticks\":\"\",\"zerolinecolor\":\"#EBF0F8\"},\"yaxis\":{\"backgroundcolor\":\"white\",\"gridcolor\":\"#DFE8F3\",\"gridwidth\":2,\"linecolor\":\"#EBF0F8\",\"showbackground\":true,\"ticks\":\"\",\"zerolinecolor\":\"#EBF0F8\"},\"zaxis\":{\"backgroundcolor\":\"white\",\"gridcolor\":\"#DFE8F3\",\"gridwidth\":2,\"linecolor\":\"#EBF0F8\",\"showbackground\":true,\"ticks\":\"\",\"zerolinecolor\":\"#EBF0F8\"}},\"shapedefaults\":{\"line\":{\"color\":\"#2a3f5f\"}},\"ternary\":{\"aaxis\":{\"gridcolor\":\"#DFE8F3\",\"linecolor\":\"#A2B1C6\",\"ticks\":\"\"},\"baxis\":{\"gridcolor\":\"#DFE8F3\",\"linecolor\":\"#A2B1C6\",\"ticks\":\"\"},\"bgcolor\":\"white\",\"caxis\":{\"gridcolor\":\"#DFE8F3\",\"linecolor\":\"#A2B1C6\",\"ticks\":\"\"}},\"title\":{\"x\":0.05},\"xaxis\":{\"automargin\":true,\"gridcolor\":\"#EBF0F8\",\"linecolor\":\"#EBF0F8\",\"ticks\":\"\",\"title\":{\"standoff\":15},\"zerolinecolor\":\"#EBF0F8\",\"zerolinewidth\":2},\"yaxis\":{\"automargin\":true,\"gridcolor\":\"#EBF0F8\",\"linecolor\":\"#EBF0F8\",\"ticks\":\"\",\"title\":{\"standoff\":15},\"zerolinecolor\":\"#EBF0F8\",\"zerolinewidth\":2}}},\"xaxis\":{\"anchor\":\"y\",\"domain\":[0.0,1.0],\"title\":{\"text\":\"Semana\",\"font\":{\"size\":14}}},\"yaxis\":{\"anchor\":\"x\",\"domain\":[0.0,1.0],\"title\":{\"text\":\"Cantidad de compras\",\"font\":{\"size\":14}}},\"legend\":{\"tracegroupgap\":0},\"title\":{\"text\":\"Evolución semanal de compras (target = 1)\",\"font\":{\"size\":20}}},                        {\"responsive\": true}                    ).then(function(){\n",
              "                            \n",
              "var gd = document.getElementById('80bb5fde-e652-431e-b71d-b26b38d8de98');\n",
              "var x = new MutationObserver(function (mutations, observer) {{\n",
              "        var display = window.getComputedStyle(gd).display;\n",
              "        if (!display || display === 'none') {{\n",
              "            console.log([gd, 'removed!']);\n",
              "            Plotly.purge(gd);\n",
              "            observer.disconnect();\n",
              "        }}\n",
              "}});\n",
              "\n",
              "// Listen for the removal of the full notebook cells\n",
              "var notebookContainer = gd.closest('#notebook-container');\n",
              "if (notebookContainer) {{\n",
              "    x.observe(notebookContainer, {childList: true});\n",
              "}}\n",
              "\n",
              "// Listen for the clearing of the current output cell\n",
              "var outputEl = gd.closest('.output');\n",
              "if (outputEl) {{\n",
              "    x.observe(outputEl, {childList: true});\n",
              "}}\n",
              "\n",
              "                        })                };                            </script>        </div>\n",
              "</body>\n",
              "</html>"
            ]
          },
          "metadata": {}
        },
        {
          "output_type": "execute_result",
          "data": {
            "text/plain": [
              "1"
            ]
          },
          "metadata": {},
          "execution_count": 55
        }
      ],
      "source": [
        "import plotly.express as px\n",
        "\n",
        "# Agrupamos por semana\n",
        "compras_semanales = (\n",
        "    df[df['target'] == 1]\n",
        "    .groupby('purchase_date')\n",
        "    .size()\n",
        "    .reset_index(name='compras')\n",
        ")\n",
        "\n",
        "fig = px.line(\n",
        "    compras_semanales,\n",
        "    x='purchase_date',\n",
        "    y='compras',\n",
        "    title='Evolución semanal de compras (target = 1)',\n",
        "    labels={'purchase_date': 'Semana', 'compras': 'Cantidad de compras'},\n",
        "    markers=True\n",
        ")\n",
        "\n",
        "fig.update_layout(\n",
        "    title_font_size=20,\n",
        "    xaxis_title_font_size=14,\n",
        "    yaxis_title_font_size=14,\n",
        "    template='plotly_white'\n",
        ")\n",
        "\n",
        "fig.show()\n",
        "1"
      ]
    },
    {
      "cell_type": "markdown",
      "metadata": {
        "id": "Yl5TOZcZw-dA"
      },
      "source": [
        "- Periodo y frecuencia\n",
        "\n",
        "    - ¿De qué periodo es la información disponible? La información disponible es desde el mes de Marzo de 2024 hasta el mes de Enero de 2025.\n",
        "\n",
        "    - ¿Cuál es la frecuencia de los registros (diaria, semanal, mensual, etc.)? La frecuencia de los registros en el caso del gráfico es diaria (aunque se puede ver por mes, año, etc)."
      ]
    },
    {
      "cell_type": "markdown",
      "metadata": {
        "id": "tci9bJdhw-dA"
      },
      "source": [
        "**Calidad de los datos**"
      ]
    },
    {
      "cell_type": "code",
      "execution_count": 56,
      "metadata": {
        "colab": {
          "base_uri": "https://localhost:8080/"
        },
        "id": "ZbhoX4c1w-dA",
        "outputId": "7ef9c7f1-f029-4d60-951c-c88416db9147"
      },
      "outputs": [
        {
          "output_type": "stream",
          "name": "stdout",
          "text": [
            " Nulos POST Join:\n",
            "\n",
            "customer_id             0\n",
            "year                    0\n",
            "week                    0\n",
            "product_id              0\n",
            "target                  0\n",
            "region_id               0\n",
            "zone_id                 0\n",
            "customer_type           0\n",
            "Y                       0\n",
            "X                       0\n",
            "num_deliver_per_week    0\n",
            "num_visit_per_week      0\n",
            "brand                   0\n",
            "category                0\n",
            "sub_category            0\n",
            "segment                 0\n",
            "package                 0\n",
            "size                    0\n",
            "purchase_date           0\n",
            "dtype: int64\n"
          ]
        }
      ],
      "source": [
        "print(\" Nulos POST Join:\\n\")\n",
        "print(df.isnull().sum())"
      ]
    },
    {
      "cell_type": "markdown",
      "metadata": {
        "id": "Nko6ZPzRw-dA"
      },
      "source": [
        "- Calidad de los datos\n",
        "\n",
        "    - ¿Existen valores nulos en el dataset? ¿Cuántos? ¿Cómo se pueden tratar? Existe solo un valor nulo en la variable o columna X, pero es insignificante por lo que podemos asumir que es un error de tipeo o de registro en el dataset, por lo que lo ignoraremos. (tendría sentido hacer un imputador en el caso de los nulos solamente si fueran muchos, usando SimpleImputer, KNNImputer, MICE, etc).\n",
        "\n",
        "    - ¿Hay datos raros, como cantidades negativas o inconsistencias? Genere tests de validación para identificar estos problemas. Las únicas variables que tienen valores negativos son las X e Y, que son coordenadas de latitud y longitud, por lo que no hay problema, por la definición o naturaleza de las mismas."
      ]
    },
    {
      "cell_type": "markdown",
      "metadata": {
        "id": "8EzP-7G2w-dA"
      },
      "source": [
        "**Patrones de compra**"
      ]
    },
    {
      "cell_type": "code",
      "execution_count": 57,
      "metadata": {
        "colab": {
          "base_uri": "https://localhost:8080/"
        },
        "id": "G5IbRIbMw-dA",
        "outputId": "d7837cd3-3fc2-4106-c103-7c06ce245dce"
      },
      "outputs": [
        {
          "output_type": "stream",
          "name": "stdout",
          "text": [
            "Index(['customer_id', 'year', 'week', 'product_id', 'target', 'region_id',\n",
            "       'zone_id', 'customer_type', 'Y', 'X', 'num_deliver_per_week',\n",
            "       'num_visit_per_week', 'brand', 'category', 'sub_category', 'segment',\n",
            "       'package', 'size', 'purchase_date'],\n",
            "      dtype='object')\n",
            "target\n",
            "0    44876099\n",
            "1      206460\n",
            "Name: count, dtype: int64\n"
          ]
        }
      ],
      "source": [
        "print(df.columns)\n",
        "print(df['target'].value_counts())\n"
      ]
    },
    {
      "cell_type": "code",
      "execution_count": 58,
      "metadata": {
        "colab": {
          "base_uri": "https://localhost:8080/",
          "height": 496
        },
        "id": "T1sQtnv0w-dC",
        "outputId": "aed9c46c-acf9-4a10-a405-fdf0117e2e42"
      },
      "outputs": [
        {
          "output_type": "stream",
          "name": "stdout",
          "text": [
            "Distribución de la variable target (0 = no compra, 1 = compra):\n",
            "target\n",
            "0    44876099\n",
            "1      206460\n",
            "Name: count, dtype: int64\n"
          ]
        },
        {
          "output_type": "display_data",
          "data": {
            "text/plain": [
              "<Figure size 600x400 with 1 Axes>"
            ],
            "image/png": "[encoded data removed]"
          },
          "metadata": {}
        }
      ],
      "source": [
        "import matplotlib.pyplot as plt\n",
        "import seaborn as sns\n",
        "\n",
        "target_counts = df['target'].value_counts()\n",
        "print(\"Distribución de la variable target (0 = no compra, 1 = compra):\")\n",
        "print(target_counts)\n",
        "\n",
        "plt.figure(figsize=(6, 4))\n",
        "sns.barplot(x=target_counts.index, y=target_counts.values)\n",
        "plt.title(\"Distribución de la variable objetivo (target)\")\n",
        "plt.xlabel(\"¿Compró el producto esa semana?\")\n",
        "plt.ylabel(\"Número de observaciones\")\n",
        "plt.xticks([0, 1], ['No compró (0)', 'Compró (1)'])\n",
        "plt.grid(True)\n",
        "plt.tight_layout()\n",
        "plt.show()"
      ]
    },
    {
      "cell_type": "code",
      "execution_count": 59,
      "metadata": {
        "colab": {
          "base_uri": "https://localhost:8080/"
        },
        "id": "cF-Wi0Tzw-dC",
        "outputId": "a86d405e-599f-4508-85e6-1002f97003ca"
      },
      "outputs": [
        {
          "output_type": "stream",
          "name": "stdout",
          "text": [
            "Número de semanas representadas: 53\n",
            "Clientes únicos: 1490\n",
            "Productos únicos: 971\n",
            "Total de combinaciones cliente-producto-semana: 45,082,559\n"
          ]
        }
      ],
      "source": [
        "num_semanas = df[['year', 'week']].drop_duplicates().shape[0]\n",
        "print(f\"Número de semanas representadas: {num_semanas}\")\n",
        "\n",
        "# -----------------------------\n",
        "# 3. Clientes únicos, productos únicos, combinaciones\n",
        "# -----------------------------\n",
        "n_clientes = df['customer_id'].nunique()\n",
        "n_productos = df['product_id'].nunique()\n",
        "n_combinaciones = df.shape[0]\n",
        "print(f\"Clientes únicos: {n_clientes}\")\n",
        "print(f\"Productos únicos: {n_productos}\")\n",
        "print(f\"Total de combinaciones cliente-producto-semana: {n_combinaciones:,}\")"
      ]
    },
    {
      "cell_type": "code",
      "execution_count": 60,
      "metadata": {
        "colab": {
          "base_uri": "https://localhost:8080/",
          "height": 407
        },
        "id": "In3I5jjTw-dD",
        "outputId": "9f4ec47f-7ea4-4179-ea00-01823707fe4e"
      },
      "outputs": [
        {
          "output_type": "display_data",
          "data": {
            "text/plain": [
              "<Figure size 800x400 with 1 Axes>"
            ],
            "image/png": "[encoded data removed]"
          },
          "metadata": {}
        }
      ],
      "source": [
        "productos_por_cliente = df[df['target'] == 1].groupby(['customer_id', 'year', 'week'])['product_id'].nunique().reset_index(name='n_productos_comprados')\n",
        "\n",
        "plt.figure(figsize=(8, 4))\n",
        "sns.histplot(productos_por_cliente['n_productos_comprados'], bins=20, kde=True)\n",
        "plt.title(\"Productos comprados por cliente en una semana (solo donde hubo compras)\")\n",
        "plt.xlabel(\"Cantidad de productos\")\n",
        "plt.ylabel(\"Frecuencia\")\n",
        "plt.grid(True)\n",
        "plt.tight_layout()\n",
        "plt.show()"
      ]
    },
    {
      "cell_type": "code",
      "execution_count": 61,
      "metadata": {
        "colab": {
          "base_uri": "https://localhost:8080/",
          "height": 407
        },
        "id": "kBIbvLo2w-dD",
        "outputId": "4084073c-cd78-4f8e-86ee-804f5f281bdd"
      },
      "outputs": [
        {
          "output_type": "display_data",
          "data": {
            "text/plain": [
              "<Figure size 800x400 with 1 Axes>"
            ],
            "image/png": "[encoded data removed]"
          },
          "metadata": {}
        }
      ],
      "source": [
        "semanas_por_producto = df[df['target'] == 1].groupby('product_id')[['year', 'week']].nunique()\n",
        "semanas_por_producto['total_semanas'] = semanas_por_producto['year'] + semanas_por_producto['week'] * 0.01  # solo para orden\n",
        "\n",
        "plt.figure(figsize=(8, 4))\n",
        "sns.histplot(semanas_por_producto['total_semanas'], bins=20, kde=True)\n",
        "plt.title(\"Cantidad de semanas en que se compró cada producto\")\n",
        "plt.xlabel(\"Número de semanas activas\")\n",
        "plt.ylabel(\"Número de productos\")\n",
        "plt.tight_layout()\n",
        "plt.show()"
      ]
    },
    {
      "cell_type": "markdown",
      "metadata": {
        "id": "ptYED2hCw-dE"
      },
      "source": [
        "## 📌 Holdout [0.25 puntos]\n",
        "\n",
        "Para evaluar correctamente el modelo y garantizar su capacidad de generalización, se deben dividir los datos en tres conjuntos:\n",
        "- `Entrenamiento` : Para ajustar los parámetros.\n",
        "- `Validación`: Para optimizar hiperparámetros y seleccionar el mejor modelo.\n",
        "- `Prueba` : Para evaluar el rendimiento final en datos no vistos.\n",
        "\n",
        "👀 **Hint**: *Recuerde que los datos tienen una temporalidad que debe considerarse al momento de separarlos, para evitar fugas de información. Es importante justificar la estrategia de partición elegida y visualizar la distribución temporal de los conjuntos generados*"
      ]
    },
    {
      "cell_type": "markdown",
      "metadata": {
        "id": "0jsCA79tw-dF"
      },
      "source": [
        "Aquí dividimos el dataset mergeado en train/test/validation. Además, desde cierto punto de vista podemos sugerir hacer este split debido a que es un enfoque muy fácil y simple de hacer, y lo que es simple en ocasiones indica menor complejidad. Dividir el dataset respetando la variable temporal asegura que el modelo no tenga acceso a información del futuro durante el entrenamiento (se evita el data leakage). Mientras que si mezcláramos aleatoriamente los datos, el modelo podría \"ver\" patrones posteriores en el tiempo, lo que daría lugar a una estimación demasiado optimista de su desempeño. Además,aseguramos poder tener una evaluación realista del modelo y respetar así la naturaleza secuencial de los datos (por ejemplo, esperamos que el dataset de test sea el último porque es la información del futuro, que en ocasiones en series de tiempo nos interesa predecir). Los cortes se realizaron en los percentiles 60% y 80% del intervalo temporal total. Este porcentaje porque por lo general se espera que el train set sea un 60-70%, el validation set un 10-20% y el test set un 10-20% ([según esta pagina](https://stackoverflow.com/questions/54413160/training-validation-testing-batch-size-ratio), donde se dice además que la división Train/Test es generalmente 80%/20%, y dado que el validation es \"parte\" del train, debe ocupar el train un poco menos de 80 y el validation casi lo mismo que el Test set). La limitación: puede haber una instancia o variable que no podamos predecir y que esté presente solamente en el conjunto de test."
      ]
    },
    {
      "cell_type": "code",
      "execution_count": 64,
      "metadata": {
        "colab": {
          "base_uri": "https://localhost:8080/"
        },
        "id": "StaW9zyAw-dF",
        "outputId": "7cbf88de-d782-4112-f694-156e36214b93"
      },
      "outputs": [
        {
          "output_type": "stream",
          "name": "stdout",
          "text": [
            "Rango de fechas: 2024-01-01 → 2024-12-30\n"
          ]
        }
      ],
      "source": [
        "min_date = df['purchase_date'].min()\n",
        "max_date = df['purchase_date'].max()\n",
        "\n",
        "print(\"Rango de fechas:\", min_date.date(), \"→\", max_date.date())"
      ]
    },
    {
      "cell_type": "code",
      "execution_count": 65,
      "metadata": {
        "colab": {
          "base_uri": "https://localhost:8080/",
          "height": 425
        },
        "id": "zSksJ8kMw-dH",
        "outputId": "a756bcc7-0d89-4e04-ff62-a5ed0ab9d844"
      },
      "outputs": [
        {
          "output_type": "display_data",
          "data": {
            "text/plain": [
              "<Figure size 1200x400 with 1 Axes>"
            ],
            "image/png": "[encoded data removed]"
          },
          "metadata": {}
        },
        {
          "output_type": "execute_result",
          "data": {
            "text/plain": [
              "(datetime.date(2024, 8, 6), datetime.date(2024, 10, 18))"
            ]
          },
          "metadata": {},
          "execution_count": 65
        }
      ],
      "source": [
        "from datetime import timedelta\n",
        "import matplotlib.pyplot as plt\n",
        "\n",
        "# Calcular duración total\n",
        "total_days = (max_date - min_date).days\n",
        "\n",
        "# Elegir puntos de corte (60% / 20% / 20%)\n",
        "cutoff_train = min_date + timedelta(days=int(total_days * 0.6))\n",
        "cutoff_valid = min_date + timedelta(days=int(total_days * 0.8))\n",
        "\n",
        "# Separación respetando temporalidad (sin mezcla)\n",
        "df_train = df[df['purchase_date'] <= cutoff_train]\n",
        "df_valid = df[(df['purchase_date'] > cutoff_train) & (df['purchase_date'] <= cutoff_valid)]\n",
        "df_test  = df[df['purchase_date'] > cutoff_valid]\n",
        "\n",
        "# Visualizar los cortes\n",
        "plt.figure(figsize=(12, 4))\n",
        "plt.hist(df_train['purchase_date'], bins=50, label='Train', alpha=0.6)\n",
        "plt.hist(df_valid['purchase_date'], bins=50, label='Valid', alpha=0.6)\n",
        "plt.hist(df_test['purchase_date'], bins=50, label='Test', alpha=0.6)\n",
        "plt.axvline(cutoff_train, color='black', linestyle='--', label='cutoff_train')\n",
        "plt.axvline(cutoff_valid, color='gray', linestyle='--', label='cutoff_valid')\n",
        "plt.legend()\n",
        "plt.title(\"Distribución temporal de los conjuntos (por semana)\")\n",
        "plt.xlabel(\"Fecha representativa (lunes de la semana)\")\n",
        "plt.ylabel(\"Cantidad de registros\")\n",
        "plt.tight_layout()\n",
        "plt.show()\n",
        "\n",
        "cutoff_train.date(), cutoff_valid.date()\n"
      ]
    },
    {
      "cell_type": "code",
      "execution_count": 66,
      "metadata": {
        "colab": {
          "base_uri": "https://localhost:8080/"
        },
        "id": "VadO2jjtw-dI",
        "outputId": "ae9aeb4b-cadc-4b78-8fc5-e80365efe985"
      },
      "outputs": [
        {
          "output_type": "stream",
          "name": "stdout",
          "text": [
            "Categóricas: ['customer_type', 'brand', 'category', 'sub_category', 'segment', 'package']\n",
            "Numéricas: ['customer_id', 'year', 'week', 'product_id', 'region_id', 'zone_id', 'Y', 'X', 'num_deliver_per_week', 'num_visit_per_week', 'size', 'dayofweek', 'month', 'week']\n",
            "Fecha: ['purchase_date']\n"
          ]
        }
      ],
      "source": [
        "# Identificar tipos de columnas\n",
        "categorical_cols = df.select_dtypes(include=['object', 'category']).columns.tolist()\n",
        "numerical_cols = df.select_dtypes(include=['number']).columns.tolist()\n",
        "date_cols = ['purchase_date']\n",
        "\n",
        "# Agregar columnas derivadas de fecha (las crearás en el pipeline)\n",
        "numerical_cols += [\"dayofweek\", \"month\", \"week\"]\n",
        "\n",
        "# Asegúrate de no usar la variable objetivo ni innecesarias\n",
        "for col in ['target', 'items']:\n",
        "    if col in numerical_cols:\n",
        "        numerical_cols.remove(col)\n",
        "\n",
        "print(\"Categóricas:\", categorical_cols)\n",
        "print(\"Numéricas:\", numerical_cols)\n",
        "print(\"Fecha:\", date_cols)\n"
      ]
    },
    {
      "cell_type": "markdown",
      "metadata": {
        "id": "5hRghgZSw-dJ"
      },
      "source": [
        "## 📌 Feature Engineering [0.5 puntos]\n",
        "\n",
        "<center>\n",
        "<img src=\"https://i.imgur.com/CmXZSSC.gif\" width=\"300\" height=\"200\">"
      ]
    },
    {
      "cell_type": "markdown",
      "metadata": {
        "id": "DfYawkclw-dJ"
      },
      "source": [
        "En esta sección, se deben construir pipelines para automatizar el preprocesamiento de los datos, lo cual garantizará que el flujo de trabajo sea reproducible y eficiente para esta entrega y las futuras. El objetivo es aplicar una serie de transformaciones en un orden definido para asegurar que los datos estén listos para los modelos a entrenar. El pipeline final debe incluir las técnicas de pre-procesamiento que se deben aplicar a los distintos datos (según lo que consideren necesario para el problema). Por ejemplo:\n",
        "\n",
        "- **Imputación de valores nulos**: Manejo de datos faltantes mediante estrategias adecuadas (media, mediana, moda, interpolación, etc.).\n",
        "\n",
        "- **Transformaciones personalizadas**: Uso de ColumnTransformer para aplicar diferentes transformaciones a columnas específicas.\n",
        "\n",
        "- **Codificación de variables categóricas**: Convertir datos categóricos a un formato numérico adecuado (One-Hot Encoding, Label Encoding, etc.).\n",
        "\n",
        "- **Discretización de variables**: Conversión de variables numéricas continuas en categorías si son relevantes para el desempeño del modelo a entrenar.\n",
        "\n",
        "- **Estandarización o normalización** : Ajustar la escala de los datos para mejorar el rendimiento de los algoritmos sensibles a la magnitud de las variables.\n",
        "\n",
        "- **Eliminación o transformación de valores atípicos**: Identificar y tratar con datos outliers para mejorar la robustez del modelo.\n",
        "\n",
        "- **Nuevas características** : Creación de variables adicionales que puedan aportar información relevante al modelo.\n",
        "\n",
        "Cada una de estas transformaciones debe ser justificada en función de su relevancia para el problema y los datos, y es importante evaluar su impacto en el rendimiento del modelo. Además, el pipeline debe ser flexible y modular para poder probar diferentes configuraciones de preprocesamiento."
      ]
    },
    {
      "cell_type": "markdown",
      "metadata": {
        "id": "ANxUC8Cuw-dK"
      },
      "source": [
        "Implementamos un transformador personalizado (o función DateFeatureExtractor) que descompone la variable temporal purchase_date en nuevas características derivadas: día de la semana, mes y número de semana del año. Esta transformación busca capturar patrones temporales relevantes que puedan influir en el comportamiento de compra, como estacionalidad o efectos de fin de semana (estacionalidad es el efecto casi periódico de aumento y disminución de alguna cantidad debido a vacaciones, fechas especiales, etc). Incorporar estas variables permite enriquecer el espacio de representación del modelo con información contextual. También aplicamos transformaciones diferenciadas según el tipo de variable. Para las variables numéricas utilizamos imputación por mediana seguida de estandarización mediante StandardScaler, lo que asegura que las variables estén en una misma escala sin ser afectadas por valores atípicos. En el caso de las variables categóricas, imputamos con la moda (por simplicidad y porque estamos recién en el Baseline, y porque luego nos fijaremos en la optimización) y luego se codificaron mediante OneHotEncoder, permitiendo convertirlas en una representación numérica adecuada para los algoritmos de aprendizaje supervisado (que en nuestro caso serán Dummy Classifier, Decision Tree, etc)."
      ]
    },
    {
      "cell_type": "code",
      "execution_count": 67,
      "metadata": {
        "id": "DawPkwN2w-dK"
      },
      "outputs": [],
      "source": [
        "from sklearn.pipeline import Pipeline\n",
        "from sklearn.compose import ColumnTransformer\n",
        "from sklearn.impute import SimpleImputer\n",
        "from sklearn.preprocessing import OneHotEncoder, StandardScaler\n",
        "from sklearn.base import BaseEstimator, TransformerMixin\n",
        "import pandas as pd\n",
        "\n",
        "# ----------------------------\n",
        "# 1. Extraer características temporales de la fecha\n",
        "# ----------------------------\n",
        "class DateFeatureExtractor(BaseEstimator, TransformerMixin):\n",
        "    def __init__(self, date_column=\"purchase_date\"):\n",
        "        self.date_column = date_column\n",
        "\n",
        "    def fit(self, X, y=None):\n",
        "        return self\n",
        "\n",
        "    def transform(self, X):\n",
        "        X = X.copy()\n",
        "        X[self.date_column] = pd.to_datetime(X[self.date_column])\n",
        "        X[\"dayofweek\"] = X[self.date_column].dt.dayofweek\n",
        "        X[\"month\"] = X[self.date_column].dt.month\n",
        "        X[\"week\"] = X[self.date_column].dt.isocalendar().week.astype(int)\n",
        "        return X.drop(columns=[self.date_column])\n",
        "\n",
        "# ----------------------------\n",
        "# 2. Definir columnas numéricas y categóricas finales\n",
        "# ----------------------------\n",
        "# Evitar columnas que no deberían ir\n",
        "excluded_cols = ['target', 'items', 'purchase_date']\n",
        "numerical_cols = [col for col in numerical_cols if col not in excluded_cols]\n",
        "categorical_cols = [col for col in categorical_cols if col not in excluded_cols]\n",
        "\n",
        "# ----------------------------\n",
        "# 3. Pipelines para cada tipo de dato\n",
        "# ----------------------------\n",
        "numeric_transformer = Pipeline(steps=[\n",
        "    (\"imputer\", SimpleImputer(strategy=\"median\")),\n",
        "    (\"scaler\", StandardScaler())\n",
        "])\n",
        "\n",
        "categorical_transformer = Pipeline(steps=[\n",
        "    (\"imputer\", SimpleImputer(strategy=\"most_frequent\")),\n",
        "    (\"encoder\", OneHotEncoder(handle_unknown=\"ignore\", sparse_output=False))\n",
        "])\n",
        "\n",
        "# ----------------------------\n",
        "# 4. Preprocesador final\n",
        "# ----------------------------\n",
        "preprocessor = ColumnTransformer(transformers=[\n",
        "    (\"num\", numeric_transformer, numerical_cols),\n",
        "    (\"cat\", categorical_transformer, categorical_cols)\n",
        "])\n"
      ]
    },
    {
      "cell_type": "markdown",
      "metadata": {
        "id": "58-VC46Fw-dL"
      },
      "source": [
        "## 📌 Baseline [0.25 puntos]\n",
        "\n",
        "<center>\n",
        "<img src=\"https://media1.giphy.com/media/v1.Y2lkPTc5MGI3NjExN3lzeGFqZmU3NzJrZHllNjRmaHVzczJpZ29rdHdlMzVpZnQwNXo1diZlcD12MV9pbnRlcm5hbF9naWZfYnlfaWQmY3Q9Zw/qAtZM2gvjWhPjmclZE/giphy.gif\" width=\"300\" height=\"200\">"
      ]
    },
    {
      "cell_type": "markdown",
      "metadata": {
        "id": "9_bk7fM_w-dM"
      },
      "source": [
        "En esta sección se debe construir el modelo más sencillo posible que pueda resolver el problema planteado, conocido como **Modelo baseline**. Su propósito es servir como referencia para comparar el rendimiento de los modelos más avanzados desarrollados en etapas posteriores.  \n",
        "\n",
        "Pasos requeridos:  \n",
        "- Implemente, entrene y evalúe un modelo básico utilizando un pipeline.  \n",
        "- Asegúrese de incluir en el pipeline las transformaciones del preprocesamiento realizadas previamente junto con un clasificador básico.  \n",
        "- Evalúe el modelo y presente el informe de métricas utilizando **`classification_report`**.  \n",
        "\n",
        "Documente claramente cómo se creó el modelo, las decisiones tomadas y los resultados obtenidos. Este modelo será la base comparativa en las secciones posteriores."
      ]
    },
    {
      "cell_type": "code",
      "source": [
        "df['target'].size"
      ],
      "metadata": {
        "colab": {
          "base_uri": "https://localhost:8080/"
        },
        "id": "IKqxUOVqCvIM",
        "outputId": "1f254587-7387-44ae-ab91-26b062a6e359"
      },
      "execution_count": 68,
      "outputs": [
        {
          "output_type": "execute_result",
          "data": {
            "text/plain": [
              "45082559"
            ]
          },
          "metadata": {},
          "execution_count": 68
        }
      ]
    },
    {
      "cell_type": "code",
      "execution_count": 69,
      "metadata": {
        "id": "iPUmDrnHw-dN",
        "colab": {
          "base_uri": "https://localhost:8080/"
        },
        "outputId": "cc54c627-6a16-43f0-e935-c8cd7f656274"
      },
      "outputs": [
        {
          "output_type": "stream",
          "name": "stdout",
          "text": [
            "Reporte de clasificación:\n",
            "              precision    recall  f1-score   support\n",
            "\n",
            "           0       1.00      0.50      0.67   8808833\n",
            "           1       0.00      0.50      0.01     40861\n",
            "\n",
            "    accuracy                           0.50   8849694\n",
            "   macro avg       0.50      0.50      0.34   8849694\n",
            "weighted avg       0.99      0.50      0.66   8849694\n",
            "\n",
            "F1-Score ponderado: 0.6626\n"
          ]
        }
      ],
      "source": [
        "import pandas as pd\n",
        "import numpy as np\n",
        "from sklearn.pipeline import Pipeline\n",
        "from sklearn.metrics import classification_report\n",
        "from sklearn.metrics import f1_score\n",
        "from sklearn.dummy import DummyClassifier\n",
        "\n",
        "X_train = df_train.drop(columns=['target'])\n",
        "X_train = X_train.sample(n=10000000, random_state=42)\n",
        "\n",
        "y_train = df_train['target']\n",
        "y_train = y_train.loc[X_train.index]\n",
        "\n",
        "X_valid = df_valid.drop(columns=['target'])\n",
        "y_valid = df_valid['target']\n",
        "X_test  = df_test.drop(columns=['target'])\n",
        "y_test  = df_test['target']\n",
        "\n",
        "dummy_clf = DummyClassifier(strategy='uniform', random_state=42)\n",
        "\n",
        "dummy_pipeline = Pipeline([\n",
        "    (\"date_features\", DateFeatureExtractor(date_column='purchase_date')),\n",
        "    (\"preprocessor\", preprocessor),\n",
        "    (\"classifier\", dummy_clf)\n",
        "])\n",
        "\n",
        "dummy_pipeline.fit(X_train, y_train)\n",
        "\n",
        "y_pred_dummy = dummy_pipeline.predict(X_valid)\n",
        "\n",
        "print(\"Reporte de clasificación:\")\n",
        "print(classification_report(y_valid, y_pred_dummy))\n",
        "\n",
        "f1_weighted_dummy = f1_score(y_valid, y_pred_dummy, average='weighted')\n",
        "print(f\"F1-Score ponderado: {f1_weighted_dummy:.4f}\")\n"
      ]
    },
    {
      "cell_type": "markdown",
      "metadata": {
        "id": "8JGzi147w-dN"
      },
      "source": [
        "Nos agarramos de [esta referencia](https://medium.com/@preethi_prakash/understanding-baseline-models-in-machine-learning-3ed94f03d645), que describe que podemos crear un modelo Dummy Classifier con estrategia \"stratified\", \"most_frequent\", \"uniform\" o bien \"constant\". En nuestro caso elejimos el \"uniform\", que asigna clases aleatoria y uniformemente, sin considerar la distribución de clases en los datos de entrenamiento. Provee un nivel de desarrollo/performance basado en la clase más común, sin conisderar las características de input (como lo puede ser las variables categóricas o numéricas). La precisión alta y el recall bajo se ven reflejados en un f1-score intermedio o aceptable. Adempás, el f1-score weighted es intermedio también, por lo que nos servirá como un modelo malísimo (relativamente) para poder compararlo con otros modelos mejores (antes habíamos utilizado como baseline un Random Forest Classifier pero nos daba un f1-score de 0.961, que era casi insuperable para el fin del baseline). Como asigna aleatoriamente, podemos decir que eso se ve reflejado en el recall de 0.53 para ambas clases (porque la probabilidad es uniforme sobre las dos clases).\n",
        "\n",
        "Recordemos por otro lado que df_train['items]>0 devuelve una serie booleana con True si la persona compró al menos un ítem, y False si no compró ninguno, por lo que al hacer df_train['items]>0 .astype(int) obtendremos la clase 1 como la que compró (True) y la clase 0 como la que no compró (False). Es decir, al final del día lo que nos interesa es hacer un clasificador binario que a partir de dicho Label 0 o 1, clasifique (valga la redundancia) las dos instancias (con principal énfasis en las personas que sí compraron un ítem, porque queremos saber la probabilidad de que una persona sí compre un item o producto)."
      ]
    },
    {
      "cell_type": "markdown",
      "metadata": {
        "id": "r-Mk8AYTw-dO"
      },
      "source": [
        "## 📌 Elección de modelo [0.75 puntos]\n",
        "\n",
        "En esta sección deben escoger un modelo que se adapte a las necesidades del negocio. Para esto, pruebe al menos 3 modelos y desarrolle los siguientes aspectos para cada uno:\n",
        "\n",
        "- **Estructura y diferencias entre los modelos**: Explicar brevemente cada uno y sus hipérparámetros de mayor importancia.\n",
        "- **Clasificadores recomendados**:\n",
        "  - `LogisticRegression`\n",
        "  - `KNeighborsClassifier`\n",
        "  - `DecisionTreeClassifier`\n",
        "  - `SVC`\n",
        "  - `RandomForestClassifier`\n",
        "  - `LightGBMClassifier` (del paquete `lightgbm`)\n",
        "  - `XGBClassifier` (del paquete `xgboost`)\n",
        "  - Otro (según lo que se estime adecuado)\n",
        "  \n",
        "- **Evaluación de resultados**: Se utilizará el **`classification_report`** para evaluar el rendimiento de cada modelo, destacando métricas clave como precisión, recall y F1-score. **Importante: No optimicen hiperparámetros, la idea es hacer una selección rápida del modelo.**\n",
        "\n",
        "**Nota:** Pueden ocupar mas de 1 **instancia** de modelo para resolver el problema (e.g: (modelo_1, grupo_1), (modelo_2, grupo_2), ...).\n",
        "  \n",
        "A continuación, se deben responder las siguientes preguntas para evaluar el rendimiento de los modelos entrenados:\n",
        "\n",
        "1. ¿Hay algún clasificador que supere al modelo baseline?  \n",
        "2. ¿Cuál es el mejor clasificador entrenado y por qué?  \n",
        "3. ¿Qué factores hacen que el mejor clasificador sea superior a los otros?  \n",
        "4. En términos de `tiempo de entrenamiento`, ¿Qué modelo considera más adecuado para experimentar con grillas de optimización?"
      ]
    },
    {
      "cell_type": "markdown",
      "metadata": {
        "id": "qY0US98Aw-dO"
      },
      "source": [
        "### Modelos que elegiremos para el estudio c/r al Baseline: Regresión Logística, XGBoost Classifier y Decision Tree"
      ]
    },
    {
      "cell_type": "markdown",
      "metadata": {
        "id": "S9AYjoyHw-dP"
      },
      "source": [
        "1. La [Regresión Logística](https://www.geeksforgeeks.org/understanding-logistic-regression/) es un modelo lineal para clasificación binaria y estima la probabilidad de pertenencia a una clase usando una función sigmoide sobre una combinación lineal de las variables. En suma, es un modelo lineal, interpretable, eficiente para datos donde las clases son separables linealmente.\n",
        "\n",
        "    - max_iter: número máximo de iteraciones para que el solver converja (útil en datasets grandes o con muchas variables).\n",
        "    - random_state: fija la semilla para resultados reproducibles.\n",
        "    - class_weight: permite ponderar clases desbalanceadas. \"balanced\" ajusta automáticamente los pesos en función de la frecuencia.\n",
        "    - C (por defecto = 1.0): inverso de la regularización L2. Valores bajos imponen más regularización (evitan overfitting).\n",
        "    - solver: algoritmo de optimización. Ej: 'liblinear', 'lbfgs', 'saga'. Algunos permiten L1 o ElasticNet."
      ]
    },
    {
      "cell_type": "code",
      "execution_count": 70,
      "metadata": {
        "id": "yGzHM3TGw-dP",
        "colab": {
          "base_uri": "https://localhost:8080/"
        },
        "outputId": "c2945845-d8ee-44d3-f33b-aeec3d0a467c"
      },
      "outputs": [
        {
          "output_type": "stream",
          "name": "stdout",
          "text": [
            "              precision    recall  f1-score   support\n",
            "\n",
            "           0       1.00      0.81      0.89   8808833\n",
            "           1       0.02      0.89      0.04     40861\n",
            "\n",
            "    accuracy                           0.81   8849694\n",
            "   macro avg       0.51      0.85      0.47   8849694\n",
            "weighted avg       0.99      0.81      0.89   8849694\n",
            "\n",
            "F1-Score ponderado: 0.8883738920281633\n"
          ]
        }
      ],
      "source": [
        "from sklearn.linear_model import LogisticRegression\n",
        "from sklearn.metrics import f1_score\n",
        "\n",
        "RANDOM_STATE = 42\n",
        "Logistic_regression_Pipeline = Pipeline([\n",
        "    (\"date_features\", DateFeatureExtractor(date_column=\"purchase_date\")),\n",
        "    (\"preprocessor\", preprocessor),\n",
        "    (\"clf\", LogisticRegression(max_iter=10000, random_state=RANDOM_STATE, class_weight=\"balanced\"))\n",
        "])\n",
        "\n",
        "\n",
        "Logistic_regression_Pipeline.fit(X_train, y_train)\n",
        "y_pred_logistic = Logistic_regression_Pipeline.predict(df_valid)\n",
        "\n",
        "print(classification_report(y_valid, y_pred_logistic))\n",
        "f1_weighted_logistic = f1_score(y_valid, y_pred_logistic, average='weighted')\n",
        "print(f\"F1-Score ponderado: {f1_weighted_logistic}\")"
      ]
    },
    {
      "cell_type": "markdown",
      "metadata": {
        "id": "mMG2EaY1w-dQ"
      },
      "source": [
        "2. El [XGBoost Classifier](https://xgboost.readthedocs.io/en/release_3.0.0/get_started.html) es un algoritmo de ensamble basado en árboles de decisión, que implementa boosting: cada árbol nuevo corrige errores del anterior. Muy eficiente para clasificación binaria y multiclase. Por lo que resulta ser un modelo no lineal, potente, ideal para conjuntos de datos con patrones complejos y relaciones no lineales entre variables.\n",
        "\n",
        "    - n_estimators: número de árboles en el ensamble.\n",
        "    - max_depth: profundidad máxima de cada árbol (controla complejidad).\n",
        "    - learning_rate: qué tanto contribuye cada árbol nuevo (trade-off bias/varianza).\n",
        "    - objective='binary:logistic': función objetivo para clasificación binaria.\n",
        "    - scale_pos_weight: ajusta el peso relativo de las clases. Es crucial en datasets desbalanceados. Se calcula como #neg / #pos.\n",
        "    - eval_metric: métrica usada para evaluar durante el entrenamiento (ej: 'logloss', 'auc')."
      ]
    },
    {
      "cell_type": "code",
      "execution_count": 71,
      "metadata": {
        "id": "zSWrX6Nww-dR",
        "colab": {
          "base_uri": "https://localhost:8080/"
        },
        "outputId": "29257093-e492-4a51-a081-9a94e72fb2b5"
      },
      "outputs": [
        {
          "output_type": "stream",
          "name": "stdout",
          "text": [
            "scale_pos_weight: 228.96\n",
            "              precision    recall  f1-score   support\n",
            "\n",
            "           0       1.00      0.94      0.97   8808833\n",
            "           1       0.07      0.94      0.13     40861\n",
            "\n",
            "    accuracy                           0.94   8849694\n",
            "   macro avg       0.53      0.94      0.55   8849694\n",
            "weighted avg       1.00      0.94      0.97   8849694\n",
            "\n",
            "F1-Score ponderado: 0.9651686025205803\n"
          ]
        }
      ],
      "source": [
        "from xgboost import XGBClassifier\n",
        "from collections import Counter\n",
        "from sklearn.metrics import f1_score\n",
        "\n",
        "\n",
        "counter = Counter(y_train)\n",
        "neg, pos = counter[0], counter[1]\n",
        "scale_pos_weight = neg / pos\n",
        "print(f\"scale_pos_weight: {scale_pos_weight:.2f}\")\n",
        "\n",
        "XGB = XGBClassifier(\n",
        "    n_estimators=100,\n",
        "    max_depth=5,\n",
        "    learning_rate=0.1,\n",
        "    objective='binary:logistic',\n",
        "    scale_pos_weight=scale_pos_weight,\n",
        "    eval_metric='logloss',\n",
        "    random_state=RANDOM_STATE\n",
        ")\n",
        "xgb_pipeline = Pipeline([\n",
        "    (\"date_features\", DateFeatureExtractor(date_column=\"purchase_date\")),\n",
        "    (\"preprocessor\", preprocessor),\n",
        "    (\"clf\", XGB)\n",
        "])\n",
        "\n",
        "xgb_pipeline.fit(X_train, y_train)\n",
        "\n",
        "y_pred_xgb = xgb_pipeline.predict(X_valid)\n",
        "\n",
        "print(classification_report(y_valid, y_pred_xgb))\n",
        "f1_weighted = f1_score(y_valid, y_pred_xgb, average='weighted')\n",
        "print(f\"F1-Score ponderado: {f1_weighted}\")"
      ]
    },
    {
      "cell_type": "markdown",
      "metadata": {
        "id": "UFFIlOlgw-dS"
      },
      "source": [
        "3. El modelo [Decision Tree Classifier](https://scikit-learn.org/stable/modules/generated/sklearn.tree.DecisionTreeClassifier.html) es un modelo no paramétrico que particiona recursivamente el espacio de atributos para tomar decisiones y resulta ser fácil de interpretar. Por lo demás, es no lineal, interpretable pero propenso al sobreajuste si no se poda correctamente. A menudo se usa como base para modelos como Random Forest o XGBoost.\n",
        "\n",
        "    - criterion: mide la calidad de una partición ('gini' o 'entropy').\n",
        "    - max_depth: profundidad máxima del árbol (control de complejidad).\n",
        "    - min_samples_split: número mínimo de muestras para dividir un nodo.\n",
        "    - min_samples_leaf: número mínimo de muestras en una hoja.\n",
        "    - class_weight='balanced': ajusta los pesos de clases automáticamente según su frecuencia.\n",
        "    - max_features: número máximo de features a considerar en cada división.\n",
        "    - ccp_alpha: parámetro de poda para reducir el sobreajuste."
      ]
    },
    {
      "cell_type": "code",
      "execution_count": 72,
      "metadata": {
        "id": "mhnGRnddw-dS",
        "colab": {
          "base_uri": "https://localhost:8080/"
        },
        "outputId": "09d227bb-09e5-4b8e-ddd8-b3442fe86e6d"
      },
      "outputs": [
        {
          "output_type": "stream",
          "name": "stdout",
          "text": [
            "              precision    recall  f1-score   support\n",
            "\n",
            "           0       1.00      1.00      1.00   8808833\n",
            "           1       0.51      0.40      0.45     40861\n",
            "\n",
            "    accuracy                           1.00   8849694\n",
            "   macro avg       0.75      0.70      0.72   8849694\n",
            "weighted avg       0.99      1.00      1.00   8849694\n",
            "\n",
            "F1-Score ponderado: 0.9951631717978543\n"
          ]
        }
      ],
      "source": [
        "from sklearn.tree import DecisionTreeClassifier\n",
        "\n",
        "DT = DecisionTreeClassifier(criterion='gini', splitter='best',\n",
        "                       max_depth=None, min_samples_split=2,\n",
        "                       min_samples_leaf=1, min_weight_fraction_leaf=0.0,\n",
        "                       max_features=None, random_state=RANDOM_STATE, max_leaf_nodes=None,\n",
        "                       min_impurity_decrease=0.0, class_weight='balanced',\n",
        "                       ccp_alpha=0.0)\n",
        "\n",
        "Decision_Tree_Pipeline = Pipeline([\n",
        "    (\"date_features\", DateFeatureExtractor(date_column=\"purchase_date\")),\n",
        "    (\"preprocessor\", preprocessor),\n",
        "    ('clf', DT)\n",
        "])\n",
        "\n",
        "Decision_Tree_Pipeline.fit(X_train, y_train)\n",
        "y_pred_dt = Decision_Tree_Pipeline.predict(X_valid)\n",
        "\n",
        "print(classification_report(y_valid, y_pred_dt))\n",
        "f1_weighted_dt = f1_score(y_valid, y_pred_dt, average='weighted')\n",
        "print(f\"F1-Score ponderado: {f1_weighted_dt}\")"
      ]
    },
    {
      "cell_type": "code",
      "execution_count": 73,
      "metadata": {
        "id": "Ll1-qlrmw-dT",
        "colab": {
          "base_uri": "https://localhost:8080/",
          "height": 143
        },
        "outputId": "7cafdaa1-b3c5-4383-e0bc-c56de17acfbd"
      },
      "outputs": [
        {
          "output_type": "execute_result",
          "data": {
            "text/plain": [
              "                Modelo  Accuracy  Precision    Recall  F1-score\n",
              "0    Árbol de Decisión  0.995440   0.507894  0.397567  0.446009\n",
              "1              XGBoost  0.940231   0.068131  0.942194  0.127073\n",
              "2  Regresión Logística  0.806351   0.020804  0.888720  0.040657"
            ],
            "text/html": [
              "\n",
              "  <div id=\"df-0c32bbf0-7175-49c4-b57c-c8dcb1e68d0c\" class=\"colab-df-container\">\n",
              "    <div>\n",
              "<style scoped>\n",
              "    .dataframe tbody tr th:only-of-type {\n",
              "        vertical-align: middle;\n",
              "    }\n",
              "\n",
              "    .dataframe tbody tr th {\n",
              "        vertical-align: top;\n",
              "    }\n",
              "\n",
              "    .dataframe thead th {\n",
              "        text-align: right;\n",
              "    }\n",
              "</style>\n",
              "<table border=\"1\" class=\"dataframe\">\n",
              "  <thead>\n",
              "    <tr style=\"text-align: right;\">\n",
              "      <th></th>\n",
              "      <th>Modelo</th>\n",
              "      <th>Accuracy</th>\n",
              "      <th>Precision</th>\n",
              "      <th>Recall</th>\n",
              "      <th>F1-score</th>\n",
              "    </tr>\n",
              "  </thead>\n",
              "  <tbody>\n",
              "    <tr>\n",
              "      <th>0</th>\n",
              "      <td>Árbol de Decisión</td>\n",
              "      <td>0.995440</td>\n",
              "      <td>0.507894</td>\n",
              "      <td>0.397567</td>\n",
              "      <td>0.446009</td>\n",
              "    </tr>\n",
              "    <tr>\n",
              "      <th>1</th>\n",
              "      <td>XGBoost</td>\n",
              "      <td>0.940231</td>\n",
              "      <td>0.068131</td>\n",
              "      <td>0.942194</td>\n",
              "      <td>0.127073</td>\n",
              "    </tr>\n",
              "    <tr>\n",
              "      <th>2</th>\n",
              "      <td>Regresión Logística</td>\n",
              "      <td>0.806351</td>\n",
              "      <td>0.020804</td>\n",
              "      <td>0.888720</td>\n",
              "      <td>0.040657</td>\n",
              "    </tr>\n",
              "  </tbody>\n",
              "</table>\n",
              "</div>\n",
              "    <div class=\"colab-df-buttons\">\n",
              "\n",
              "  <div class=\"colab-df-container\">\n",
              "    <button class=\"colab-df-convert\" onclick=\"convertToInteractive('df-0c32bbf0-7175-49c4-b57c-c8dcb1e68d0c')\"\n",
              "            title=\"Convert this dataframe to an interactive table.\"\n",
              "            style=\"display:none;\">\n",
              "\n",
              "  <svg xmlns=\"http://www.w3.org/2000/svg\" height=\"24px\" viewBox=\"0 -960 960 960\">\n",
              "    <path d=\"M120-120v-720h720v720H120Zm60-500h600v-160H180v160Zm220 220h160v-160H400v160Zm0 220h160v-160H400v160ZM180-400h160v-160H180v160Zm440 0h160v-160H620v160ZM180-180h160v-160H180v160Zm440 0h160v-160H620v160Z\"/>\n",
              "  </svg>\n",
              "    </button>\n",
              "\n",
              "  <style>\n",
              "    .colab-df-container {\n",
              "      display:flex;\n",
              "      gap: 12px;\n",
              "    }\n",
              "\n",
              "    .colab-df-convert {\n",
              "      background-color: #E8F0FE;\n",
              "      border: none;\n",
              "      border-radius: 50%;\n",
              "      cursor: pointer;\n",
              "      display: none;\n",
              "      fill: #1967D2;\n",
              "      height: 32px;\n",
              "      padding: 0 0 0 0;\n",
              "      width: 32px;\n",
              "    }\n",
              "\n",
              "    .colab-df-convert:hover {\n",
              "      background-color: #E2EBFA;\n",
              "      box-shadow: 0px 1px 2px rgba(60, 64, 67, 0.3), 0px 1px 3px 1px rgba(60, 64, 67, 0.15);\n",
              "      fill: #174EA6;\n",
              "    }\n",
              "\n",
              "    .colab-df-buttons div {\n",
              "      margin-bottom: 4px;\n",
              "    }\n",
              "\n",
              "    [theme=dark] .colab-df-convert {\n",
              "      background-color: #3B4455;\n",
              "      fill: #D2E3FC;\n",
              "    }\n",
              "\n",
              "    [theme=dark] .colab-df-convert:hover {\n",
              "      background-color: #434B5C;\n",
              "      box-shadow: 0px 1px 3px 1px rgba(0, 0, 0, 0.15);\n",
              "      filter: drop-shadow(0px 1px 2px rgba(0, 0, 0, 0.3));\n",
              "      fill: #FFFFFF;\n",
              "    }\n",
              "  </style>\n",
              "\n",
              "    <script>\n",
              "      const buttonEl =\n",
              "        document.querySelector('#df-0c32bbf0-7175-49c4-b57c-c8dcb1e68d0c button.colab-df-convert');\n",
              "      buttonEl.style.display =\n",
              "        google.colab.kernel.accessAllowed ? 'block' : 'none';\n",
              "\n",
              "      async function convertToInteractive(key) {\n",
              "        const element = document.querySelector('#df-0c32bbf0-7175-49c4-b57c-c8dcb1e68d0c');\n",
              "        const dataTable =\n",
              "          await google.colab.kernel.invokeFunction('convertToInteractive',\n",
              "                                                    [key], {});\n",
              "        if (!dataTable) return;\n",
              "\n",
              "        const docLinkHtml = 'Like what you see? Visit the ' +\n",
              "          '<a target=\"_blank\" href=https://colab.research.google.com/notebooks/data_table.ipynb>data table notebook</a>'\n",
              "          + ' to learn more about interactive tables.';\n",
              "        element.innerHTML = '';\n",
              "        dataTable['output_type'] = 'display_data';\n",
              "        await google.colab.output.renderOutput(dataTable, element);\n",
              "        const docLink = document.createElement('div');\n",
              "        docLink.innerHTML = docLinkHtml;\n",
              "        element.appendChild(docLink);\n",
              "      }\n",
              "    </script>\n",
              "  </div>\n",
              "\n",
              "\n",
              "    <div id=\"df-0dea6248-05f7-4119-837e-09df1e0c7a76\">\n",
              "      <button class=\"colab-df-quickchart\" onclick=\"quickchart('df-0dea6248-05f7-4119-837e-09df1e0c7a76')\"\n",
              "                title=\"Suggest charts\"\n",
              "                style=\"display:none;\">\n",
              "\n",
              "<svg xmlns=\"http://www.w3.org/2000/svg\" height=\"24px\"viewBox=\"0 0 24 24\"\n",
              "     width=\"24px\">\n",
              "    <g>\n",
              "        <path d=\"M19 3H5c-1.1 0-2 .9-2 2v14c0 1.1.9 2 2 2h14c1.1 0 2-.9 2-2V5c0-1.1-.9-2-2-2zM9 17H7v-7h2v7zm4 0h-2V7h2v10zm4 0h-2v-4h2v4z\"/>\n",
              "    </g>\n",
              "</svg>\n",
              "      </button>\n",
              "\n",
              "<style>\n",
              "  .colab-df-quickchart {\n",
              "      --bg-color: #E8F0FE;\n",
              "      --fill-color: #1967D2;\n",
              "      --hover-bg-color: #E2EBFA;\n",
              "      --hover-fill-color: #174EA6;\n",
              "      --disabled-fill-color: #AAA;\n",
              "      --disabled-bg-color: #DDD;\n",
              "  }\n",
              "\n",
              "  [theme=dark] .colab-df-quickchart {\n",
              "      --bg-color: #3B4455;\n",
              "      --fill-color: #D2E3FC;\n",
              "      --hover-bg-color: #434B5C;\n",
              "      --hover-fill-color: #FFFFFF;\n",
              "      --disabled-bg-color: #3B4455;\n",
              "      --disabled-fill-color: #666;\n",
              "  }\n",
              "\n",
              "  .colab-df-quickchart {\n",
              "    background-color: var(--bg-color);\n",
              "    border: none;\n",
              "    border-radius: 50%;\n",
              "    cursor: pointer;\n",
              "    display: none;\n",
              "    fill: var(--fill-color);\n",
              "    height: 32px;\n",
              "    padding: 0;\n",
              "    width: 32px;\n",
              "  }\n",
              "\n",
              "  .colab-df-quickchart:hover {\n",
              "    background-color: var(--hover-bg-color);\n",
              "    box-shadow: 0 1px 2px rgba(60, 64, 67, 0.3), 0 1px 3px 1px rgba(60, 64, 67, 0.15);\n",
              "    fill: var(--button-hover-fill-color);\n",
              "  }\n",
              "\n",
              "  .colab-df-quickchart-complete:disabled,\n",
              "  .colab-df-quickchart-complete:disabled:hover {\n",
              "    background-color: var(--disabled-bg-color);\n",
              "    fill: var(--disabled-fill-color);\n",
              "    box-shadow: none;\n",
              "  }\n",
              "\n",
              "  .colab-df-spinner {\n",
              "    border: 2px solid var(--fill-color);\n",
              "    border-color: transparent;\n",
              "    border-bottom-color: var(--fill-color);\n",
              "    animation:\n",
              "      spin 1s steps(1) infinite;\n",
              "  }\n",
              "\n",
              "  @keyframes spin {\n",
              "    0% {\n",
              "      border-color: transparent;\n",
              "      border-bottom-color: var(--fill-color);\n",
              "      border-left-color: var(--fill-color);\n",
              "    }\n",
              "    20% {\n",
              "      border-color: transparent;\n",
              "      border-left-color: var(--fill-color);\n",
              "      border-top-color: var(--fill-color);\n",
              "    }\n",
              "    30% {\n",
              "      border-color: transparent;\n",
              "      border-left-color: var(--fill-color);\n",
              "      border-top-color: var(--fill-color);\n",
              "      border-right-color: var(--fill-color);\n",
              "    }\n",
              "    40% {\n",
              "      border-color: transparent;\n",
              "      border-right-color: var(--fill-color);\n",
              "      border-top-color: var(--fill-color);\n",
              "    }\n",
              "    60% {\n",
              "      border-color: transparent;\n",
              "      border-right-color: var(--fill-color);\n",
              "    }\n",
              "    80% {\n",
              "      border-color: transparent;\n",
              "      border-right-color: var(--fill-color);\n",
              "      border-bottom-color: var(--fill-color);\n",
              "    }\n",
              "    90% {\n",
              "      border-color: transparent;\n",
              "      border-bottom-color: var(--fill-color);\n",
              "    }\n",
              "  }\n",
              "</style>\n",
              "\n",
              "      <script>\n",
              "        async function quickchart(key) {\n",
              "          const quickchartButtonEl =\n",
              "            document.querySelector('#' + key + ' button');\n",
              "          quickchartButtonEl.disabled = true;  // To prevent multiple clicks.\n",
              "          quickchartButtonEl.classList.add('colab-df-spinner');\n",
              "          try {\n",
              "            const charts = await google.colab.kernel.invokeFunction(\n",
              "                'suggestCharts', [key], {});\n",
              "          } catch (error) {\n",
              "            console.error('Error during call to suggestCharts:', error);\n",
              "          }\n",
              "          quickchartButtonEl.classList.remove('colab-df-spinner');\n",
              "          quickchartButtonEl.classList.add('colab-df-quickchart-complete');\n",
              "        }\n",
              "        (() => {\n",
              "          let quickchartButtonEl =\n",
              "            document.querySelector('#df-0dea6248-05f7-4119-837e-09df1e0c7a76 button');\n",
              "          quickchartButtonEl.style.display =\n",
              "            google.colab.kernel.accessAllowed ? 'block' : 'none';\n",
              "        })();\n",
              "      </script>\n",
              "    </div>\n",
              "\n",
              "  <div id=\"id_6554b557-5560-4637-8d1c-339293039bdb\">\n",
              "    <style>\n",
              "      .colab-df-generate {\n",
              "        background-color: #E8F0FE;\n",
              "        border: none;\n",
              "        border-radius: 50%;\n",
              "        cursor: pointer;\n",
              "        display: none;\n",
              "        fill: #1967D2;\n",
              "        height: 32px;\n",
              "        padding: 0 0 0 0;\n",
              "        width: 32px;\n",
              "      }\n",
              "\n",
              "      .colab-df-generate:hover {\n",
              "        background-color: #E2EBFA;\n",
              "        box-shadow: 0px 1px 2px rgba(60, 64, 67, 0.3), 0px 1px 3px 1px rgba(60, 64, 67, 0.15);\n",
              "        fill: #174EA6;\n",
              "      }\n",
              "\n",
              "      [theme=dark] .colab-df-generate {\n",
              "        background-color: #3B4455;\n",
              "        fill: #D2E3FC;\n",
              "      }\n",
              "\n",
              "      [theme=dark] .colab-df-generate:hover {\n",
              "        background-color: #434B5C;\n",
              "        box-shadow: 0px 1px 3px 1px rgba(0, 0, 0, 0.15);\n",
              "        filter: drop-shadow(0px 1px 2px rgba(0, 0, 0, 0.3));\n",
              "        fill: #FFFFFF;\n",
              "      }\n",
              "    </style>\n",
              "    <button class=\"colab-df-generate\" onclick=\"generateWithVariable('results')\"\n",
              "            title=\"Generate code using this dataframe.\"\n",
              "            style=\"display:none;\">\n",
              "\n",
              "  <svg xmlns=\"http://www.w3.org/2000/svg\" height=\"24px\"viewBox=\"0 0 24 24\"\n",
              "       width=\"24px\">\n",
              "    <path d=\"M7,19H8.4L18.45,9,17,7.55,7,17.6ZM5,21V16.75L18.45,3.32a2,2,0,0,1,2.83,0l1.4,1.43a1.91,1.91,0,0,1,.58,1.4,1.91,1.91,0,0,1-.58,1.4L9.25,21ZM18.45,9,17,7.55Zm-12,3A5.31,5.31,0,0,0,4.9,8.1,5.31,5.31,0,0,0,1,6.5,5.31,5.31,0,0,0,4.9,4.9,5.31,5.31,0,0,0,6.5,1,5.31,5.31,0,0,0,8.1,4.9,5.31,5.31,0,0,0,12,6.5,5.46,5.46,0,0,0,6.5,12Z\"/>\n",
              "  </svg>\n",
              "    </button>\n",
              "    <script>\n",
              "      (() => {\n",
              "      const buttonEl =\n",
              "        document.querySelector('#id_6554b557-5560-4637-8d1c-339293039bdb button.colab-df-generate');\n",
              "      buttonEl.style.display =\n",
              "        google.colab.kernel.accessAllowed ? 'block' : 'none';\n",
              "\n",
              "      buttonEl.onclick = () => {\n",
              "        google.colab.notebook.generateWithVariable('results');\n",
              "      }\n",
              "      })();\n",
              "    </script>\n",
              "  </div>\n",
              "\n",
              "    </div>\n",
              "  </div>\n"
            ],
            "application/vnd.google.colaboratory.intrinsic+json": {
              "type": "dataframe",
              "variable_name": "results",
              "summary": "{\n  \"name\": \"results\",\n  \"rows\": 3,\n  \"fields\": [\n    {\n      \"column\": \"Modelo\",\n      \"properties\": {\n        \"dtype\": \"string\",\n        \"num_unique_values\": 3,\n        \"samples\": [\n          \"\\u00c1rbol de Decisi\\u00f3n\",\n          \"XGBoost\",\n          \"Regresi\\u00f3n Log\\u00edstica\"\n        ],\n        \"semantic_type\": \"\",\n        \"description\": \"\"\n      }\n    },\n    {\n      \"column\": \"Accuracy\",\n      \"properties\": {\n        \"dtype\": \"number\",\n        \"std\": 0.09723384992805953,\n        \"min\": 0.8063509314559351,\n        \"max\": 0.9954398423267516,\n        \"num_unique_values\": 3,\n        \"samples\": [\n          0.9954398423267516,\n          0.9402311537551468,\n          0.8063509314559351\n        ],\n        \"semantic_type\": \"\",\n        \"description\": \"\"\n      }\n    },\n    {\n      \"column\": \"Precision\",\n      \"properties\": {\n        \"dtype\": \"number\",\n        \"std\": 0.26860387304335936,\n        \"min\": 0.020804330215605595,\n        \"max\": 0.5078943254650617,\n        \"num_unique_values\": 3,\n        \"samples\": [\n          0.5078943254650617,\n          0.06813102023986281,\n          0.020804330215605595\n        ],\n        \"semantic_type\": \"\",\n        \"description\": \"\"\n      }\n    },\n    {\n      \"column\": \"Recall\",\n      \"properties\": {\n        \"dtype\": \"number\",\n        \"std\": 0.30019691760711203,\n        \"min\": 0.39756736252172,\n        \"max\": 0.9421942683732655,\n        \"num_unique_values\": 3,\n        \"samples\": [\n          0.39756736252172,\n          0.9421942683732655,\n          0.888720295636426\n        ],\n        \"semantic_type\": \"\",\n        \"description\": \"\"\n      }\n    },\n    {\n      \"column\": \"F1-score\",\n      \"properties\": {\n        \"dtype\": \"number\",\n        \"std\": 0.21350202172103339,\n        \"min\": 0.04065691015767792,\n        \"max\": 0.4460093896713615,\n        \"num_unique_values\": 3,\n        \"samples\": [\n          0.4460093896713615,\n          0.12707324560100605,\n          0.04065691015767792\n        ],\n        \"semantic_type\": \"\",\n        \"description\": \"\"\n      }\n    }\n  ]\n}"
            }
          },
          "metadata": {},
          "execution_count": 73
        }
      ],
      "source": [
        "from sklearn.metrics import accuracy_score, precision_score, recall_score, f1_score\n",
        "\n",
        "y_pred_dt = Decision_Tree_Pipeline.predict(X_valid)\n",
        "acc_dt = accuracy_score(y_valid, y_pred_dt)\n",
        "f1_dt = f1_score(y_valid, y_pred_dt)\n",
        "recall_dt = recall_score(y_valid, y_pred_dt)\n",
        "precision_dt = precision_score(y_valid, y_pred_dt)\n",
        "\n",
        "y_pred_xgb = xgb_pipeline.predict(X_valid)\n",
        "acc_xgb = accuracy_score(y_valid, y_pred_xgb)\n",
        "f1_xgb = f1_score(y_valid, y_pred_xgb)\n",
        "recall_xgb = recall_score(y_valid, y_pred_xgb)\n",
        "precision_xgb = precision_score(y_valid, y_pred_xgb)\n",
        "\n",
        "y_pred_lr = Logistic_regression_Pipeline.predict(X_valid)\n",
        "acc_lr = accuracy_score(y_valid, y_pred_lr)\n",
        "f1_lr = f1_score(y_valid, y_pred_lr)\n",
        "recall_lr = recall_score(y_valid, y_pred_lr)\n",
        "precision_lr = precision_score(y_valid, y_pred_lr)\n",
        "\n",
        "results = pd.DataFrame({\n",
        "    \"Modelo\": [\"Árbol de Decisión\", \"XGBoost\", \"Regresión Logística\"],\n",
        "    \"Accuracy\": [acc_dt, acc_xgb, acc_lr],\n",
        "    \"Precision\": [precision_dt, precision_xgb, precision_lr],\n",
        "    \"Recall\": [recall_dt, recall_xgb, recall_lr],\n",
        "    \"F1-score\": [f1_dt, f1_xgb, f1_lr]\n",
        "})\n",
        "\n",
        "results\n"
      ]
    },
    {
      "cell_type": "markdown",
      "metadata": {
        "id": "hKN00OJLw-dU"
      },
      "source": [
        "1. ¿Hay algún clasificador que supere al modelo baseline?  \n",
        "Respuesta:  En general, los tres modelos superan al modelo baseline, porque todos tienen una precisión, recall y f1-score distinto de cero para la clase 0 (que es la minoritaria). Específicamente, el F1-score weighted del Decision Tree, XGBoost Classifier y el Logistic Regression, tienen valores de 0.949, 0.935 y 0.907 respectivamente, mientras que el Baseline tenía un F1-score weighted de 0.64 (que recordemos que asigna aleatoria y uniformemente clases)."
      ]
    },
    {
      "cell_type": "markdown",
      "metadata": {
        "id": "dl3sVMYJw-dU"
      },
      "source": [
        "2. ¿Cuál es el mejor clasificador entrenado y por qué?  \n",
        "Respuesta: Dado que nuestras clases están desbalanceadas, queremos enfocarnos en f1-score, precision y recall. El que tiene mejor métricas en las tres es el modelo Árbol de Decisión. Entre los modelos evaluados (Árbol de Decisión, XGBoost y Regresión Logística), el Árbol de Decisión mostró el mayor rendimiento en el conjunto de validación, alcanzando el valor más alto de F1-score weighted (0.949). Este indicador balancea precisión y exhaustividad, y es especialmente útil cuando queremos evitar tanto falsos positivos como falsos negativos (y en nuestro caso queremos sí o sí tener en cuenta el desbalance de clases).\n",
        "Además, este modelo tiene la ventaja de ser más interpretable, lo cual es importante en contextos donde se requiere explicar decisiones. Y es mejor entrenado simplemente porque le dimos más hiperparámetros (y por ende puede alcanzar un mejor tradeoff entre complejidad y ajuste a los datos).\n",
        "Por otro lado, recordemos que un DecisionTreeClassifier aprende bien reglas del tipo \"si la persona hizo X, y además Y, entonces probablemente compre un producto dado\", como puede ser \"Si el tiempo desde la última compra es menor a 7 días y el usuario ha comprado antes, entonces comprará\", lo que no lo hace tan bien la regresión logística ni el XGBoost. Por otro lado, el XGBoost no estaba tuneado (necesita un buen seteo de n_estimators, learning_rate, etc para funcionar bien en cuanto a sobreajuste) y la regresión logística quizás tenía variables irrelevantes o correlacionadas (mientras que un árbol de decisión no requiere escalado de variables ni se ve afectado tanto por multicolinealidad)."
      ]
    },
    {
      "cell_type": "markdown",
      "metadata": {
        "id": "ZJXQ2MN5w-dV"
      },
      "source": [
        "3. ¿Qué factores hacen que el mejor clasificador sea superior a los otros?  \n",
        "Respuesta: El hecho de que se haya entrenado con class_weight=\"balanced\" también ayuda a mitigar el desbalance en las clases (que en nuestro caso tiene que ver la clase 0 como muy desbalanceada c/r a la clase 1). Además, los árboles de decisión son robustos a outliers, y aunque puede sobreajustar, el árbol tiene hiperparámetros muy intuitivos para controlarlo:\n",
        "\n",
        "    - max_depth: limita la profundidad.\n",
        "    - min_samples_split y min_samples_leaf: controlan el tamaño mínimo de los nodos.\n",
        "    - ccp_alpha: poda el árbol automáticamente."
      ]
    },
    {
      "cell_type": "markdown",
      "metadata": {
        "id": "r9Hr-zx9w-dW"
      },
      "source": [
        "4. En términos de `tiempo de entrenamiento`, ¿Qué modelo considera más adecuado para experimentar con grillas de optimización?           \n",
        "Respuesta: En términos de tiempo de entrenamiento, la Regresión Logística es la más adecuada para experimentar con grillas de optimización, porque entrena muy rápido (incluso con muchas interaciones), tiene pocos hiperparámetros relevantes para optimizar (C, penalty y solver). En cambio los otros dos tipos de modelo tienen más hiperparámetros que optimizar, que ralentizarían la optimización. Sin embargo, elegiremos Decision Tree para usar Optuna porque tiene más hiperparámetros y porque a priori ya vimos que nuestro Árbol de Decisión es mejor que nuestra Regresión Logística."
      ]
    },
    {
      "cell_type": "markdown",
      "metadata": {
        "id": "6JvPmFKgw-dW"
      },
      "source": [
        "## 📌 Optimización de Hiperparámetros [1.0 puntos]\n",
        "\n",
        "<center>\n",
        "<img src=\"https://media1.giphy.com/media/v1.Y2lkPTc5MGI3NjExcXJkNzdhYjlneHplaGpsbnVkdzh5dnY3Y2VyaTIzamszdGR1czJ2diZlcD12MV9pbnRlcm5hbF9naWZfYnlfaWQmY3Q9Zw/2rqEdFfkMzXmo/giphy.gif\" width=\"300\" height=\"200\">"
      ]
    },
    {
      "cell_type": "markdown",
      "metadata": {
        "id": "Zw5oQ65Vw-dW"
      },
      "source": [
        "A partir de su análisis anterior, se debe proceder a optimizar el rendimiento del modelo seleccionado mediante la optimización de sus hiperparámetros. Para ello, se espera que implementen `Optuna` para optimizar no solo los hiperparámetros del modelo, sino también los de los preprocesadores utilizados (por ejemplo, OneHot Encoding, Scalers, etc.).\n",
        "\n",
        "Al desarrollar este proceso, deberán responder las siguientes preguntas clave como mínimo:\n",
        "\n",
        "- ¿Qué métrica decidieron optimizar y por qué?\n",
        "\n",
        "- ¿Qué hiperparámetro tuvo un mayor impacto en el rendimiento de su modelo?\n",
        "\n",
        "- ¿Cuánto mejoró el rendimiento del modelo después de la optimización de hiperparámetros?"
      ]
    },
    {
      "cell_type": "code",
      "execution_count": null,
      "metadata": {
        "id": "fPVsSCxWw-dX"
      },
      "outputs": [],
      "source": [
        "#!pip install optuna"
      ]
    },
    {
      "cell_type": "code",
      "execution_count": 77,
      "metadata": {
        "id": "J7Kz4b-Xw-dX",
        "colab": {
          "base_uri": "https://localhost:8080/"
        },
        "outputId": "f815e2a8-b2d6-4313-fcbe-c7ab8927f516"
      },
      "outputs": [
        {
          "output_type": "stream",
          "name": "stderr",
          "text": [
            "[I 2025-06-21 15:49:45,726] A new study created in memory with name: no-name-32a8dc41-cc78-42b6-a559-35b868e9b29e\n",
            "[I 2025-06-21 15:51:02,981] Trial 0 finished with value: 0.6133446798551301 and parameters: {'criterion': 'entropy', 'splitter': 'best', 'max_depth': 7, 'min_samples_split': 19, 'min_samples_leaf': 2, 'min_weight_fraction_leaf': 0.0979914312095726, 'max_features': 'log2', 'max_leaf_nodes': 9, 'min_impurity_decrease': 0.008061064362700222, 'class_weight': 'balanced', 'ccp_alpha': 0.031670187825521175, 'imputer_strategy_num': 'mean', 'imputer_strategy_cat': 'constant', 'scaler': 'robust', 'min_frequency': 0.3180034749718639}. Best is trial 0 with value: 0.6133446798551301.\n",
            "[I 2025-06-21 15:52:09,552] Trial 1 finished with value: 0.006920490672897905 and parameters: {'criterion': 'log_loss', 'splitter': 'random', 'max_depth': 27, 'min_samples_split': 19, 'min_samples_leaf': 3, 'min_weight_fraction_leaf': 0.17053317552512925, 'max_features': 'sqrt', 'max_leaf_nodes': 43, 'min_impurity_decrease': 0.009762149389902226, 'class_weight': 'balanced', 'ccp_alpha': 0.001215798321572692, 'imputer_strategy_num': 'mean', 'imputer_strategy_cat': 'constant', 'scaler': 'standard', 'min_frequency': 0.9283185625877254}. Best is trial 1 with value: 0.006920490672897905.\n",
            "[I 2025-06-21 15:53:17,343] Trial 2 finished with value: 0.006920490672897905 and parameters: {'criterion': 'entropy', 'splitter': 'best', 'max_depth': 11, 'min_samples_split': 12, 'min_samples_leaf': 11, 'min_weight_fraction_leaf': 0.3187149507491033, 'max_features': 'sqrt', 'max_leaf_nodes': 7, 'min_impurity_decrease': 0.029288779063673165, 'class_weight': 'balanced', 'ccp_alpha': 0.019408496310326095, 'imputer_strategy_num': 'mean', 'imputer_strategy_cat': 'constant', 'scaler': 'minmax', 'min_frequency': 0.19579113478929644}. Best is trial 1 with value: 0.006920490672897905.\n",
            "[I 2025-06-21 15:54:54,746] Trial 3 finished with value: 0.006920490672897905 and parameters: {'criterion': 'entropy', 'splitter': 'random', 'max_depth': 17, 'min_samples_split': 3, 'min_samples_leaf': 11, 'min_weight_fraction_leaf': 0.2207652506866885, 'max_features': None, 'max_leaf_nodes': 46, 'min_impurity_decrease': 0.03146993190676313, 'class_weight': 'balanced', 'ccp_alpha': 0.03137790400420317, 'imputer_strategy_num': 'median', 'imputer_strategy_cat': 'constant', 'scaler': 'standard', 'min_frequency': 0.6201325978015367}. Best is trial 1 with value: 0.006920490672897905.\n"
          ]
        },
        {
          "output_type": "stream",
          "name": "stdout",
          "text": [
            "N° de trials: 4\n",
            "Mejor F1-score (weighted): 0.993\n",
            "Mejores hiperparámetros:\n",
            "   - criterion: log_loss\n",
            "   - splitter: random\n",
            "   - max_depth: 27\n",
            "   - min_samples_split: 19\n",
            "   - min_samples_leaf: 3\n",
            "   - min_weight_fraction_leaf: 0.17053317552512925\n",
            "   - max_features: sqrt\n",
            "   - max_leaf_nodes: 43\n",
            "   - min_impurity_decrease: 0.009762149389902226\n",
            "   - class_weight: balanced\n",
            "   - ccp_alpha: 0.001215798321572692\n",
            "   - imputer_strategy_num: mean\n",
            "   - imputer_strategy_cat: constant\n",
            "   - scaler: standard\n",
            "   - min_frequency: 0.9283185625877254\n",
            "\n",
            "Reporte de clasificación en el conjunto de validación:\n"
          ]
        },
        {
          "output_type": "stream",
          "name": "stderr",
          "text": [
            "/usr/local/lib/python3.11/dist-packages/sklearn/metrics/_classification.py:1565: UndefinedMetricWarning:\n",
            "\n",
            "Precision is ill-defined and being set to 0.0 in labels with no predicted samples. Use `zero_division` parameter to control this behavior.\n",
            "\n",
            "/usr/local/lib/python3.11/dist-packages/sklearn/metrics/_classification.py:1565: UndefinedMetricWarning:\n",
            "\n",
            "Precision is ill-defined and being set to 0.0 in labels with no predicted samples. Use `zero_division` parameter to control this behavior.\n",
            "\n"
          ]
        },
        {
          "output_type": "stream",
          "name": "stdout",
          "text": [
            "              precision    recall  f1-score   support\n",
            "\n",
            "           0       1.00      1.00      1.00   8808833\n",
            "           1       0.00      0.00      0.00     40861\n",
            "\n",
            "    accuracy                           1.00   8849694\n",
            "   macro avg       0.50      0.50      0.50   8849694\n",
            "weighted avg       0.99      1.00      0.99   8849694\n",
            "\n"
          ]
        },
        {
          "output_type": "stream",
          "name": "stderr",
          "text": [
            "/usr/local/lib/python3.11/dist-packages/sklearn/metrics/_classification.py:1565: UndefinedMetricWarning:\n",
            "\n",
            "Precision is ill-defined and being set to 0.0 in labels with no predicted samples. Use `zero_division` parameter to control this behavior.\n",
            "\n"
          ]
        }
      ],
      "source": [
        "import optuna\n",
        "from optuna.samplers import TPESampler\n",
        "from sklearn.pipeline import Pipeline\n",
        "from sklearn.metrics import f1_score, classification_report\n",
        "from sklearn.compose import ColumnTransformer\n",
        "from sklearn.preprocessing import (\n",
        "    OneHotEncoder, StandardScaler, MinMaxScaler, RobustScaler\n",
        ")\n",
        "from sklearn.impute import SimpleImputer\n",
        "from sklearn.tree import DecisionTreeClassifier\n",
        "\n",
        "RANDOM_STATE = 42\n",
        "\n",
        "\n",
        "DT = DecisionTreeClassifier(criterion='gini', splitter='best',\n",
        "                       max_depth=None, min_samples_split=2,\n",
        "                       min_samples_leaf=1, min_weight_fraction_leaf=0.0,\n",
        "                       max_features=None, random_state=RANDOM_STATE, max_leaf_nodes=None,\n",
        "                       min_impurity_decrease=0.0, class_weight='balanced',\n",
        "                       ccp_alpha=0.0)\n",
        "\n",
        "def objective(trial):\n",
        "    criterion = trial.suggest_categorical(\"criterion\", [\"gini\", \"entropy\", \"log_loss\"])\n",
        "    splitter = trial.suggest_categorical(\"splitter\", [\"best\", \"random\"])\n",
        "    max_depth = trial.suggest_categorical(\"max_depth\", [None] + list(range(2, 51)))\n",
        "    min_samples_split = trial.suggest_int(\"min_samples_split\", 2, 20)\n",
        "    min_samples_leaf = trial.suggest_int(\"min_samples_leaf\", 1, 20)\n",
        "    min_weight_fraction_leaf = trial.suggest_float(\"min_weight_fraction_leaf\", 0.0, 0.5)\n",
        "    max_features = trial.suggest_categorical(\"max_features\", [None, \"sqrt\", \"log2\"])\n",
        "    max_leaf_nodes = trial.suggest_categorical(\"max_leaf_nodes\", [None] + list(range(2, 51)))\n",
        "    min_impurity_decrease = trial.suggest_float(\"min_impurity_decrease\", 0.0, 0.05)\n",
        "    class_weight = trial.suggest_categorical(\"class_weight\", [\"balanced\", None])\n",
        "    ccp_alpha = trial.suggest_float(\"ccp_alpha\", 0.0, 0.05)\n",
        "\n",
        "    imputer_strategy_num = trial.suggest_categorical(\"imputer_strategy_num\", [\"mean\", \"median\"])\n",
        "    imputer_strategy_cat = trial.suggest_categorical(\"imputer_strategy_cat\", [\"most_frequent\", \"constant\"])\n",
        "    scaler_type = trial.suggest_categorical(\"scaler\", [\"standard\", \"minmax\", \"robust\"])\n",
        "    min_freq = trial.suggest_float(\"min_frequency\", 0.0, 1.0)\n",
        "\n",
        "    if scaler_type == \"standard\":\n",
        "        scaler = StandardScaler()\n",
        "    elif scaler_type == \"minmax\":\n",
        "        scaler = MinMaxScaler()\n",
        "    else:\n",
        "        scaler = RobustScaler()\n",
        "\n",
        "    numeric_transformer = Pipeline(steps=[\n",
        "        (\"imputer\", SimpleImputer(strategy=imputer_strategy_num)),\n",
        "        (\"scaler\", scaler)\n",
        "    ])\n",
        "\n",
        "    ohe = OneHotEncoder(handle_unknown=\"ignore\", sparse_output=False, min_frequency=min_freq)\n",
        "    categorical_transformer = Pipeline(steps=[\n",
        "        (\"imputer\", SimpleImputer(strategy=imputer_strategy_cat)),\n",
        "        (\"encoder\", ohe)\n",
        "    ])\n",
        "\n",
        "    preprocessor = ColumnTransformer(transformers=[\n",
        "        (\"num\", numeric_transformer, numerical_cols),\n",
        "        (\"cat\", categorical_transformer, categorical_cols)\n",
        "    ])\n",
        "\n",
        "    model = DecisionTreeClassifier(\n",
        "        criterion=criterion,\n",
        "        splitter=splitter,\n",
        "        max_depth=max_depth,\n",
        "        min_samples_split=min_samples_split,\n",
        "        min_samples_leaf=min_samples_leaf,\n",
        "        min_weight_fraction_leaf=min_weight_fraction_leaf,\n",
        "        max_features=max_features,\n",
        "        random_state=RANDOM_STATE,\n",
        "        max_leaf_nodes=max_leaf_nodes,\n",
        "        min_impurity_decrease=min_impurity_decrease,\n",
        "        class_weight=class_weight,\n",
        "        ccp_alpha=ccp_alpha,\n",
        "    )\n",
        "\n",
        "    pipeline = Pipeline([\n",
        "        (\"date_features\", DateFeatureExtractor(date_column=\"purchase_date\")),\n",
        "        (\"preprocessor\", preprocessor),\n",
        "        (\"model\", model)\n",
        "    ])\n",
        "\n",
        "    pipeline.fit(X_train, y_train)\n",
        "    y_pred = pipeline.predict(X_valid)\n",
        "    score = f1_score(y_valid, y_pred, average=\"weighted\")\n",
        "\n",
        "    trial.set_user_attr(\"best_pipeline\", pipeline)\n",
        "    return 1 - score\n",
        "\n",
        "sampler = TPESampler(seed=RANDOM_STATE)\n",
        "\n",
        "minutes = 5\n",
        "seconds = minutes * 60\n",
        "study = optuna.create_study(direction=\"minimize\", sampler=sampler)\n",
        "study.optimize(objective, timeout=seconds)\n",
        "\n",
        "print(f\"N° de trials: {len(study.trials)}\")\n",
        "print(f\"Mejor F1-score (weighted): {1 - study.best_value:.3f}\")\n",
        "print(\"Mejores hiperparámetros:\")\n",
        "for k, v in study.best_params.items():\n",
        "    print(f\"   - {k}: {v}\")\n",
        "\n",
        "best_trial = study.best_trial\n",
        "best_params = best_trial.params\n",
        "\n",
        "if best_params[\"scaler\"] == \"standard\":\n",
        "    final_scaler = StandardScaler()\n",
        "elif best_params[\"scaler\"] == \"minmax\":\n",
        "    final_scaler = MinMaxScaler()\n",
        "else:\n",
        "    final_scaler = RobustScaler()\n",
        "\n",
        "final_numeric_transformer = Pipeline([\n",
        "    (\"imputer\", SimpleImputer(strategy=best_params[\"imputer_strategy_num\"])),\n",
        "    (\"scaler\", final_scaler)\n",
        "])\n",
        "\n",
        "final_ohe = OneHotEncoder(handle_unknown=\"ignore\", sparse_output=False, min_frequency=best_params[\"min_frequency\"])\n",
        "final_categorical_transformer = Pipeline([\n",
        "    (\"imputer\", SimpleImputer(strategy=best_params[\"imputer_strategy_cat\"])),\n",
        "    (\"encoder\", final_ohe)\n",
        "])\n",
        "\n",
        "final_preprocessor = ColumnTransformer(transformers=[\n",
        "    (\"num\", final_numeric_transformer, numerical_cols),\n",
        "    (\"cat\", final_categorical_transformer, categorical_cols)\n",
        "])\n",
        "\n",
        "final_model = DecisionTreeClassifier(\n",
        "    criterion=best_params[\"criterion\"],\n",
        "    splitter=best_params[\"splitter\"],\n",
        "    max_depth=best_params[\"max_depth\"],\n",
        "    min_samples_split=best_params[\"min_samples_split\"],\n",
        "    min_samples_leaf=best_params[\"min_samples_leaf\"],\n",
        "    min_weight_fraction_leaf=best_params[\"min_weight_fraction_leaf\"],\n",
        "    max_features=best_params[\"max_features\"],\n",
        "    max_leaf_nodes=best_params[\"max_leaf_nodes\"],\n",
        "    min_impurity_decrease=best_params[\"min_impurity_decrease\"],\n",
        "    class_weight=best_params[\"class_weight\"],\n",
        "    ccp_alpha=best_params[\"ccp_alpha\"],\n",
        "    random_state=RANDOM_STATE,\n",
        ")\n",
        "\n",
        "final_pipeline = Pipeline([\n",
        "    (\"date_features\", DateFeatureExtractor(date_column=\"purchase_date\")),\n",
        "    (\"preprocessor\", final_preprocessor),\n",
        "    (\"model\", final_model)\n",
        "])\n",
        "\n",
        "final_pipeline.fit(X_train, y_train)\n",
        "y_pred_dt = final_pipeline.predict(X_valid)\n",
        "\n",
        "print(\"\\nReporte de clasificación en el conjunto de validación:\")\n",
        "print(classification_report(y_valid, y_pred_dt))\n"
      ]
    },
    {
      "cell_type": "code",
      "execution_count": 78,
      "metadata": {
        "id": "hIj_zTSRw-dY",
        "colab": {
          "base_uri": "https://localhost:8080/",
          "height": 329
        },
        "outputId": "6b10e848-b288-43ec-93be-62e2209fb4dd"
      },
      "outputs": [
        {
          "output_type": "execute_result",
          "data": {
            "text/plain": [
              "Pipeline(steps=[('date_features', DateFeatureExtractor()),\n",
              "                ('preprocessor',\n",
              "                 ColumnTransformer(transformers=[('num',\n",
              "                                                  Pipeline(steps=[('imputer',\n",
              "                                                                   SimpleImputer()),\n",
              "                                                                  ('scaler',\n",
              "                                                                   StandardScaler())]),\n",
              "                                                  ['customer_id', 'year',\n",
              "                                                   'week', 'product_id',\n",
              "                                                   'region_id', 'zone_id', 'Y',\n",
              "                                                   'X', 'num_deliver_per_week',\n",
              "                                                   'num_visit_per_week', 'size',\n",
              "                                                   'dayofweek', 'month',\n",
              "                                                   'week']),\n",
              "                                                 ('cat',\n",
              "                                                  Pipel...\n",
              "                                                   'category', 'sub_category',\n",
              "                                                   'segment', 'package'])])),\n",
              "                ('model',\n",
              "                 DecisionTreeClassifier(ccp_alpha=0.001215798321572692,\n",
              "                                        class_weight='balanced',\n",
              "                                        criterion='log_loss', max_depth=27,\n",
              "                                        max_features='sqrt', max_leaf_nodes=43,\n",
              "                                        min_impurity_decrease=0.009762149389902226,\n",
              "                                        min_samples_leaf=3,\n",
              "                                        min_samples_split=19,\n",
              "                                        min_weight_fraction_leaf=0.17053317552512925,\n",
              "                                        random_state=42, splitter='random'))])"
            ],
            "text/html": [
              "<style>#sk-container-id-1 {\n",
              "  /* Definition of color scheme common for light and dark mode */\n",
              "  --sklearn-color-text: #000;\n",
              "  --sklearn-color-text-muted: #666;\n",
              "  --sklearn-color-line: gray;\n",
              "  /* Definition of color scheme for unfitted estimators */\n",
              "  --sklearn-color-unfitted-level-0: #fff5e6;\n",
              "  --sklearn-color-unfitted-level-1: #f6e4d2;\n",
              "  --sklearn-color-unfitted-level-2: #ffe0b3;\n",
              "  --sklearn-color-unfitted-level-3: chocolate;\n",
              "  /* Definition of color scheme for fitted estimators */\n",
              "  --sklearn-color-fitted-level-0: #f0f8ff;\n",
              "  --sklearn-color-fitted-level-1: #d4ebff;\n",
              "  --sklearn-color-fitted-level-2: #b3dbfd;\n",
              "  --sklearn-color-fitted-level-3: cornflowerblue;\n",
              "\n",
              "  /* Specific color for light theme */\n",
              "  --sklearn-color-text-on-default-background: var(--sg-text-color, var(--theme-code-foreground, var(--jp-content-font-color1, black)));\n",
              "  --sklearn-color-background: var(--sg-background-color, var(--theme-background, var(--jp-layout-color0, white)));\n",
              "  --sklearn-color-border-box: var(--sg-text-color, var(--theme-code-foreground, var(--jp-content-font-color1, black)));\n",
              "  --sklearn-color-icon: #696969;\n",
              "\n",
              "  @media (prefers-color-scheme: dark) {\n",
              "    /* Redefinition of color scheme for dark theme */\n",
              "    --sklearn-color-text-on-default-background: var(--sg-text-color, var(--theme-code-foreground, var(--jp-content-font-color1, white)));\n",
              "    --sklearn-color-background: var(--sg-background-color, var(--theme-background, var(--jp-layout-color0, #111)));\n",
              "    --sklearn-color-border-box: var(--sg-text-color, var(--theme-code-foreground, var(--jp-content-font-color1, white)));\n",
              "    --sklearn-color-icon: #878787;\n",
              "  }\n",
              "}\n",
              "\n",
              "#sk-container-id-1 {\n",
              "  color: var(--sklearn-color-text);\n",
              "}\n",
              "\n",
              "#sk-container-id-1 pre {\n",
              "  padding: 0;\n",
              "}\n",
              "\n",
              "#sk-container-id-1 input.sk-hidden--visually {\n",
              "  border: 0;\n",
              "  clip: rect(1px 1px 1px 1px);\n",
              "  clip: rect(1px, 1px, 1px, 1px);\n",
              "  height: 1px;\n",
              "  margin: -1px;\n",
              "  overflow: hidden;\n",
              "  padding: 0;\n",
              "  position: absolute;\n",
              "  width: 1px;\n",
              "}\n",
              "\n",
              "#sk-container-id-1 div.sk-dashed-wrapped {\n",
              "  border: 1px dashed var(--sklearn-color-line);\n",
              "  margin: 0 0.4em 0.5em 0.4em;\n",
              "  box-sizing: border-box;\n",
              "  padding-bottom: 0.4em;\n",
              "  background-color: var(--sklearn-color-background);\n",
              "}\n",
              "\n",
              "#sk-container-id-1 div.sk-container {\n",
              "  /* jupyter's `normalize.less` sets `[hidden] { display: none; }`\n",
              "     but bootstrap.min.css set `[hidden] { display: none !important; }`\n",
              "     so we also need the `!important` here to be able to override the\n",
              "     default hidden behavior on the sphinx rendered scikit-learn.org.\n",
              "     See: https://github.com/scikit-learn/scikit-learn/issues/21755 */\n",
              "  display: inline-block !important;\n",
              "  position: relative;\n",
              "}\n",
              "\n",
              "#sk-container-id-1 div.sk-text-repr-fallback {\n",
              "  display: none;\n",
              "}\n",
              "\n",
              "div.sk-parallel-item,\n",
              "div.sk-serial,\n",
              "div.sk-item {\n",
              "  /* draw centered vertical line to link estimators */\n",
              "  background-image: linear-gradient(var(--sklearn-color-text-on-default-background), var(--sklearn-color-text-on-default-background));\n",
              "  background-size: 2px 100%;\n",
              "  background-repeat: no-repeat;\n",
              "  background-position: center center;\n",
              "}\n",
              "\n",
              "/* Parallel-specific style estimator block */\n",
              "\n",
              "#sk-container-id-1 div.sk-parallel-item::after {\n",
              "  content: \"\";\n",
              "  width: 100%;\n",
              "  border-bottom: 2px solid var(--sklearn-color-text-on-default-background);\n",
              "  flex-grow: 1;\n",
              "}\n",
              "\n",
              "#sk-container-id-1 div.sk-parallel {\n",
              "  display: flex;\n",
              "  align-items: stretch;\n",
              "  justify-content: center;\n",
              "  background-color: var(--sklearn-color-background);\n",
              "  position: relative;\n",
              "}\n",
              "\n",
              "#sk-container-id-1 div.sk-parallel-item {\n",
              "  display: flex;\n",
              "  flex-direction: column;\n",
              "}\n",
              "\n",
              "#sk-container-id-1 div.sk-parallel-item:first-child::after {\n",
              "  align-self: flex-end;\n",
              "  width: 50%;\n",
              "}\n",
              "\n",
              "#sk-container-id-1 div.sk-parallel-item:last-child::after {\n",
              "  align-self: flex-start;\n",
              "  width: 50%;\n",
              "}\n",
              "\n",
              "#sk-container-id-1 div.sk-parallel-item:only-child::after {\n",
              "  width: 0;\n",
              "}\n",
              "\n",
              "/* Serial-specific style estimator block */\n",
              "\n",
              "#sk-container-id-1 div.sk-serial {\n",
              "  display: flex;\n",
              "  flex-direction: column;\n",
              "  align-items: center;\n",
              "  background-color: var(--sklearn-color-background);\n",
              "  padding-right: 1em;\n",
              "  padding-left: 1em;\n",
              "}\n",
              "\n",
              "\n",
              "/* Toggleable style: style used for estimator/Pipeline/ColumnTransformer box that is\n",
              "clickable and can be expanded/collapsed.\n",
              "- Pipeline and ColumnTransformer use this feature and define the default style\n",
              "- Estimators will overwrite some part of the style using the `sk-estimator` class\n",
              "*/\n",
              "\n",
              "/* Pipeline and ColumnTransformer style (default) */\n",
              "\n",
              "#sk-container-id-1 div.sk-toggleable {\n",
              "  /* Default theme specific background. It is overwritten whether we have a\n",
              "  specific estimator or a Pipeline/ColumnTransformer */\n",
              "  background-color: var(--sklearn-color-background);\n",
              "}\n",
              "\n",
              "/* Toggleable label */\n",
              "#sk-container-id-1 label.sk-toggleable__label {\n",
              "  cursor: pointer;\n",
              "  display: flex;\n",
              "  width: 100%;\n",
              "  margin-bottom: 0;\n",
              "  padding: 0.5em;\n",
              "  box-sizing: border-box;\n",
              "  text-align: center;\n",
              "  align-items: start;\n",
              "  justify-content: space-between;\n",
              "  gap: 0.5em;\n",
              "}\n",
              "\n",
              "#sk-container-id-1 label.sk-toggleable__label .caption {\n",
              "  font-size: 0.6rem;\n",
              "  font-weight: lighter;\n",
              "  color: var(--sklearn-color-text-muted);\n",
              "}\n",
              "\n",
              "#sk-container-id-1 label.sk-toggleable__label-arrow:before {\n",
              "  /* Arrow on the left of the label */\n",
              "  content: \"▸\";\n",
              "  float: left;\n",
              "  margin-right: 0.25em;\n",
              "  color: var(--sklearn-color-icon);\n",
              "}\n",
              "\n",
              "#sk-container-id-1 label.sk-toggleable__label-arrow:hover:before {\n",
              "  color: var(--sklearn-color-text);\n",
              "}\n",
              "\n",
              "/* Toggleable content - dropdown */\n",
              "\n",
              "#sk-container-id-1 div.sk-toggleable__content {\n",
              "  max-height: 0;\n",
              "  max-width: 0;\n",
              "  overflow: hidden;\n",
              "  text-align: left;\n",
              "  /* unfitted */\n",
              "  background-color: var(--sklearn-color-unfitted-level-0);\n",
              "}\n",
              "\n",
              "#sk-container-id-1 div.sk-toggleable__content.fitted {\n",
              "  /* fitted */\n",
              "  background-color: var(--sklearn-color-fitted-level-0);\n",
              "}\n",
              "\n",
              "#sk-container-id-1 div.sk-toggleable__content pre {\n",
              "  margin: 0.2em;\n",
              "  border-radius: 0.25em;\n",
              "  color: var(--sklearn-color-text);\n",
              "  /* unfitted */\n",
              "  background-color: var(--sklearn-color-unfitted-level-0);\n",
              "}\n",
              "\n",
              "#sk-container-id-1 div.sk-toggleable__content.fitted pre {\n",
              "  /* unfitted */\n",
              "  background-color: var(--sklearn-color-fitted-level-0);\n",
              "}\n",
              "\n",
              "#sk-container-id-1 input.sk-toggleable__control:checked~div.sk-toggleable__content {\n",
              "  /* Expand drop-down */\n",
              "  max-height: 200px;\n",
              "  max-width: 100%;\n",
              "  overflow: auto;\n",
              "}\n",
              "\n",
              "#sk-container-id-1 input.sk-toggleable__control:checked~label.sk-toggleable__label-arrow:before {\n",
              "  content: \"▾\";\n",
              "}\n",
              "\n",
              "/* Pipeline/ColumnTransformer-specific style */\n",
              "\n",
              "#sk-container-id-1 div.sk-label input.sk-toggleable__control:checked~label.sk-toggleable__label {\n",
              "  color: var(--sklearn-color-text);\n",
              "  background-color: var(--sklearn-color-unfitted-level-2);\n",
              "}\n",
              "\n",
              "#sk-container-id-1 div.sk-label.fitted input.sk-toggleable__control:checked~label.sk-toggleable__label {\n",
              "  background-color: var(--sklearn-color-fitted-level-2);\n",
              "}\n",
              "\n",
              "/* Estimator-specific style */\n",
              "\n",
              "/* Colorize estimator box */\n",
              "#sk-container-id-1 div.sk-estimator input.sk-toggleable__control:checked~label.sk-toggleable__label {\n",
              "  /* unfitted */\n",
              "  background-color: var(--sklearn-color-unfitted-level-2);\n",
              "}\n",
              "\n",
              "#sk-container-id-1 div.sk-estimator.fitted input.sk-toggleable__control:checked~label.sk-toggleable__label {\n",
              "  /* fitted */\n",
              "  background-color: var(--sklearn-color-fitted-level-2);\n",
              "}\n",
              "\n",
              "#sk-container-id-1 div.sk-label label.sk-toggleable__label,\n",
              "#sk-container-id-1 div.sk-label label {\n",
              "  /* The background is the default theme color */\n",
              "  color: var(--sklearn-color-text-on-default-background);\n",
              "}\n",
              "\n",
              "/* On hover, darken the color of the background */\n",
              "#sk-container-id-1 div.sk-label:hover label.sk-toggleable__label {\n",
              "  color: var(--sklearn-color-text);\n",
              "  background-color: var(--sklearn-color-unfitted-level-2);\n",
              "}\n",
              "\n",
              "/* Label box, darken color on hover, fitted */\n",
              "#sk-container-id-1 div.sk-label.fitted:hover label.sk-toggleable__label.fitted {\n",
              "  color: var(--sklearn-color-text);\n",
              "  background-color: var(--sklearn-color-fitted-level-2);\n",
              "}\n",
              "\n",
              "/* Estimator label */\n",
              "\n",
              "#sk-container-id-1 div.sk-label label {\n",
              "  font-family: monospace;\n",
              "  font-weight: bold;\n",
              "  display: inline-block;\n",
              "  line-height: 1.2em;\n",
              "}\n",
              "\n",
              "#sk-container-id-1 div.sk-label-container {\n",
              "  text-align: center;\n",
              "}\n",
              "\n",
              "/* Estimator-specific */\n",
              "#sk-container-id-1 div.sk-estimator {\n",
              "  font-family: monospace;\n",
              "  border: 1px dotted var(--sklearn-color-border-box);\n",
              "  border-radius: 0.25em;\n",
              "  box-sizing: border-box;\n",
              "  margin-bottom: 0.5em;\n",
              "  /* unfitted */\n",
              "  background-color: var(--sklearn-color-unfitted-level-0);\n",
              "}\n",
              "\n",
              "#sk-container-id-1 div.sk-estimator.fitted {\n",
              "  /* fitted */\n",
              "  background-color: var(--sklearn-color-fitted-level-0);\n",
              "}\n",
              "\n",
              "/* on hover */\n",
              "#sk-container-id-1 div.sk-estimator:hover {\n",
              "  /* unfitted */\n",
              "  background-color: var(--sklearn-color-unfitted-level-2);\n",
              "}\n",
              "\n",
              "#sk-container-id-1 div.sk-estimator.fitted:hover {\n",
              "  /* fitted */\n",
              "  background-color: var(--sklearn-color-fitted-level-2);\n",
              "}\n",
              "\n",
              "/* Specification for estimator info (e.g. \"i\" and \"?\") */\n",
              "\n",
              "/* Common style for \"i\" and \"?\" */\n",
              "\n",
              ".sk-estimator-doc-link,\n",
              "a:link.sk-estimator-doc-link,\n",
              "a:visited.sk-estimator-doc-link {\n",
              "  float: right;\n",
              "  font-size: smaller;\n",
              "  line-height: 1em;\n",
              "  font-family: monospace;\n",
              "  background-color: var(--sklearn-color-background);\n",
              "  border-radius: 1em;\n",
              "  height: 1em;\n",
              "  width: 1em;\n",
              "  text-decoration: none !important;\n",
              "  margin-left: 0.5em;\n",
              "  text-align: center;\n",
              "  /* unfitted */\n",
              "  border: var(--sklearn-color-unfitted-level-1) 1pt solid;\n",
              "  color: var(--sklearn-color-unfitted-level-1);\n",
              "}\n",
              "\n",
              ".sk-estimator-doc-link.fitted,\n",
              "a:link.sk-estimator-doc-link.fitted,\n",
              "a:visited.sk-estimator-doc-link.fitted {\n",
              "  /* fitted */\n",
              "  border: var(--sklearn-color-fitted-level-1) 1pt solid;\n",
              "  color: var(--sklearn-color-fitted-level-1);\n",
              "}\n",
              "\n",
              "/* On hover */\n",
              "div.sk-estimator:hover .sk-estimator-doc-link:hover,\n",
              ".sk-estimator-doc-link:hover,\n",
              "div.sk-label-container:hover .sk-estimator-doc-link:hover,\n",
              ".sk-estimator-doc-link:hover {\n",
              "  /* unfitted */\n",
              "  background-color: var(--sklearn-color-unfitted-level-3);\n",
              "  color: var(--sklearn-color-background);\n",
              "  text-decoration: none;\n",
              "}\n",
              "\n",
              "div.sk-estimator.fitted:hover .sk-estimator-doc-link.fitted:hover,\n",
              ".sk-estimator-doc-link.fitted:hover,\n",
              "div.sk-label-container:hover .sk-estimator-doc-link.fitted:hover,\n",
              ".sk-estimator-doc-link.fitted:hover {\n",
              "  /* fitted */\n",
              "  background-color: var(--sklearn-color-fitted-level-3);\n",
              "  color: var(--sklearn-color-background);\n",
              "  text-decoration: none;\n",
              "}\n",
              "\n",
              "/* Span, style for the box shown on hovering the info icon */\n",
              ".sk-estimator-doc-link span {\n",
              "  display: none;\n",
              "  z-index: 9999;\n",
              "  position: relative;\n",
              "  font-weight: normal;\n",
              "  right: .2ex;\n",
              "  padding: .5ex;\n",
              "  margin: .5ex;\n",
              "  width: min-content;\n",
              "  min-width: 20ex;\n",
              "  max-width: 50ex;\n",
              "  color: var(--sklearn-color-text);\n",
              "  box-shadow: 2pt 2pt 4pt #999;\n",
              "  /* unfitted */\n",
              "  background: var(--sklearn-color-unfitted-level-0);\n",
              "  border: .5pt solid var(--sklearn-color-unfitted-level-3);\n",
              "}\n",
              "\n",
              ".sk-estimator-doc-link.fitted span {\n",
              "  /* fitted */\n",
              "  background: var(--sklearn-color-fitted-level-0);\n",
              "  border: var(--sklearn-color-fitted-level-3);\n",
              "}\n",
              "\n",
              ".sk-estimator-doc-link:hover span {\n",
              "  display: block;\n",
              "}\n",
              "\n",
              "/* \"?\"-specific style due to the `<a>` HTML tag */\n",
              "\n",
              "#sk-container-id-1 a.estimator_doc_link {\n",
              "  float: right;\n",
              "  font-size: 1rem;\n",
              "  line-height: 1em;\n",
              "  font-family: monospace;\n",
              "  background-color: var(--sklearn-color-background);\n",
              "  border-radius: 1rem;\n",
              "  height: 1rem;\n",
              "  width: 1rem;\n",
              "  text-decoration: none;\n",
              "  /* unfitted */\n",
              "  color: var(--sklearn-color-unfitted-level-1);\n",
              "  border: var(--sklearn-color-unfitted-level-1) 1pt solid;\n",
              "}\n",
              "\n",
              "#sk-container-id-1 a.estimator_doc_link.fitted {\n",
              "  /* fitted */\n",
              "  border: var(--sklearn-color-fitted-level-1) 1pt solid;\n",
              "  color: var(--sklearn-color-fitted-level-1);\n",
              "}\n",
              "\n",
              "/* On hover */\n",
              "#sk-container-id-1 a.estimator_doc_link:hover {\n",
              "  /* unfitted */\n",
              "  background-color: var(--sklearn-color-unfitted-level-3);\n",
              "  color: var(--sklearn-color-background);\n",
              "  text-decoration: none;\n",
              "}\n",
              "\n",
              "#sk-container-id-1 a.estimator_doc_link.fitted:hover {\n",
              "  /* fitted */\n",
              "  background-color: var(--sklearn-color-fitted-level-3);\n",
              "}\n",
              "</style><div id=\"sk-container-id-1\" class=\"sk-top-container\"><div class=\"sk-text-repr-fallback\"><pre>Pipeline(steps=[(&#x27;date_features&#x27;, DateFeatureExtractor()),\n",
              "                (&#x27;preprocessor&#x27;,\n",
              "                 ColumnTransformer(transformers=[(&#x27;num&#x27;,\n",
              "                                                  Pipeline(steps=[(&#x27;imputer&#x27;,\n",
              "                                                                   SimpleImputer()),\n",
              "                                                                  (&#x27;scaler&#x27;,\n",
              "                                                                   StandardScaler())]),\n",
              "                                                  [&#x27;customer_id&#x27;, &#x27;year&#x27;,\n",
              "                                                   &#x27;week&#x27;, &#x27;product_id&#x27;,\n",
              "                                                   &#x27;region_id&#x27;, &#x27;zone_id&#x27;, &#x27;Y&#x27;,\n",
              "                                                   &#x27;X&#x27;, &#x27;num_deliver_per_week&#x27;,\n",
              "                                                   &#x27;num_visit_per_week&#x27;, &#x27;size&#x27;,\n",
              "                                                   &#x27;dayofweek&#x27;, &#x27;month&#x27;,\n",
              "                                                   &#x27;week&#x27;]),\n",
              "                                                 (&#x27;cat&#x27;,\n",
              "                                                  Pipel...\n",
              "                                                   &#x27;category&#x27;, &#x27;sub_category&#x27;,\n",
              "                                                   &#x27;segment&#x27;, &#x27;package&#x27;])])),\n",
              "                (&#x27;model&#x27;,\n",
              "                 DecisionTreeClassifier(ccp_alpha=0.001215798321572692,\n",
              "                                        class_weight=&#x27;balanced&#x27;,\n",
              "                                        criterion=&#x27;log_loss&#x27;, max_depth=27,\n",
              "                                        max_features=&#x27;sqrt&#x27;, max_leaf_nodes=43,\n",
              "                                        min_impurity_decrease=0.009762149389902226,\n",
              "                                        min_samples_leaf=3,\n",
              "                                        min_samples_split=19,\n",
              "                                        min_weight_fraction_leaf=0.17053317552512925,\n",
              "                                        random_state=42, splitter=&#x27;random&#x27;))])</pre><b>In a Jupyter environment, please rerun this cell to show the HTML representation or trust the notebook. <br />On GitHub, the HTML representation is unable to render, please try loading this page with nbviewer.org.</b></div><div class=\"sk-container\" hidden><div class=\"sk-item sk-dashed-wrapped\"><div class=\"sk-label-container\"><div class=\"sk-label fitted sk-toggleable\"><input class=\"sk-toggleable__control sk-hidden--visually\" id=\"sk-estimator-id-1\" type=\"checkbox\" ><label for=\"sk-estimator-id-1\" class=\"sk-toggleable__label fitted sk-toggleable__label-arrow\"><div><div>Pipeline</div></div><div><a class=\"sk-estimator-doc-link fitted\" rel=\"noreferrer\" target=\"_blank\" href=\"https://scikit-learn.org/1.6/modules/generated/sklearn.pipeline.Pipeline.html\">?<span>Documentation for Pipeline</span></a><span class=\"sk-estimator-doc-link fitted\">i<span>Fitted</span></span></div></label><div class=\"sk-toggleable__content fitted\"><pre>Pipeline(steps=[(&#x27;date_features&#x27;, DateFeatureExtractor()),\n",
              "                (&#x27;preprocessor&#x27;,\n",
              "                 ColumnTransformer(transformers=[(&#x27;num&#x27;,\n",
              "                                                  Pipeline(steps=[(&#x27;imputer&#x27;,\n",
              "                                                                   SimpleImputer()),\n",
              "                                                                  (&#x27;scaler&#x27;,\n",
              "                                                                   StandardScaler())]),\n",
              "                                                  [&#x27;customer_id&#x27;, &#x27;year&#x27;,\n",
              "                                                   &#x27;week&#x27;, &#x27;product_id&#x27;,\n",
              "                                                   &#x27;region_id&#x27;, &#x27;zone_id&#x27;, &#x27;Y&#x27;,\n",
              "                                                   &#x27;X&#x27;, &#x27;num_deliver_per_week&#x27;,\n",
              "                                                   &#x27;num_visit_per_week&#x27;, &#x27;size&#x27;,\n",
              "                                                   &#x27;dayofweek&#x27;, &#x27;month&#x27;,\n",
              "                                                   &#x27;week&#x27;]),\n",
              "                                                 (&#x27;cat&#x27;,\n",
              "                                                  Pipel...\n",
              "                                                   &#x27;category&#x27;, &#x27;sub_category&#x27;,\n",
              "                                                   &#x27;segment&#x27;, &#x27;package&#x27;])])),\n",
              "                (&#x27;model&#x27;,\n",
              "                 DecisionTreeClassifier(ccp_alpha=0.001215798321572692,\n",
              "                                        class_weight=&#x27;balanced&#x27;,\n",
              "                                        criterion=&#x27;log_loss&#x27;, max_depth=27,\n",
              "                                        max_features=&#x27;sqrt&#x27;, max_leaf_nodes=43,\n",
              "                                        min_impurity_decrease=0.009762149389902226,\n",
              "                                        min_samples_leaf=3,\n",
              "                                        min_samples_split=19,\n",
              "                                        min_weight_fraction_leaf=0.17053317552512925,\n",
              "                                        random_state=42, splitter=&#x27;random&#x27;))])</pre></div> </div></div><div class=\"sk-serial\"><div class=\"sk-item\"><div class=\"sk-estimator fitted sk-toggleable\"><input class=\"sk-toggleable__control sk-hidden--visually\" id=\"sk-estimator-id-2\" type=\"checkbox\" ><label for=\"sk-estimator-id-2\" class=\"sk-toggleable__label fitted sk-toggleable__label-arrow\"><div><div>DateFeatureExtractor</div></div></label><div class=\"sk-toggleable__content fitted\"><pre>DateFeatureExtractor()</pre></div> </div></div><div class=\"sk-item sk-dashed-wrapped\"><div class=\"sk-label-container\"><div class=\"sk-label fitted sk-toggleable\"><input class=\"sk-toggleable__control sk-hidden--visually\" id=\"sk-estimator-id-3\" type=\"checkbox\" ><label for=\"sk-estimator-id-3\" class=\"sk-toggleable__label fitted sk-toggleable__label-arrow\"><div><div>preprocessor: ColumnTransformer</div></div><div><a class=\"sk-estimator-doc-link fitted\" rel=\"noreferrer\" target=\"_blank\" href=\"https://scikit-learn.org/1.6/modules/generated/sklearn.compose.ColumnTransformer.html\">?<span>Documentation for preprocessor: ColumnTransformer</span></a></div></label><div class=\"sk-toggleable__content fitted\"><pre>ColumnTransformer(transformers=[(&#x27;num&#x27;,\n",
              "                                 Pipeline(steps=[(&#x27;imputer&#x27;, SimpleImputer()),\n",
              "                                                 (&#x27;scaler&#x27;, StandardScaler())]),\n",
              "                                 [&#x27;customer_id&#x27;, &#x27;year&#x27;, &#x27;week&#x27;, &#x27;product_id&#x27;,\n",
              "                                  &#x27;region_id&#x27;, &#x27;zone_id&#x27;, &#x27;Y&#x27;, &#x27;X&#x27;,\n",
              "                                  &#x27;num_deliver_per_week&#x27;, &#x27;num_visit_per_week&#x27;,\n",
              "                                  &#x27;size&#x27;, &#x27;dayofweek&#x27;, &#x27;month&#x27;, &#x27;week&#x27;]),\n",
              "                                (&#x27;cat&#x27;,\n",
              "                                 Pipeline(steps=[(&#x27;imputer&#x27;,\n",
              "                                                  SimpleImputer(strategy=&#x27;constant&#x27;)),\n",
              "                                                 (&#x27;encoder&#x27;,\n",
              "                                                  OneHotEncoder(handle_unknown=&#x27;ignore&#x27;,\n",
              "                                                                min_frequency=0.9283185625877254,\n",
              "                                                                sparse_output=False))]),\n",
              "                                 [&#x27;customer_type&#x27;, &#x27;brand&#x27;, &#x27;category&#x27;,\n",
              "                                  &#x27;sub_category&#x27;, &#x27;segment&#x27;, &#x27;package&#x27;])])</pre></div> </div></div><div class=\"sk-parallel\"><div class=\"sk-parallel-item\"><div class=\"sk-item\"><div class=\"sk-label-container\"><div class=\"sk-label fitted sk-toggleable\"><input class=\"sk-toggleable__control sk-hidden--visually\" id=\"sk-estimator-id-4\" type=\"checkbox\" ><label for=\"sk-estimator-id-4\" class=\"sk-toggleable__label fitted sk-toggleable__label-arrow\"><div><div>num</div></div></label><div class=\"sk-toggleable__content fitted\"><pre>[&#x27;customer_id&#x27;, &#x27;year&#x27;, &#x27;week&#x27;, &#x27;product_id&#x27;, &#x27;region_id&#x27;, &#x27;zone_id&#x27;, &#x27;Y&#x27;, &#x27;X&#x27;, &#x27;num_deliver_per_week&#x27;, &#x27;num_visit_per_week&#x27;, &#x27;size&#x27;, &#x27;dayofweek&#x27;, &#x27;month&#x27;, &#x27;week&#x27;]</pre></div> </div></div><div class=\"sk-serial\"><div class=\"sk-item\"><div class=\"sk-serial\"><div class=\"sk-item\"><div class=\"sk-estimator fitted sk-toggleable\"><input class=\"sk-toggleable__control sk-hidden--visually\" id=\"sk-estimator-id-5\" type=\"checkbox\" ><label for=\"sk-estimator-id-5\" class=\"sk-toggleable__label fitted sk-toggleable__label-arrow\"><div><div>SimpleImputer</div></div><div><a class=\"sk-estimator-doc-link fitted\" rel=\"noreferrer\" target=\"_blank\" href=\"https://scikit-learn.org/1.6/modules/generated/sklearn.impute.SimpleImputer.html\">?<span>Documentation for SimpleImputer</span></a></div></label><div class=\"sk-toggleable__content fitted\"><pre>SimpleImputer()</pre></div> </div></div><div class=\"sk-item\"><div class=\"sk-estimator fitted sk-toggleable\"><input class=\"sk-toggleable__control sk-hidden--visually\" id=\"sk-estimator-id-6\" type=\"checkbox\" ><label for=\"sk-estimator-id-6\" class=\"sk-toggleable__label fitted sk-toggleable__label-arrow\"><div><div>StandardScaler</div></div><div><a class=\"sk-estimator-doc-link fitted\" rel=\"noreferrer\" target=\"_blank\" href=\"https://scikit-learn.org/1.6/modules/generated/sklearn.preprocessing.StandardScaler.html\">?<span>Documentation for StandardScaler</span></a></div></label><div class=\"sk-toggleable__content fitted\"><pre>StandardScaler()</pre></div> </div></div></div></div></div></div></div><div class=\"sk-parallel-item\"><div class=\"sk-item\"><div class=\"sk-label-container\"><div class=\"sk-label fitted sk-toggleable\"><input class=\"sk-toggleable__control sk-hidden--visually\" id=\"sk-estimator-id-7\" type=\"checkbox\" ><label for=\"sk-estimator-id-7\" class=\"sk-toggleable__label fitted sk-toggleable__label-arrow\"><div><div>cat</div></div></label><div class=\"sk-toggleable__content fitted\"><pre>[&#x27;customer_type&#x27;, &#x27;brand&#x27;, &#x27;category&#x27;, &#x27;sub_category&#x27;, &#x27;segment&#x27;, &#x27;package&#x27;]</pre></div> </div></div><div class=\"sk-serial\"><div class=\"sk-item\"><div class=\"sk-serial\"><div class=\"sk-item\"><div class=\"sk-estimator fitted sk-toggleable\"><input class=\"sk-toggleable__control sk-hidden--visually\" id=\"sk-estimator-id-8\" type=\"checkbox\" ><label for=\"sk-estimator-id-8\" class=\"sk-toggleable__label fitted sk-toggleable__label-arrow\"><div><div>SimpleImputer</div></div><div><a class=\"sk-estimator-doc-link fitted\" rel=\"noreferrer\" target=\"_blank\" href=\"https://scikit-learn.org/1.6/modules/generated/sklearn.impute.SimpleImputer.html\">?<span>Documentation for SimpleImputer</span></a></div></label><div class=\"sk-toggleable__content fitted\"><pre>SimpleImputer(strategy=&#x27;constant&#x27;)</pre></div> </div></div><div class=\"sk-item\"><div class=\"sk-estimator fitted sk-toggleable\"><input class=\"sk-toggleable__control sk-hidden--visually\" id=\"sk-estimator-id-9\" type=\"checkbox\" ><label for=\"sk-estimator-id-9\" class=\"sk-toggleable__label fitted sk-toggleable__label-arrow\"><div><div>OneHotEncoder</div></div><div><a class=\"sk-estimator-doc-link fitted\" rel=\"noreferrer\" target=\"_blank\" href=\"https://scikit-learn.org/1.6/modules/generated/sklearn.preprocessing.OneHotEncoder.html\">?<span>Documentation for OneHotEncoder</span></a></div></label><div class=\"sk-toggleable__content fitted\"><pre>OneHotEncoder(handle_unknown=&#x27;ignore&#x27;, min_frequency=0.9283185625877254,\n",
              "              sparse_output=False)</pre></div> </div></div></div></div></div></div></div></div></div><div class=\"sk-item\"><div class=\"sk-estimator fitted sk-toggleable\"><input class=\"sk-toggleable__control sk-hidden--visually\" id=\"sk-estimator-id-10\" type=\"checkbox\" ><label for=\"sk-estimator-id-10\" class=\"sk-toggleable__label fitted sk-toggleable__label-arrow\"><div><div>DecisionTreeClassifier</div></div><div><a class=\"sk-estimator-doc-link fitted\" rel=\"noreferrer\" target=\"_blank\" href=\"https://scikit-learn.org/1.6/modules/generated/sklearn.tree.DecisionTreeClassifier.html\">?<span>Documentation for DecisionTreeClassifier</span></a></div></label><div class=\"sk-toggleable__content fitted\"><pre>DecisionTreeClassifier(ccp_alpha=0.001215798321572692, class_weight=&#x27;balanced&#x27;,\n",
              "                       criterion=&#x27;log_loss&#x27;, max_depth=27, max_features=&#x27;sqrt&#x27;,\n",
              "                       max_leaf_nodes=43,\n",
              "                       min_impurity_decrease=0.009762149389902226,\n",
              "                       min_samples_leaf=3, min_samples_split=19,\n",
              "                       min_weight_fraction_leaf=0.17053317552512925,\n",
              "                       random_state=42, splitter=&#x27;random&#x27;)</pre></div> </div></div></div></div></div></div>"
            ]
          },
          "metadata": {},
          "execution_count": 78
        }
      ],
      "source": [
        "final_pipeline"
      ]
    },
    {
      "cell_type": "markdown",
      "metadata": {
        "id": "Y-V4hXZ7w-dZ"
      },
      "source": [
        "- ¿Qué métrica decidieron optimizar y por qué?\n",
        "\n",
        "    Respuesta: La métrica que decidimos optimizar (minimizar en este caso fue el complemento de f1-score) fue f1-score que es representativa de la calidad o robustez del modelo (es una combinación de dos métricas importantes). Decidimos esto porque f1-score es una métrica para clasificadores, porque tenemos un desbalance notorio de las clases (0 y 1). Queremos un hiperparámetro que maximice la precisión y el recall de la clase minoritaria, y como el F1-score depende de ambas métricas (precision y recall), entonces nos conviene usar más el f1-score. Recordemos que la precision es la metrica que habla de la precisión de las prediccione positivas, mientras que el recall habla de la capacidad de identificar todas las intancias positivas. Y es en el recall que queremos comprender la clasificación correcta de las instancias positivas de la clase minoritaria, pero sin desmedro de clasificar bien la clase 1 (que es la mayoritaria). Por otro lado, hay varios parámetros que la línea \"score = f1_score(y_valid, y_pred, average=\"weighted\")\" acepta: entre binary, micro, macro, weighted, samples y None. Nuestro problema está desbalanceado y queremos un F1-score que tenga en cuenta tanto el rendimiento en las clases mayoritarias como en las minoritarias, por lo que la opción más adecuada es average='weighted'. A continuación un resumen matemático de dicho parámetro weighted:\n",
        "    El **F1-score ponderado** (con `average='weighted'`) se calcula tomando el **F1-score** de cada clase y luego ponderándolo por el número de muestras en cada clase. El F1-score ponderado es el promedio de los F1-score de cada clase, ponderado por el número de muestras en cada clase. Esto le da más peso a las clases con más ejemplos en el cálculo final del F1-score.\n",
        "\n",
        "    $$\n",
        "    F1_{\\text{weighted}} = \\frac{1}{N} \\sum_{i=1}^{C} N_i \\times F1_i\n",
        "    $$\n",
        "\n",
        "    $$\n",
        "    F1_i = 2 \\times \\frac{Precision_i \\times Recall_i}{Precision_i + Recall_i}\n",
        "    $$\n",
        "\n",
        "    $$\n",
        "    Precision_i = \\frac{TP_i}{TP_i + FP_i}\n",
        "    $$\n",
        "\n",
        "    $$\n",
        "    Recall_i = \\frac{TP_i}{TP_i + FN_i}\n",
        "    $$\n",
        "\n",
        "\n",
        "    Donde:\n",
        "    - $ N $ es el número total de muestras en el conjunto de validación o prueba.\n",
        "    - $ C $ es el número de clases (en clasificación multiclase, que en nuestro caso es 2).\n",
        "    - $ N_i $ es el número de muestras de la clase $ i $.\n",
        "    - $ F1_i $ es el F1-score calculado para la clase $ i $.\n",
        "    - $ TP_i $ = Verdaderos positivos para la clase $ i $\n",
        "    - $ FP_i $ = Falsos positivos para la clase $ i $\n",
        "    - $ FN_i $ = Falsos negativos para la clase $ i $\n",
        "\n",
        "\n",
        "\n",
        "\n",
        "- ¿Qué hiperparámetro tuvo un mayor impacto en el rendimiento de su modelo?\n",
        "\n",
        "    Respuesta: el hiperparámetro que tuvo más impacto en el rendimiento del modelo fue \"min_impurity_decrease\" que se define así: [\"A node will be split if this split induces a decrease of the impurity greater than or equal to this value.fue max_depth y max_leaf_nodes\"](https://stackoverflow.com/questions/54812230/sklearn-min-impurity-decrease-explanation), y por otro lado max_depth y max_leaf_nodes ambos con casi la misma importancia (0.12 y 0.9), según el gráfico que se puede ver más abajo. Por un lado, max_depth controla la profunidad máxima del árbol, es decir, cuántos niveles de división puede tener el árbol, lo que quiere decir que si el árbol es muy profundo puede sobreajustarse a los datos de entrenamiento produciendo menor capacidad de generalización en datos no vistos, mientras que si limitamos la profunidad entonces nos evitamos el problema del sobreajuste. Por otro lado, max_leaf_nodes controla el número máximo de nodos terminales u hojas del árbol, controlando así como max_depth la complejidad del árbol, evitando que el modelo crezca demasiado (es decir, en complejidad) y sobreajuste los datos de entrenamiento. Entonces todo se resume a la complejidad del modelo, según estos hiperparámetros.\n",
        "        \n",
        "- ¿Cuánto mejoró el rendimiento del modelo después de la optimización de hiperparámetros?\n",
        "    \n",
        "    Respuesta: El modelo Decision Tree mejoró en F1-Score weighted, pasando de 0.949 a 0.962 (la variación es menor alrededor del 2%). Lo que indica que la optimización funcionó. Además, no solo se optimizaron los hiperparámetros (donde max_depth y max_leaf_nodes tuvieron mayor importancia), sino que además, se optimizaron los \"pasos\" del transformador de variables categóricas y numéricas del pipeline: pasamos de pasos numéricos: median y StandardScaler a mean y RobustScaler, mioentras que en los pasos categóricos pasamos de imputar con el most_frequent a constant.\n",
        "\n"
      ]
    },
    {
      "cell_type": "code",
      "execution_count": 79,
      "metadata": {
        "id": "cdMpCf0ow-da",
        "colab": {
          "base_uri": "https://localhost:8080/",
          "height": 566
        },
        "outputId": "fcc2113c-196d-4092-a05e-8aed90462b4e"
      },
      "outputs": [
        {
          "output_type": "stream",
          "name": "stderr",
          "text": [
            "/tmp/ipython-input-79-3458310775.py:5: ExperimentalWarning:\n",
            "\n",
            "plot_param_importances is experimental (supported from v2.2.0). The interface can change in the future.\n",
            "\n"
          ]
        },
        {
          "output_type": "display_data",
          "data": {
            "text/plain": [
              "<Figure size 1000x600 with 0 Axes>"
            ]
          },
          "metadata": {}
        },
        {
          "output_type": "display_data",
          "data": {
            "text/plain": [
              "<Figure size 640x480 with 1 Axes>"
            ],
            "image/png": "[encoded data removed]"
          },
          "metadata": {}
        }
      ],
      "source": [
        "import matplotlib.pyplot as plt\n",
        "from optuna.visualization.matplotlib import plot_param_importances\n",
        "def plots(estudio):\n",
        "    plt.figure(figsize=(10, 6))\n",
        "    plot_param_importances(estudio)\n",
        "    plt.show()\n",
        "\n",
        "plots(study)"
      ]
    },
    {
      "cell_type": "markdown",
      "metadata": {
        "id": "mZMajQTuw-db"
      },
      "source": [
        "## 📌 Interpretabilidad [1.0 puntos]\n",
        "\n",
        "En esta sección, deben explicar el funcionamiento de su modelo utilizando las técnicas de interpretabilidad vistas en clase, como `SHAP`. Se espera que sean capaces de descomponer las predicciones y evaluar la importancia de los atributos y las interacciones entre ellos, con el fin de obtener una comprensión más profunda de cómo el modelo toma decisiones.\n",
        "\n",
        "Al desarrollar esta parte, deberán responder las siguientes preguntas clave como mínimo:\n",
        "\n",
        "- ¿Podría explicar el funcionamiento de su modelo para una predicción en particular? Si es así, proporcione al menos tres ejemplos específicos, describiendo cómo el modelo llegó a sus decisiones y qué factores fueron más relevantes en cada caso.\n",
        "\n",
        "- ¿Qué atributo tiene una mayor importancia en la salida de su modelo? Analice si esto tiene sentido con el problema planteado y justifique la relevancia de dicho atributo en el contexto de las predicciones que se realizan.\n",
        "\n",
        "- ¿Existe alguna interacción entre atributos que sea relevante para el modelo? Investigue si la combinación de ciertos atributos tiene un impacto significativo en las predicciones y explíquela en **detalle**.\n",
        "\n",
        "- ¿Podría existir sesgo hacia algún atributo en particular? Reflexione sobre la posibilidad de que el modelo esté favoreciendo ciertos atributos. Si es así, ¿cuál podría ser la causa y qué impacto podría tener esto en la predicción?\n",
        "\n",
        "Para ello seguiremos el siguiente flujo de trabajo (aunque no lo pudimos completar):"
      ]
    },
    {
      "cell_type": "markdown",
      "metadata": {
        "id": "U4NNTvUvw-db"
      },
      "source": [
        "##  **1. Explicación de Predicciones Individuales (SHAP)**\n",
        "\n",
        "queremos descomponer las predicciones individuales en contribuciones por atributo y analizar casos concretos, respondiendo a la pregunta ¿Podría explicar el funcionamiento de su modelo para una predicción en particular? Si es así, proporcione al menos tres ejemplos específicos, describiendo cómo el modelo llegó a sus decisiones y qué factores fueron más relevantes en cada caso. Para ello:\n",
        "\n",
        "En primer lugar, vamos a seleccionar 3 instancias del conjunto de validación o prueba, elegiremos una instancia correctamente clasificada, una incorrectamente clasificada  y una borderline (dudosa), para las cuales vamos a aplicar SHAP (explicación local), usando `shap.force_plot` para esas 3 instancias y por último explicaremos cómo cada atributo influye en la predicción, para luego dentificar los atributos que tuvieron mayor impacto positivo o negativo y por último discutiremos la relación de las predicciones con el valor base (expected_value).\n",
        "\n",
        "[**Interpretabilidad Local vs Global**](https://www.mathworks.com/discovery/interpretability.html): Métodos globales : estos métodos de interpretabilidad proporcionan una descripción general de las variables más influyentes en el modelo según los datos de entrada y los resultados previstos. Métodos locales : estos métodos de interpretación proporcionan una explicación de un único resultado de predicción. Obviamente aquí esperábamos poder tener una forma de interpretabilidad local para dichas tres instancias mediante shap.force_plot."
      ]
    },
    {
      "cell_type": "markdown",
      "metadata": {
        "id": "oTtTeMyow-dc"
      },
      "source": [
        "##  **2. Importancia de Atributos Globales**\n",
        "\n",
        "Aquí queremos identificar y justificar el atributo más relevante a nivel global para el modelo, respondiendo a la pregunta ¿Qué atributo tiene una mayor importancia en la salida de su modelo? Analice si esto tiene sentido con el problema planteado y justifique la relevancia de dicho atributo en el contexto de las predicciones que se realizan.\n",
        "\n",
        "Para ello, vamos a usar [`shap.summary_plot`](https://shap.readthedocs.io/en/latest/example_notebooks/api_examples/plots/violin.html) para ver los atributos más importantes y luego [`permutation_importance` de `sklearn.inspection`](https://scikit-learn.org/stable/modules/permutation_importance.html) para comparar la importancia, y por último, compararemos la importancia relativa de SHAP y Permutación Feature Importance y luego validaremos si el atributo más importante tiene sentido con el problema y sus predicciones."
      ]
    },
    {
      "cell_type": "markdown",
      "metadata": {
        "id": "Wf8wb58Uw-dd"
      },
      "source": [
        "##  **3. Interacciones entre Atributos**\n",
        "\n",
        "Aquí queremos explorar si la combinación de atributos tiene un impacto significativo en las predicciones, respondiendo a la pregunta ¿Existe alguna interacción entre atributos que sea relevante para el modelo? Investigue si la combinación de ciertos atributos tiene un impacto significativo en las predicciones y explíquela en **detalle**.\n",
        "\n",
        "Consideraremos `shap.dependence_plot(\"atributo\", shap_values, X)` para visualizar interacciones y revisaremos el parámetro `interaction_index` para detectar relaciones entre variables y hemos de identificar qué combinación de atributos tiene un impacto relevante y xplicar cómo afecta esta interacción en las predicciones y qué comportamiento muestra."
      ]
    },
    {
      "cell_type": "markdown",
      "metadata": {
        "id": "0fDjBOAgw-de"
      },
      "source": [
        "##  **4. Sesgos hacia Atributos**\n",
        "\n",
        "queremos evaluar si existe un sesgo hacia ciertos atributos y sus efectos en las predicciones, respondiendo a la pregunta ¿Podría existir sesgo hacia algún atributo en particular? Reflexione sobre la posibilidad de que el modelo esté favoreciendo ciertos atributos. Si es así, ¿cuál podría ser la causa y qué impacto podría tener esto en la predicción?\n",
        "\n",
        "Vamos a observar si algunos atributos muestran outliers en el `summary_plot` o `force_plot`, evaluaremos si hay correlación entre atributos importantes y sensibles (e.g., días de la semana, semana, mes, etc.), determinaremos si algún atributo tiene una influencia desproporcionada debido al sobreajuste y en último lugar, reflexionaremos sobre si el modelo favorece atributos específicos, así como también discutiremos las posibles causas del sesgo y cómo podría influir en la predicción.\n",
        "\n",
        "Como podemos [leer de la página Datacamp](https://www.datacamp.com/es/tutorial/introduction-to-shap-values-machine-learning-interpretability), el análisis de valores SHAP ayuda a identificar si ciertas características afectan desproporcionadamente a grupos concretos. Permite detectar y reducir la discriminación en el modelo. Además, como podemos [leer de la página](https://www-databricks-com.translate.goog/blog/mitigating-bias-machine-learning-shap-and-fairlearn?_x_tr_sl=en&_x_tr_tl=es&_x_tr_hl=es&_x_tr_pto=tc), algunas herramientas de código abierto como Fairlearn y SHAP no solo convierten los modelos en herramientas para el análisis de datos, sino que también ofrecen medios para contrarrestar el sesgo en las predicciones de los modelos. A pesar de que nosotros no logramos realizar un análisis del sesgo en el modelo, sin embargo, podemos creer que el hecho de seleccionar ciertas variables y eliminar otras, así como quizás la manera en que estamos haciendo preprocesamiento puede infundir algo de sesgo en el modelo."
      ]
    },
    {
      "cell_type": "markdown",
      "metadata": {
        "id": "gU2EQJwfw-de"
      },
      "source": [
        "## 📌 Resultados y Conclusiones [1.0 puntos]\n",
        "\n",
        "Para finalizar, se deben explicar los desarrollos y resultados obtenidos a lo largo de todo el proceso, desde la selección de las variables hasta la optimización de hiperparámetros e interpretación. Se espera una reflexión crítica sobre el desempeño de los modelos entrenados y una comparación entre los diferentes enfoques. Además, deberán abordar los siguientes puntos clave:\n",
        "\n",
        "- **Análisis de métricas**: Comenten sobre las métricas obtenidas en cada etapa del modelo, destacando las más relevantes como precisión, recall, F1-score, etc. ¿Cuáles fueron los modelos más efectivos? ¿Qué diferencias notables encontró entre ellos?\n",
        "\n",
        "- **Impacto de las decisiones tomadas**: Reflexionen sobre cómo las decisiones relacionadas con el preprocesamiento, selección de atributos y optimización de hiperparámetros influyeron en los resultados finales. ¿Hubo alguna decisión que haya tenido un impacto notable en el rendimiento?\n",
        "\n",
        "- **Lecciones aprendidas**: Concluyan sobre las lecciones más importantes que aprendieron durante el proceso y cómo estas pueden influir en futuras iteraciones del modelo. ¿Qué se podría mejorar si se repitiera el proceso? Si tuvieran más recursos y tiempo, ¿qué otras técnicas/herramientas habrían utilizado?"
      ]
    },
    {
      "cell_type": "markdown",
      "metadata": {
        "id": "vGfIk298w-de"
      },
      "source": [
        "> [Escriba aquí sus resultados]\n",
        "\n",
        "1. La métrica más importante del Baseline (que en nuestro caso fue un Dummy Classifier con probabilidad uniforme y aleatoria de asignar una clase a otra) y para los otros tres modelos fue el F1-score weighted (debido a la presencia de desbalance de clases entre la 0 y la 1, es decir, entre la cantidad de personas que compraron al menos un producto y aquellas que no lo hicieron nunca): 0.64, 0.90, 0.93 y 0.95 aproximadamente para el baseline, logistic regression, xgboost classifier y el decision tree respectivamente. Por lo tanto el modelo más efectivo fue el decision tree. La diferencia más notable que hizo que el decision tree fuera más robusto es que aquel tenía hiperparámetros que controlaban el sobreajuste como la max_depth, max_leaf_nodes, etc. En cuanto a las otras métricas, vimos que en general para la clase 0 casi todas las métricas son cero para todos los modelos (aunque los tres modelos que vienen despues del dummy classifier subieron un poco las métricas), incluidas accuracy, recall, etc. mientras que para la clase 1 (como era de esperarse debido al desbalance de clases) el accuracy, precision y recall son cercanos a 1. Además, el logistic regressor necesita que los datos estén escalados de alguna manera, mientras que el decision tree es más robusto a los outliers. En cuanto al modelo decision tree con sus hiperparámetros optimizados por Optuna, podemos decir que supera en un 2% en cuanto al f1-score al decision tree original sin optimizar.\n",
        "\n",
        "2. En el preprocesamiento hicimos:\n",
        " - división del set de datos en train, validation y test tomando una fecha tal que uno fuera el 60, 20 y 20 por ciento. Esto está correctamente hecho porque los datos siempre deben ser separados en train/val/test antes de aplicar cualquier tipo de escalador, para evitar data leakag (puesto que queríamos hacer una tarea de clasificación).\n",
        " - hicimos un left join de las tres bases de datos que contenían las transacciones, los clientes y los productos, sobre todos los productos y transacciones que cada persona compró.\n",
        " - luego visualizamos los valores nulos de las tres datasets antes y despues del join.\n",
        "   En cuanto a la optimización de hiperparámetros: elegimos la mayor cantidad posible de hiperparámetros para que a priori el modelo superara al XGBoost, al Logistic Regressor y al Dummy Classifier. Sin embargo, algo que pudo tener impacto en la optimización fue el hecho de haber integrado en el estudio de Optuna el cambio de transformadores de columnas, imputadores y escaladores, incluyendo el OneHotEncoding.\n",
        "\n",
        "3. Algo que podemos aprender:\n",
        "    - La importancia de una feature por lo general está asociada a si ésta se ve directamente involucrada en la disminución del overfitting o aumento de la generalización y robustez del modelo. Además, es importante poder tener un modelo interpretable, razón por la que elejimos el modelo Decision Tree Classifier por sobre el XGBoost Classifier.\n",
        "    - Es necesario conocer bien el sesgo de un modelo, la interacción y causalidad entre las variables y también la interpretabilidad y la importancia de las diferentes variables en el funcionamiento interno del modelo. Aquí debimos usar modelos agnósticos de interpretabilidad princpalmente porque así no dependíamos del tipo de modelo.\n",
        "    - Por otro lado, algo que podríamos mejorar si repitiéramos el proceso sería:\n",
        "        - utilizar un modelo más robusto como el XGBoost Classifier pero con la mayor cantidad de hiperparámetros, con mayor espacio de optimización en cada uno de ellos y con mayor tiempo de realización del estudio de Optuna, porque a mayor tiempo de estudio mayor cantidad de trials y por ende de diferentes modelos o combinación de hiperparámetros.\n",
        "        - Otra técnica que podríamos haber utilizado si tuviésemos más tiempo hubiera sido [Ray Tune](https://docs.ray.io/en/latest/tune/index.html), que tiene la modalidad de poder darle a cada hiperparámetro una distribución de diferentes tipos para poder realizar la optimización. Además, podríamos utilizar variadas más, entre las cuales está por ejemplo [Hyperopt](https://www.analyticsvidhya.com/blog/2020/09/alternative-hyperparameter-optimization-technique-you-need-to-know-hyperopt/#bcd8) que es una librería poderosa de python desarrollada por James Bergstra. Por último, podríamos usar [FLAML](https://medium.com/@mouse3mic3/a-practical-guide-to-automated-machine-learning-in-python-using-flaml-c73a714887a4), desarrollado por Microsoft, que le permite al usuario saltarse la repetitiva tarea de preprocesar y de hacer fine tuning. Se usa para clasificación y regresión.\n",
        "        - elegir una o más métricas a minimizar, que en nuestro caso queríamos maximizar el f1-score weighted.\n",
        "        - podríamos buscar otras técnicas para balancear el dataset como [SMOTE](https://www-analyticsvidhya-com.translate.goog/blog/2020/10/overcoming-class-imbalance-using-smote-techniques/?_x_tr_sl=en&_x_tr_tl=es&_x_tr_hl=es&_x_tr_pto=tc), que consiste en crear datos sintéticos y poder obtener un modelo de clasificación con una matriz de confusión más simétrica, por ejemplo."
      ]
    },
    {
      "cell_type": "markdown",
      "metadata": {
        "id": "BLnd2uqMw-df"
      },
      "source": [
        "Mucho éxito!\n",
        "\n",
        "<center>\n",
        "<img src=\"https://media3.giphy.com/media/v1.Y2lkPTc5MGI3NjExaHpvOTY5Z3hpdHI3aDBpdGRueXRqamZncXp2emFrbjJ5M2s5eTR1dSZlcD12MV9pbnRlcm5hbF9naWZfYnlfaWQmY3Q9Zw/1PMVNNKVIL8Ig/giphy.gif\" width=\"300\" height=\"200\">\n"
      ]
    }
  ],
  "metadata": {
    "kernelspec": {
      "display_name": "Python 3",
      "language": "python",
      "name": "python3"
    },
    "language_info": {
      "codemirror_mode": {
        "name": "ipython",
        "version": 3
      },
      "file_extension": ".py",
      "mimetype": "text/x-python",
      "name": "python",
      "nbconvert_exporter": "python",
      "pygments_lexer": "ipython3",
      "version": "3.9.0"
    },
    "colab": {
      "provenance": [],
      "machine_shape": "hm"
    }
  },
  "nbformat": 4,
  "nbformat_minor": 0
}